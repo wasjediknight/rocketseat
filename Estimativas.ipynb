{
  "nbformat": 4,
  "nbformat_minor": 0,
  "metadata": {
    "colab": {
      "provenance": [],
      "include_colab_link": true
    },
    "kernelspec": {
      "name": "python3",
      "display_name": "Python 3"
    },
    "language_info": {
      "name": "python"
    }
  },
  "cells": [
    {
      "cell_type": "markdown",
      "metadata": {
        "id": "view-in-github",
        "colab_type": "text"
      },
      "source": [
        "<a href=\"https://colab.research.google.com/github/wasjediknight/rocketseat/blob/main/Estimativas.ipynb\" target=\"_parent\"><img src=\"https://colab.research.google.com/assets/colab-badge.svg\" alt=\"Open In Colab\"/></a>"
      ]
    },
    {
      "cell_type": "markdown",
      "metadata": {
        "id": "r3GV3FODCUzw"
      },
      "source": [
        "A atividade a ser desenvolvida no Colab deve conter as seguintes seções\n",
        "- Introdução\n",
        " * apresentar os dados que serão analisados\n",
        "- Regressão a serem utilizadas\n",
        " * Linear Simples e Múltipla\n",
        " * Linear Lasso + Rígida\n",
        " * Verificação de Colinearidade\n",
        " * Polinomial\n",
        "- Resultados e Discussão\n",
        " * discussão sobre os resultados obtidos\n",
        " * apresentando as vantagens e desvantagens nos algoritmos utilizados\n",
        "- Dificuldades e Desafios\n",
        " * apresentar as dificuldades encontradas e desafios superados para o\n",
        "desenvolvimento da atividade\n",
        "- Referência\n",
        " * artigos, livros, sites e outras fontes utilizadas\n",
        " * seguir o padrão ABNT"
      ]
    },
    {
      "cell_type": "code",
      "metadata": {
        "colab": {
          "base_uri": "https://localhost:8080/",
          "height": 348
        },
        "id": "UBmUYrIAh7hS",
        "outputId": "18b8de9c-ffd4-4a7b-9bdd-d0a929fa7754"
      },
      "source": [
        "# Main libraries\n",
        "import pandas as pd\n",
        "import numpy as np\n",
        "import seaborn as sns\n",
        "\n",
        "# Machine Learning libraries\n",
        "from sklearn.linear_model import LinearRegression, Ridge, Lasso\n",
        "from sklearn.model_selection import train_test_split\n",
        "\n",
        "# Preprocessig libraries\n",
        "from sklearn.preprocessing import MinMaxScaler, PolynomialFeatures\n",
        "\n",
        "# Visual libraries\n",
        "import plotly.graph_objs as go\n",
        "from yellowbrick.regressor import ResidualsPlot\n",
        "import plotly.figure_factory as ff\n",
        "from plotly.offline import iplot\n",
        "from matplotlib import pyplot as plt\n",
        "import plotly.offline as py\n",
        "\n",
        "# Statistical library\n",
        "import statsmodels.api as sm\n",
        "\n",
        "# Upload data library\n",
        "\n",
        "from google.colab import drive\n",
        "drive.mount('/content/gdrive')\n",
        "\n",
        "est = pd.read_csv('gdrive/My Drive/TRF/historicov3.csv',encoding='latin1') #charset\n",
        "\n",
        "#est.head()\n",
        "est = est[est['tipo_os']=='Manutencao Evolutiva']\n",
        "\n",
        "est = est[est['descricao']=='OS faturada']\n",
        "est = est[est['linguagem_programacao']=='PHP']\n",
        "\n",
        "#est = est[est['id_os']!='ESOCIAL-2262']\n",
        "#est = est[est['id_os']!='JEFVIRTUAL-79']\n",
        "\n",
        "X = est.iloc[:,5:8].values\n",
        "y = est.iloc[:,4].values\n",
        "\n",
        "est.head()"
      ],
      "execution_count": 6,
      "outputs": [
        {
          "output_type": "stream",
          "name": "stdout",
          "text": [
            "Drive already mounted at /content/gdrive; to attempt to forcibly remount, call drive.mount(\"/content/gdrive\", force_remount=True).\n"
          ]
        },
        {
          "output_type": "execute_result",
          "data": {
            "text/plain": [
              "        id          id_os               tipo_os linguagem_programacao  \\\n",
              "902  26014  EORCAMENTO-26  Manutencao Evolutiva                   PHP   \n",
              "903  26016   EORCAMENTO-2  Manutencao Evolutiva                   PHP   \n",
              "904  26021   EORCAMENTO-1  Manutencao Evolutiva                   PHP   \n",
              "905  26022  EORCAMENTO-28  Manutencao Evolutiva                   PHP   \n",
              "906  26026  EORCAMENTO-33  Manutencao Evolutiva                   PHP   \n",
              "\n",
              "     prazo_contratual_dias_uteis  contagem_estimada_pf  contagem_bruta_pf_fsw  \\\n",
              "902                         80.0                  72.0                   71.0   \n",
              "903                         10.0                   5.0                    5.0   \n",
              "904                         10.0                   4.0                    7.0   \n",
              "905                         10.0                   5.0                    6.0   \n",
              "906                         10.0                   5.0                    6.0   \n",
              "\n",
              "     contagem_liquida_ajustada_pf_fsw    descricao tempo_fsw_dias_uteis  \\\n",
              "902                              42.6  OS faturada            5d 6h 22m   \n",
              "903                               3.0  OS faturada             7d 1h 7m   \n",
              "904                               4.2  OS faturada            6d 0h 19m   \n",
              "905                               3.6  OS faturada            6d 5h 45m   \n",
              "906                               3.6  OS faturada             1d 6h 9m   \n",
              "\n",
              "    tempo_trf1_dias_uteis tempo_fsw_dias_corridos_exclui_feriados  \\\n",
              "902           132d 9h 58m                               7d 6h 22m   \n",
              "903           168d 8h 58m                                9d 1h 7m   \n",
              "904           111d 8h 58m                               8d 0h 19m   \n",
              "905           111d 8h 53m                               8d 5h 45m   \n",
              "906           116d 8h 51m                                1d 6h 9m   \n",
              "\n",
              "    tempo_trf1-d_corr_inc_fer  tempo_fws_seg_uteis  tempo_trf1_seg_uteis  \\\n",
              "902               374d 6h 58m               256920               6213500   \n",
              "903               468d 7h 58m               331620               7894690   \n",
              "904               313d 6h 58m               281940               5227110   \n",
              "905               313d 6h 53m               301500               5226830   \n",
              "906               326d 5h 51m                68940               5460710   \n",
              "\n",
              "     tempo_fsw_seg_corr_exc_fer  tempo_trf1_seg_corr_inc_feriados  \n",
              "902                      627720                          17528300  \n",
              "903                      781620                          21931100  \n",
              "904                      692340                          14673500  \n",
              "905                      711900                          14673200  \n",
              "906                      108540                          15277900  "
            ],
            "text/html": [
              "\n",
              "  <div id=\"df-75d05edf-79c6-4ea8-bc57-0c85e8ee3a30\" class=\"colab-df-container\">\n",
              "    <div>\n",
              "<style scoped>\n",
              "    .dataframe tbody tr th:only-of-type {\n",
              "        vertical-align: middle;\n",
              "    }\n",
              "\n",
              "    .dataframe tbody tr th {\n",
              "        vertical-align: top;\n",
              "    }\n",
              "\n",
              "    .dataframe thead th {\n",
              "        text-align: right;\n",
              "    }\n",
              "</style>\n",
              "<table border=\"1\" class=\"dataframe\">\n",
              "  <thead>\n",
              "    <tr style=\"text-align: right;\">\n",
              "      <th></th>\n",
              "      <th>id</th>\n",
              "      <th>id_os</th>\n",
              "      <th>tipo_os</th>\n",
              "      <th>linguagem_programacao</th>\n",
              "      <th>prazo_contratual_dias_uteis</th>\n",
              "      <th>contagem_estimada_pf</th>\n",
              "      <th>contagem_bruta_pf_fsw</th>\n",
              "      <th>contagem_liquida_ajustada_pf_fsw</th>\n",
              "      <th>descricao</th>\n",
              "      <th>tempo_fsw_dias_uteis</th>\n",
              "      <th>tempo_trf1_dias_uteis</th>\n",
              "      <th>tempo_fsw_dias_corridos_exclui_feriados</th>\n",
              "      <th>tempo_trf1-d_corr_inc_fer</th>\n",
              "      <th>tempo_fws_seg_uteis</th>\n",
              "      <th>tempo_trf1_seg_uteis</th>\n",
              "      <th>tempo_fsw_seg_corr_exc_fer</th>\n",
              "      <th>tempo_trf1_seg_corr_inc_feriados</th>\n",
              "    </tr>\n",
              "  </thead>\n",
              "  <tbody>\n",
              "    <tr>\n",
              "      <th>902</th>\n",
              "      <td>26014</td>\n",
              "      <td>EORCAMENTO-26</td>\n",
              "      <td>Manutencao Evolutiva</td>\n",
              "      <td>PHP</td>\n",
              "      <td>80.0</td>\n",
              "      <td>72.0</td>\n",
              "      <td>71.0</td>\n",
              "      <td>42.6</td>\n",
              "      <td>OS faturada</td>\n",
              "      <td>5d 6h 22m</td>\n",
              "      <td>132d 9h 58m</td>\n",
              "      <td>7d 6h 22m</td>\n",
              "      <td>374d 6h 58m</td>\n",
              "      <td>256920</td>\n",
              "      <td>6213500</td>\n",
              "      <td>627720</td>\n",
              "      <td>17528300</td>\n",
              "    </tr>\n",
              "    <tr>\n",
              "      <th>903</th>\n",
              "      <td>26016</td>\n",
              "      <td>EORCAMENTO-2</td>\n",
              "      <td>Manutencao Evolutiva</td>\n",
              "      <td>PHP</td>\n",
              "      <td>10.0</td>\n",
              "      <td>5.0</td>\n",
              "      <td>5.0</td>\n",
              "      <td>3.0</td>\n",
              "      <td>OS faturada</td>\n",
              "      <td>7d 1h 7m</td>\n",
              "      <td>168d 8h 58m</td>\n",
              "      <td>9d 1h 7m</td>\n",
              "      <td>468d 7h 58m</td>\n",
              "      <td>331620</td>\n",
              "      <td>7894690</td>\n",
              "      <td>781620</td>\n",
              "      <td>21931100</td>\n",
              "    </tr>\n",
              "    <tr>\n",
              "      <th>904</th>\n",
              "      <td>26021</td>\n",
              "      <td>EORCAMENTO-1</td>\n",
              "      <td>Manutencao Evolutiva</td>\n",
              "      <td>PHP</td>\n",
              "      <td>10.0</td>\n",
              "      <td>4.0</td>\n",
              "      <td>7.0</td>\n",
              "      <td>4.2</td>\n",
              "      <td>OS faturada</td>\n",
              "      <td>6d 0h 19m</td>\n",
              "      <td>111d 8h 58m</td>\n",
              "      <td>8d 0h 19m</td>\n",
              "      <td>313d 6h 58m</td>\n",
              "      <td>281940</td>\n",
              "      <td>5227110</td>\n",
              "      <td>692340</td>\n",
              "      <td>14673500</td>\n",
              "    </tr>\n",
              "    <tr>\n",
              "      <th>905</th>\n",
              "      <td>26022</td>\n",
              "      <td>EORCAMENTO-28</td>\n",
              "      <td>Manutencao Evolutiva</td>\n",
              "      <td>PHP</td>\n",
              "      <td>10.0</td>\n",
              "      <td>5.0</td>\n",
              "      <td>6.0</td>\n",
              "      <td>3.6</td>\n",
              "      <td>OS faturada</td>\n",
              "      <td>6d 5h 45m</td>\n",
              "      <td>111d 8h 53m</td>\n",
              "      <td>8d 5h 45m</td>\n",
              "      <td>313d 6h 53m</td>\n",
              "      <td>301500</td>\n",
              "      <td>5226830</td>\n",
              "      <td>711900</td>\n",
              "      <td>14673200</td>\n",
              "    </tr>\n",
              "    <tr>\n",
              "      <th>906</th>\n",
              "      <td>26026</td>\n",
              "      <td>EORCAMENTO-33</td>\n",
              "      <td>Manutencao Evolutiva</td>\n",
              "      <td>PHP</td>\n",
              "      <td>10.0</td>\n",
              "      <td>5.0</td>\n",
              "      <td>6.0</td>\n",
              "      <td>3.6</td>\n",
              "      <td>OS faturada</td>\n",
              "      <td>1d 6h 9m</td>\n",
              "      <td>116d 8h 51m</td>\n",
              "      <td>1d 6h 9m</td>\n",
              "      <td>326d 5h 51m</td>\n",
              "      <td>68940</td>\n",
              "      <td>5460710</td>\n",
              "      <td>108540</td>\n",
              "      <td>15277900</td>\n",
              "    </tr>\n",
              "  </tbody>\n",
              "</table>\n",
              "</div>\n",
              "    <div class=\"colab-df-buttons\">\n",
              "\n",
              "  <div class=\"colab-df-container\">\n",
              "    <button class=\"colab-df-convert\" onclick=\"convertToInteractive('df-75d05edf-79c6-4ea8-bc57-0c85e8ee3a30')\"\n",
              "            title=\"Convert this dataframe to an interactive table.\"\n",
              "            style=\"display:none;\">\n",
              "\n",
              "  <svg xmlns=\"http://www.w3.org/2000/svg\" height=\"24px\" viewBox=\"0 -960 960 960\">\n",
              "    <path d=\"M120-120v-720h720v720H120Zm60-500h600v-160H180v160Zm220 220h160v-160H400v160Zm0 220h160v-160H400v160ZM180-400h160v-160H180v160Zm440 0h160v-160H620v160ZM180-180h160v-160H180v160Zm440 0h160v-160H620v160Z\"/>\n",
              "  </svg>\n",
              "    </button>\n",
              "\n",
              "  <style>\n",
              "    .colab-df-container {\n",
              "      display:flex;\n",
              "      gap: 12px;\n",
              "    }\n",
              "\n",
              "    .colab-df-convert {\n",
              "      background-color: #E8F0FE;\n",
              "      border: none;\n",
              "      border-radius: 50%;\n",
              "      cursor: pointer;\n",
              "      display: none;\n",
              "      fill: #1967D2;\n",
              "      height: 32px;\n",
              "      padding: 0 0 0 0;\n",
              "      width: 32px;\n",
              "    }\n",
              "\n",
              "    .colab-df-convert:hover {\n",
              "      background-color: #E2EBFA;\n",
              "      box-shadow: 0px 1px 2px rgba(60, 64, 67, 0.3), 0px 1px 3px 1px rgba(60, 64, 67, 0.15);\n",
              "      fill: #174EA6;\n",
              "    }\n",
              "\n",
              "    .colab-df-buttons div {\n",
              "      margin-bottom: 4px;\n",
              "    }\n",
              "\n",
              "    [theme=dark] .colab-df-convert {\n",
              "      background-color: #3B4455;\n",
              "      fill: #D2E3FC;\n",
              "    }\n",
              "\n",
              "    [theme=dark] .colab-df-convert:hover {\n",
              "      background-color: #434B5C;\n",
              "      box-shadow: 0px 1px 3px 1px rgba(0, 0, 0, 0.15);\n",
              "      filter: drop-shadow(0px 1px 2px rgba(0, 0, 0, 0.3));\n",
              "      fill: #FFFFFF;\n",
              "    }\n",
              "  </style>\n",
              "\n",
              "    <script>\n",
              "      const buttonEl =\n",
              "        document.querySelector('#df-75d05edf-79c6-4ea8-bc57-0c85e8ee3a30 button.colab-df-convert');\n",
              "      buttonEl.style.display =\n",
              "        google.colab.kernel.accessAllowed ? 'block' : 'none';\n",
              "\n",
              "      async function convertToInteractive(key) {\n",
              "        const element = document.querySelector('#df-75d05edf-79c6-4ea8-bc57-0c85e8ee3a30');\n",
              "        const dataTable =\n",
              "          await google.colab.kernel.invokeFunction('convertToInteractive',\n",
              "                                                    [key], {});\n",
              "        if (!dataTable) return;\n",
              "\n",
              "        const docLinkHtml = 'Like what you see? Visit the ' +\n",
              "          '<a target=\"_blank\" href=https://colab.research.google.com/notebooks/data_table.ipynb>data table notebook</a>'\n",
              "          + ' to learn more about interactive tables.';\n",
              "        element.innerHTML = '';\n",
              "        dataTable['output_type'] = 'display_data';\n",
              "        await google.colab.output.renderOutput(dataTable, element);\n",
              "        const docLink = document.createElement('div');\n",
              "        docLink.innerHTML = docLinkHtml;\n",
              "        element.appendChild(docLink);\n",
              "      }\n",
              "    </script>\n",
              "  </div>\n",
              "\n",
              "\n",
              "    <div id=\"df-7d27cdb9-8e99-46b2-a6f7-40bb5c955319\">\n",
              "      <button class=\"colab-df-quickchart\" onclick=\"quickchart('df-7d27cdb9-8e99-46b2-a6f7-40bb5c955319')\"\n",
              "                title=\"Suggest charts\"\n",
              "                style=\"display:none;\">\n",
              "\n",
              "<svg xmlns=\"http://www.w3.org/2000/svg\" height=\"24px\"viewBox=\"0 0 24 24\"\n",
              "     width=\"24px\">\n",
              "    <g>\n",
              "        <path d=\"M19 3H5c-1.1 0-2 .9-2 2v14c0 1.1.9 2 2 2h14c1.1 0 2-.9 2-2V5c0-1.1-.9-2-2-2zM9 17H7v-7h2v7zm4 0h-2V7h2v10zm4 0h-2v-4h2v4z\"/>\n",
              "    </g>\n",
              "</svg>\n",
              "      </button>\n",
              "\n",
              "<style>\n",
              "  .colab-df-quickchart {\n",
              "      --bg-color: #E8F0FE;\n",
              "      --fill-color: #1967D2;\n",
              "      --hover-bg-color: #E2EBFA;\n",
              "      --hover-fill-color: #174EA6;\n",
              "      --disabled-fill-color: #AAA;\n",
              "      --disabled-bg-color: #DDD;\n",
              "  }\n",
              "\n",
              "  [theme=dark] .colab-df-quickchart {\n",
              "      --bg-color: #3B4455;\n",
              "      --fill-color: #D2E3FC;\n",
              "      --hover-bg-color: #434B5C;\n",
              "      --hover-fill-color: #FFFFFF;\n",
              "      --disabled-bg-color: #3B4455;\n",
              "      --disabled-fill-color: #666;\n",
              "  }\n",
              "\n",
              "  .colab-df-quickchart {\n",
              "    background-color: var(--bg-color);\n",
              "    border: none;\n",
              "    border-radius: 50%;\n",
              "    cursor: pointer;\n",
              "    display: none;\n",
              "    fill: var(--fill-color);\n",
              "    height: 32px;\n",
              "    padding: 0;\n",
              "    width: 32px;\n",
              "  }\n",
              "\n",
              "  .colab-df-quickchart:hover {\n",
              "    background-color: var(--hover-bg-color);\n",
              "    box-shadow: 0 1px 2px rgba(60, 64, 67, 0.3), 0 1px 3px 1px rgba(60, 64, 67, 0.15);\n",
              "    fill: var(--button-hover-fill-color);\n",
              "  }\n",
              "\n",
              "  .colab-df-quickchart-complete:disabled,\n",
              "  .colab-df-quickchart-complete:disabled:hover {\n",
              "    background-color: var(--disabled-bg-color);\n",
              "    fill: var(--disabled-fill-color);\n",
              "    box-shadow: none;\n",
              "  }\n",
              "\n",
              "  .colab-df-spinner {\n",
              "    border: 2px solid var(--fill-color);\n",
              "    border-color: transparent;\n",
              "    border-bottom-color: var(--fill-color);\n",
              "    animation:\n",
              "      spin 1s steps(1) infinite;\n",
              "  }\n",
              "\n",
              "  @keyframes spin {\n",
              "    0% {\n",
              "      border-color: transparent;\n",
              "      border-bottom-color: var(--fill-color);\n",
              "      border-left-color: var(--fill-color);\n",
              "    }\n",
              "    20% {\n",
              "      border-color: transparent;\n",
              "      border-left-color: var(--fill-color);\n",
              "      border-top-color: var(--fill-color);\n",
              "    }\n",
              "    30% {\n",
              "      border-color: transparent;\n",
              "      border-left-color: var(--fill-color);\n",
              "      border-top-color: var(--fill-color);\n",
              "      border-right-color: var(--fill-color);\n",
              "    }\n",
              "    40% {\n",
              "      border-color: transparent;\n",
              "      border-right-color: var(--fill-color);\n",
              "      border-top-color: var(--fill-color);\n",
              "    }\n",
              "    60% {\n",
              "      border-color: transparent;\n",
              "      border-right-color: var(--fill-color);\n",
              "    }\n",
              "    80% {\n",
              "      border-color: transparent;\n",
              "      border-right-color: var(--fill-color);\n",
              "      border-bottom-color: var(--fill-color);\n",
              "    }\n",
              "    90% {\n",
              "      border-color: transparent;\n",
              "      border-bottom-color: var(--fill-color);\n",
              "    }\n",
              "  }\n",
              "</style>\n",
              "\n",
              "      <script>\n",
              "        async function quickchart(key) {\n",
              "          const quickchartButtonEl =\n",
              "            document.querySelector('#' + key + ' button');\n",
              "          quickchartButtonEl.disabled = true;  // To prevent multiple clicks.\n",
              "          quickchartButtonEl.classList.add('colab-df-spinner');\n",
              "          try {\n",
              "            const charts = await google.colab.kernel.invokeFunction(\n",
              "                'suggestCharts', [key], {});\n",
              "          } catch (error) {\n",
              "            console.error('Error during call to suggestCharts:', error);\n",
              "          }\n",
              "          quickchartButtonEl.classList.remove('colab-df-spinner');\n",
              "          quickchartButtonEl.classList.add('colab-df-quickchart-complete');\n",
              "        }\n",
              "        (() => {\n",
              "          let quickchartButtonEl =\n",
              "            document.querySelector('#df-7d27cdb9-8e99-46b2-a6f7-40bb5c955319 button');\n",
              "          quickchartButtonEl.style.display =\n",
              "            google.colab.kernel.accessAllowed ? 'block' : 'none';\n",
              "        })();\n",
              "      </script>\n",
              "    </div>\n",
              "\n",
              "    </div>\n",
              "  </div>\n"
            ],
            "application/vnd.google.colaboratory.intrinsic+json": {
              "type": "dataframe",
              "variable_name": "est",
              "summary": "{\n  \"name\": \"est\",\n  \"rows\": 70,\n  \"fields\": [\n    {\n      \"column\": \"id\",\n      \"properties\": {\n        \"dtype\": \"number\",\n        \"std\": 10204,\n        \"min\": 26014,\n        \"max\": 55139,\n        \"num_unique_values\": 70,\n        \"samples\": [\n          26417,\n          26014,\n          40960\n        ],\n        \"semantic_type\": \"\",\n        \"description\": \"\"\n      }\n    },\n    {\n      \"column\": \"id_os\",\n      \"properties\": {\n        \"dtype\": \"string\",\n        \"num_unique_values\": 70,\n        \"samples\": [\n          \"ESMAF-64\",\n          \"EORCAMENTO-26\",\n          \"MAGISTRATU-136\"\n        ],\n        \"semantic_type\": \"\",\n        \"description\": \"\"\n      }\n    },\n    {\n      \"column\": \"tipo_os\",\n      \"properties\": {\n        \"dtype\": \"category\",\n        \"num_unique_values\": 1,\n        \"samples\": [\n          \"Manutencao Evolutiva\"\n        ],\n        \"semantic_type\": \"\",\n        \"description\": \"\"\n      }\n    },\n    {\n      \"column\": \"linguagem_programacao\",\n      \"properties\": {\n        \"dtype\": \"category\",\n        \"num_unique_values\": 1,\n        \"samples\": [\n          \"PHP\"\n        ],\n        \"semantic_type\": \"\",\n        \"description\": \"\"\n      }\n    },\n    {\n      \"column\": \"prazo_contratual_dias_uteis\",\n      \"properties\": {\n        \"dtype\": \"number\",\n        \"std\": 32.56126889241358,\n        \"min\": 10.0,\n        \"max\": 142.0,\n        \"num_unique_values\": 13,\n        \"samples\": [\n          128.0\n        ],\n        \"semantic_type\": \"\",\n        \"description\": \"\"\n      }\n    },\n    {\n      \"column\": \"contagem_estimada_pf\",\n      \"properties\": {\n        \"dtype\": \"number\",\n        \"std\": 36.97473470102497,\n        \"min\": 4.0,\n        \"max\": 179.0,\n        \"num_unique_values\": 30,\n        \"samples\": [\n          32.0\n        ],\n        \"semantic_type\": \"\",\n        \"description\": \"\"\n      }\n    },\n    {\n      \"column\": \"contagem_bruta_pf_fsw\",\n      \"properties\": {\n        \"dtype\": \"number\",\n        \"std\": 50.4821513563889,\n        \"min\": 0.01,\n        \"max\": 307.0,\n        \"num_unique_values\": 44,\n        \"samples\": [\n          1.2\n        ],\n        \"semantic_type\": \"\",\n        \"description\": \"\"\n      }\n    },\n    {\n      \"column\": \"contagem_liquida_ajustada_pf_fsw\",\n      \"properties\": {\n        \"dtype\": \"number\",\n        \"std\": 23.81941431832254,\n        \"min\": 0.01,\n        \"max\": 105.6,\n        \"num_unique_values\": 56,\n        \"samples\": [\n          42.6\n        ],\n        \"semantic_type\": \"\",\n        \"description\": \"\"\n      }\n    },\n    {\n      \"column\": \"descricao\",\n      \"properties\": {\n        \"dtype\": \"category\",\n        \"num_unique_values\": 1,\n        \"samples\": [\n          \"OS faturada\"\n        ],\n        \"semantic_type\": \"\",\n        \"description\": \"\"\n      }\n    },\n    {\n      \"column\": \"tempo_fsw_dias_uteis\",\n      \"properties\": {\n        \"dtype\": \"string\",\n        \"num_unique_values\": 70,\n        \"samples\": [\n          \"74d 0h 6m\"\n        ],\n        \"semantic_type\": \"\",\n        \"description\": \"\"\n      }\n    },\n    {\n      \"column\": \"tempo_trf1_dias_uteis\",\n      \"properties\": {\n        \"dtype\": \"string\",\n        \"num_unique_values\": 70,\n        \"samples\": [\n          \"248d 6h 32m\"\n        ],\n        \"semantic_type\": \"\",\n        \"description\": \"\"\n      }\n    },\n    {\n      \"column\": \"tempo_fsw_dias_corridos_exclui_feriados\",\n      \"properties\": {\n        \"dtype\": \"string\",\n        \"num_unique_values\": 70,\n        \"samples\": [\n          \"100d 2h 6m\"\n        ],\n        \"semantic_type\": \"\",\n        \"description\": \"\"\n      }\n    },\n    {\n      \"column\": \"tempo_trf1-d_corr_inc_fer\",\n      \"properties\": {\n        \"dtype\": \"string\",\n        \"num_unique_values\": 70,\n        \"samples\": [\n          \"679d 9h 32m\"\n        ],\n        \"semantic_type\": \"\",\n        \"description\": \"\"\n      }\n    },\n    {\n      \"column\": \"tempo_fws_seg_uteis\",\n      \"properties\": {\n        \"dtype\": \"number\",\n        \"std\": 2195374,\n        \"min\": 68940,\n        \"max\": 8962300,\n        \"num_unique_values\": 70,\n        \"samples\": [\n          3463580\n        ],\n        \"semantic_type\": \"\",\n        \"description\": \"\"\n      }\n    },\n    {\n      \"column\": \"tempo_trf1_seg_uteis\",\n      \"properties\": {\n        \"dtype\": \"number\",\n        \"std\": 3029534,\n        \"min\": 211062,\n        \"max\": 15686400,\n        \"num_unique_values\": 70,\n        \"samples\": [\n          11630000\n        ],\n        \"semantic_type\": \"\",\n        \"description\": \"\"\n      }\n    },\n    {\n      \"column\": \"tempo_fsw_seg_corr_exc_fer\",\n      \"properties\": {\n        \"dtype\": \"number\",\n        \"std\": 5709709,\n        \"min\": 108540,\n        \"max\": 23650300,\n        \"num_unique_values\": 70,\n        \"samples\": [\n          8647580\n        ],\n        \"semantic_type\": \"\",\n        \"description\": \"\"\n      }\n    },\n    {\n      \"column\": \"tempo_trf1_seg_corr_inc_feriados\",\n      \"properties\": {\n        \"dtype\": \"number\",\n        \"std\": 8111416,\n        \"min\": 1370820,\n        \"max\": 42909600,\n        \"num_unique_values\": 70,\n        \"samples\": [\n          31811600\n        ],\n        \"semantic_type\": \"\",\n        \"description\": \"\"\n      }\n    }\n  ]\n}"
            }
          },
          "metadata": {},
          "execution_count": 6
        }
      ]
    },
    {
      "cell_type": "markdown",
      "metadata": {
        "id": "kgkgtKH5nn1a"
      },
      "source": [
        "**Análise**\n",
        "\n",
        "A base de dados tem 470 estimativas dos mais variados projetos, para fins do trabalho selecionei apenas estimativas de projetos da fábrica em PHP que são 70 projetos como mostrado acima na contagem."
      ]
    },
    {
      "cell_type": "code",
      "metadata": {
        "colab": {
          "base_uri": "https://localhost:8080/",
          "height": 594
        },
        "id": "pWXo_h82lbOJ",
        "outputId": "012dcd85-8f8d-416f-9686-322236298592"
      },
      "source": [
        "#est = est[est['tipo_os']=='Ordem de Servico']\n",
        "#est = est[est['tipo_os']=='Manutencao Evolutiva']\n",
        "\n",
        "#est = est[est['descricao']=='OS faturada']\n",
        "\n",
        "X = est.iloc[:,5:8].values\n",
        "y = est.iloc[:,4].values\n",
        "\n",
        "#print(X)\n",
        "\n",
        "cont_est = np.reshape(X[:,0], (-1,1))\n",
        "cont_bruta = np.reshape(X[:,1], (-1,1))\n",
        "cont_liq = np.reshape(X[:,2], (-1,1))\n",
        "\n",
        "\n",
        "#print(cont_bruta)\n",
        "#\n",
        "cont_est_lr = LinearRegression()\n",
        "cont_est_lr.fit(cont_est, y)\n",
        "\n",
        "#\n",
        "cont_bruta_lr = LinearRegression()\n",
        "cont_bruta_lr.fit(cont_bruta, y)\n",
        "\n",
        "\n",
        "#\n",
        "cont_liq_lr = LinearRegression()\n",
        "cont_liq_lr.fit(cont_liq, y)\n",
        "\n",
        "fig = go.Figure()\n",
        "\n",
        "fig.add_trace(go.Scatter(x=cont_bruta.T[0], y=y, name='cont_bruta', mode='markers'))\n",
        "fig.add_trace(go.Scatter(x=cont_est.T[0], y=y, name='cont_est', mode='markers'))\n",
        "fig.add_trace(go.Scatter(x=cont_liq.T[0], y=y, name='cont_liq', mode='markers'))\n",
        "\n",
        "fig.add_trace(go.Scatter(x=cont_bruta.T[0], y=cont_bruta_lr.predict(cont_bruta), mode='lines', name='cont_bruta'))\n",
        "fig.add_trace(go.Scatter(x=cont_est.T[0], y=cont_est_lr.predict(cont_est), mode='lines', name='cont_est'))\n",
        "fig.add_trace(go.Scatter(x=cont_liq.T[0], y=cont_liq_lr.predict(cont_liq), mode='lines', name='cont_liq'))\n",
        "\n",
        "fig.update_layout(xaxis={\"title\": \"Contagem\"},\n",
        "                  yaxis={\"title\": \"Prazo em Dias\"})\n",
        "\n",
        "fig.show()\n",
        "\n",
        "print(cont_bruta_lr.predict([[200.0]]))\n",
        "print(cont_bruta_lr.coef_[0], cont_bruta_lr.intercept_ )\n",
        "print(cont_est_lr.coef_[0], cont_est_lr.intercept_ )"
      ],
      "execution_count": 7,
      "outputs": [
        {
          "output_type": "display_data",
          "data": {
            "text/html": [
              "<html>\n",
              "<head><meta charset=\"utf-8\" /></head>\n",
              "<body>\n",
              "    <div>            <script src=\"https://cdnjs.cloudflare.com/ajax/libs/mathjax/2.7.5/MathJax.js?config=TeX-AMS-MML_SVG\"></script><script type=\"text/javascript\">if (window.MathJax && window.MathJax.Hub && window.MathJax.Hub.Config) {window.MathJax.Hub.Config({SVG: {font: \"STIX-Web\"}});}</script>                <script type=\"text/javascript\">window.PlotlyConfig = {MathJaxConfig: 'local'};</script>\n",
              "        <script charset=\"utf-8\" src=\"https://cdn.plot.ly/plotly-2.35.2.min.js\"></script>                <div id=\"821c6964-e88d-4ead-b166-2e4f0afd89ae\" class=\"plotly-graph-div\" style=\"height:525px; width:100%;\"></div>            <script type=\"text/javascript\">                                    window.PLOTLYENV=window.PLOTLYENV || {};                                    if (document.getElementById(\"821c6964-e88d-4ead-b166-2e4f0afd89ae\")) {                    Plotly.newPlot(                        \"821c6964-e88d-4ead-b166-2e4f0afd89ae\",                        [{\"mode\":\"markers\",\"name\":\"cont_bruta\",\"x\":[71.0,5.0,7.0,6.0,6.0,89.0,20.0,5.0,28.0,23.0,6.0,4.0,12.0,26.0,6.0,59.0,7.0,88.0,17.0,1.0,178.2,0.01,151.1,10.0,22.0,35.0,3.0,6.0,7.0,11.0,15.0,7.0,64.0,7.0,12.6,95.0,37.0,28.0,21.0,6.0,54.0,73.0,35.0,4.0,39.0,26.0,20.0,14.0,3.0,5.0,42.0,28.0,115.0,31.0,8.0,1.2,164.0,30.0,38.0,3.0,53.0,6.0,31.0,3.0,3.0,75.0,15.0,42.0,307.0,28.0],\"y\":[80.0,10.0,10.0,10.0,10.0,116.0,10.0,10.0,20.0,30.0,10.0,10.0,10.0,20.0,10.0,60.0,10.0,80.0,20.0,10.0,142.0,20.0,50.0,20.0,60.0,30.0,10.0,10.0,10.0,20.0,30.0,10.0,40.0,10.0,10.0,90.0,30.0,10.0,10.0,10.0,40.0,70.0,10.0,10.0,20.0,20.0,70.0,20.0,20.0,10.0,30.0,20.0,30.0,30.0,10.0,20.0,128.0,30.0,30.0,10.0,60.0,10.0,40.0,10.0,10.0,80.0,20.0,60.0,141.0,20.0],\"type\":\"scatter\"},{\"mode\":\"markers\",\"name\":\"cont_est\",\"x\":[72.0,5.0,4.0,5.0,5.0,101.0,4.0,5.0,20.0,24.0,4.0,4.0,4.0,12.0,4.0,53.0,5.0,75.0,17.0,5.0,179.0,12.0,47.0,13.0,54.0,25.0,4.0,5.0,4.0,12.0,23.0,4.0,40.0,5.0,4.6,89.0,24.0,8.0,4.0,7.0,35.0,63.0,8.0,5.0,16.0,16.0,63.0,12.0,13.0,4.0,24.0,16.0,28.0,26.0,8.0,20.0,133.6,24.0,28.0,8.0,53.0,8.0,32.0,5.0,4.0,75.0,16.0,52.0,175.0,12.0],\"y\":[80.0,10.0,10.0,10.0,10.0,116.0,10.0,10.0,20.0,30.0,10.0,10.0,10.0,20.0,10.0,60.0,10.0,80.0,20.0,10.0,142.0,20.0,50.0,20.0,60.0,30.0,10.0,10.0,10.0,20.0,30.0,10.0,40.0,10.0,10.0,90.0,30.0,10.0,10.0,10.0,40.0,70.0,10.0,10.0,20.0,20.0,70.0,20.0,20.0,10.0,30.0,20.0,30.0,30.0,10.0,20.0,128.0,30.0,30.0,10.0,60.0,10.0,40.0,10.0,10.0,80.0,20.0,60.0,141.0,20.0],\"type\":\"scatter\"},{\"mode\":\"markers\",\"name\":\"cont_liq\",\"x\":[42.6,3.0,4.2,3.6,3.6,71.2,16.0,3.0,16.8,11.96,3.6,2.08,6.24,10.4,2.4,42.6,2.8,53.88,12.6,0.8,105.6,0.01,101.28,5.2,13.2,21.0,1.8,3.6,4.2,7.2,7.8,3.64,34.4,3.64,6.72,45.92,19.24,14.56,8.4,4.8,33.8,45.8,18.2,2.4,19.68,13.52,16.0,7.28,1.2,4.0,16.8,11.2,49.2,12.4,4.16,0.96,92.0,15.6,19.76,2.4,27.2,4.8,24.8,2.4,2.4,3.75,6.36,23.24,73.68,16.52],\"y\":[80.0,10.0,10.0,10.0,10.0,116.0,10.0,10.0,20.0,30.0,10.0,10.0,10.0,20.0,10.0,60.0,10.0,80.0,20.0,10.0,142.0,20.0,50.0,20.0,60.0,30.0,10.0,10.0,10.0,20.0,30.0,10.0,40.0,10.0,10.0,90.0,30.0,10.0,10.0,10.0,40.0,70.0,10.0,10.0,20.0,20.0,70.0,20.0,20.0,10.0,30.0,20.0,30.0,30.0,10.0,20.0,128.0,30.0,30.0,10.0,60.0,10.0,40.0,10.0,10.0,80.0,20.0,60.0,141.0,20.0],\"type\":\"scatter\"},{\"mode\":\"lines\",\"name\":\"cont_bruta\",\"x\":[71.0,5.0,7.0,6.0,6.0,89.0,20.0,5.0,28.0,23.0,6.0,4.0,12.0,26.0,6.0,59.0,7.0,88.0,17.0,1.0,178.2,0.01,151.1,10.0,22.0,35.0,3.0,6.0,7.0,11.0,15.0,7.0,64.0,7.0,12.6,95.0,37.0,28.0,21.0,6.0,54.0,73.0,35.0,4.0,39.0,26.0,20.0,14.0,3.0,5.0,42.0,28.0,115.0,31.0,8.0,1.2,164.0,30.0,38.0,3.0,53.0,6.0,31.0,3.0,3.0,75.0,15.0,42.0,307.0,28.0],\"y\":[51.373322497071925,15.351189660872784,16.44276944378791,15.896979552330347,15.896979552330347,61.197540543308065,23.538038032736225,15.351189660872784,27.90435716439673,25.175407707108917,15.896979552330347,14.80539976941522,19.17171890107572,26.812777381481602,15.896979552330347,44.823843799581184,16.44276944378791,60.651750651850506,21.90066835836354,13.168030095042532,109.88199886132266,12.627698102499545,95.09109280282271,18.0801391181606,24.62961781565135,31.72488640459967,14.259609877957658,15.896979552330347,16.44276944378791,18.62592900961816,20.809088575448413,16.44276944378791,47.552793256868995,16.44276944378791,19.49919283595026,64.47227989205344,32.81646618751479,27.90435716439673,24.08382792419379,15.896979552330347,42.09489434229336,52.46490227998706,31.72488640459967,14.80539976941522,33.908045970429924,26.812777381481602,23.538038032736225,20.263298683990847,14.259609877957658,15.351189660872784,35.54541564480261,27.90435716439673,75.3880777212047,29.541726838769417,16.988559335245473,13.277188073334045,102.13178240262528,28.995936947311854,33.36225607897236,14.259609877957658,41.5491044508358,15.896979552330347,29.541726838769417,14.259609877957658,14.259609877957658,53.55648206290218,20.809088575448413,35.54541564480261,180.17973688105675,27.90435716439673],\"type\":\"scatter\"},{\"mode\":\"lines\",\"name\":\"cont_est\",\"x\":[72.0,5.0,4.0,5.0,5.0,101.0,4.0,5.0,20.0,24.0,4.0,4.0,4.0,12.0,4.0,53.0,5.0,75.0,17.0,5.0,179.0,12.0,47.0,13.0,54.0,25.0,4.0,5.0,4.0,12.0,23.0,4.0,40.0,5.0,4.6,89.0,24.0,8.0,4.0,7.0,35.0,63.0,8.0,5.0,16.0,16.0,63.0,12.0,13.0,4.0,24.0,16.0,28.0,26.0,8.0,20.0,133.6,24.0,28.0,8.0,53.0,8.0,32.0,5.0,4.0,75.0,16.0,52.0,175.0,12.0],\"y\":[70.1223131284666,11.95653304740836,11.088387076049282,11.95653304740836,11.95653304740836,95.29854629787987,11.088387076049282,11.95653304740836,24.978722617794535,28.451306503230846,11.088387076049282,11.088387076049282,11.088387076049282,18.03355484692191,11.088387076049282,53.62753967264412,11.95653304740836,72.72675104254384,22.3742847037173,11.95653304740836,163.01393206388798,18.03355484692191,48.41866384448964,18.901700818280986,54.49568564400319,29.319452474589923,11.088387076049282,11.95653304740836,11.088387076049282,18.03355484692191,27.58316053187177,11.088387076049282,42.3416420449761,11.95653304740836,11.609274658864727,84.88079464157093,28.451306503230846,14.560970961485594,11.088387076049282,13.692824990126516,38.000912188180706,62.3089993862349,14.560970961485594,11.95653304740836,21.50613873235822,21.50613873235822,62.3089993862349,18.03355484692191,18.901700818280986,11.088387076049282,28.451306503230846,21.50613873235822,31.923890388667157,30.187598445949003,14.560970961485594,24.978722617794535,123.60010496418582,28.451306503230846,31.923890388667157,14.560970961485594,53.62753967264412,14.560970961485594,35.39647427410347,11.95653304740836,11.088387076049282,72.72675104254384,21.50613873235822,52.759393701285035,159.54134817845167,18.03355484692191],\"type\":\"scatter\"},{\"mode\":\"lines\",\"name\":\"cont_liq\",\"x\":[42.6,3.0,4.2,3.6,3.6,71.2,16.0,3.0,16.8,11.96,3.6,2.08,6.24,10.4,2.4,42.6,2.8,53.88,12.6,0.8,105.6,0.01,101.28,5.2,13.2,21.0,1.8,3.6,4.2,7.2,7.8,3.64,34.4,3.64,6.72,45.92,19.24,14.56,8.4,4.8,33.8,45.8,18.2,2.4,19.68,13.52,16.0,7.28,1.2,4.0,16.8,11.2,49.2,12.4,4.16,0.96,92.0,15.6,19.76,2.4,27.2,4.8,24.8,2.4,2.4,3.75,6.36,23.24,73.68,16.52],\"y\":[59.54966854278615,14.38996885342214,15.758444601584687,15.074206727503412,15.074206727503412,92.16500720732682,29.21512279184972,14.38996885342214,30.12743995729142,24.607921106369147,15.074206727503412,13.34080411316419,18.084853373461016,22.828902633757842,13.705730979340867,59.54966854278615,14.161889562061717,72.41334057551408,25.337774838722506,11.881096648457474,131.39464532131979,10.980183447583798,126.46813262793464,16.898841058386807,26.02201271280378,34.91710507586033,13.021493105259594,15.074206727503412,15.758444601584687,19.179633971991052,19.86387184607232,15.119822585775498,50.198417597008756,15.119822585775498,18.632243672726034,63.33578477936919,32.91000731188859,27.572951894054665,20.548109720153597,16.442682475665958,49.51417972292748,63.198937204552934,31.723994996814387,13.705730979340867,33.411781752881524,26.38693957898046,29.21512279184972,19.27086568853522,12.337255231178322,15.530365310224262,30.12743995729142,23.741219799199534,67.07628515768016,25.109695547362083,15.712828743312603,12.063560081545813,115.88525350881095,28.75896420912887,33.503013469425696,13.705730979340867,41.98756310803348,16.442682475665958,39.25061161170839,13.705730979340867,13.705730979340867,15.245266196023731,18.22170094827727,37.47159313909708,94.9931904201961,29.808128949386823],\"type\":\"scatter\"}],                        {\"template\":{\"data\":{\"histogram2dcontour\":[{\"type\":\"histogram2dcontour\",\"colorbar\":{\"outlinewidth\":0,\"ticks\":\"\"},\"colorscale\":[[0.0,\"#0d0887\"],[0.1111111111111111,\"#46039f\"],[0.2222222222222222,\"#7201a8\"],[0.3333333333333333,\"#9c179e\"],[0.4444444444444444,\"#bd3786\"],[0.5555555555555556,\"#d8576b\"],[0.6666666666666666,\"#ed7953\"],[0.7777777777777778,\"#fb9f3a\"],[0.8888888888888888,\"#fdca26\"],[1.0,\"#f0f921\"]]}],\"choropleth\":[{\"type\":\"choropleth\",\"colorbar\":{\"outlinewidth\":0,\"ticks\":\"\"}}],\"histogram2d\":[{\"type\":\"histogram2d\",\"colorbar\":{\"outlinewidth\":0,\"ticks\":\"\"},\"colorscale\":[[0.0,\"#0d0887\"],[0.1111111111111111,\"#46039f\"],[0.2222222222222222,\"#7201a8\"],[0.3333333333333333,\"#9c179e\"],[0.4444444444444444,\"#bd3786\"],[0.5555555555555556,\"#d8576b\"],[0.6666666666666666,\"#ed7953\"],[0.7777777777777778,\"#fb9f3a\"],[0.8888888888888888,\"#fdca26\"],[1.0,\"#f0f921\"]]}],\"heatmap\":[{\"type\":\"heatmap\",\"colorbar\":{\"outlinewidth\":0,\"ticks\":\"\"},\"colorscale\":[[0.0,\"#0d0887\"],[0.1111111111111111,\"#46039f\"],[0.2222222222222222,\"#7201a8\"],[0.3333333333333333,\"#9c179e\"],[0.4444444444444444,\"#bd3786\"],[0.5555555555555556,\"#d8576b\"],[0.6666666666666666,\"#ed7953\"],[0.7777777777777778,\"#fb9f3a\"],[0.8888888888888888,\"#fdca26\"],[1.0,\"#f0f921\"]]}],\"heatmapgl\":[{\"type\":\"heatmapgl\",\"colorbar\":{\"outlinewidth\":0,\"ticks\":\"\"},\"colorscale\":[[0.0,\"#0d0887\"],[0.1111111111111111,\"#46039f\"],[0.2222222222222222,\"#7201a8\"],[0.3333333333333333,\"#9c179e\"],[0.4444444444444444,\"#bd3786\"],[0.5555555555555556,\"#d8576b\"],[0.6666666666666666,\"#ed7953\"],[0.7777777777777778,\"#fb9f3a\"],[0.8888888888888888,\"#fdca26\"],[1.0,\"#f0f921\"]]}],\"contourcarpet\":[{\"type\":\"contourcarpet\",\"colorbar\":{\"outlinewidth\":0,\"ticks\":\"\"}}],\"contour\":[{\"type\":\"contour\",\"colorbar\":{\"outlinewidth\":0,\"ticks\":\"\"},\"colorscale\":[[0.0,\"#0d0887\"],[0.1111111111111111,\"#46039f\"],[0.2222222222222222,\"#7201a8\"],[0.3333333333333333,\"#9c179e\"],[0.4444444444444444,\"#bd3786\"],[0.5555555555555556,\"#d8576b\"],[0.6666666666666666,\"#ed7953\"],[0.7777777777777778,\"#fb9f3a\"],[0.8888888888888888,\"#fdca26\"],[1.0,\"#f0f921\"]]}],\"surface\":[{\"type\":\"surface\",\"colorbar\":{\"outlinewidth\":0,\"ticks\":\"\"},\"colorscale\":[[0.0,\"#0d0887\"],[0.1111111111111111,\"#46039f\"],[0.2222222222222222,\"#7201a8\"],[0.3333333333333333,\"#9c179e\"],[0.4444444444444444,\"#bd3786\"],[0.5555555555555556,\"#d8576b\"],[0.6666666666666666,\"#ed7953\"],[0.7777777777777778,\"#fb9f3a\"],[0.8888888888888888,\"#fdca26\"],[1.0,\"#f0f921\"]]}],\"mesh3d\":[{\"type\":\"mesh3d\",\"colorbar\":{\"outlinewidth\":0,\"ticks\":\"\"}}],\"scatter\":[{\"fillpattern\":{\"fillmode\":\"overlay\",\"size\":10,\"solidity\":0.2},\"type\":\"scatter\"}],\"parcoords\":[{\"type\":\"parcoords\",\"line\":{\"colorbar\":{\"outlinewidth\":0,\"ticks\":\"\"}}}],\"scatterpolargl\":[{\"type\":\"scatterpolargl\",\"marker\":{\"colorbar\":{\"outlinewidth\":0,\"ticks\":\"\"}}}],\"bar\":[{\"error_x\":{\"color\":\"#2a3f5f\"},\"error_y\":{\"color\":\"#2a3f5f\"},\"marker\":{\"line\":{\"color\":\"#E5ECF6\",\"width\":0.5},\"pattern\":{\"fillmode\":\"overlay\",\"size\":10,\"solidity\":0.2}},\"type\":\"bar\"}],\"scattergeo\":[{\"type\":\"scattergeo\",\"marker\":{\"colorbar\":{\"outlinewidth\":0,\"ticks\":\"\"}}}],\"scatterpolar\":[{\"type\":\"scatterpolar\",\"marker\":{\"colorbar\":{\"outlinewidth\":0,\"ticks\":\"\"}}}],\"histogram\":[{\"marker\":{\"pattern\":{\"fillmode\":\"overlay\",\"size\":10,\"solidity\":0.2}},\"type\":\"histogram\"}],\"scattergl\":[{\"type\":\"scattergl\",\"marker\":{\"colorbar\":{\"outlinewidth\":0,\"ticks\":\"\"}}}],\"scatter3d\":[{\"type\":\"scatter3d\",\"line\":{\"colorbar\":{\"outlinewidth\":0,\"ticks\":\"\"}},\"marker\":{\"colorbar\":{\"outlinewidth\":0,\"ticks\":\"\"}}}],\"scattermapbox\":[{\"type\":\"scattermapbox\",\"marker\":{\"colorbar\":{\"outlinewidth\":0,\"ticks\":\"\"}}}],\"scatterternary\":[{\"type\":\"scatterternary\",\"marker\":{\"colorbar\":{\"outlinewidth\":0,\"ticks\":\"\"}}}],\"scattercarpet\":[{\"type\":\"scattercarpet\",\"marker\":{\"colorbar\":{\"outlinewidth\":0,\"ticks\":\"\"}}}],\"carpet\":[{\"aaxis\":{\"endlinecolor\":\"#2a3f5f\",\"gridcolor\":\"white\",\"linecolor\":\"white\",\"minorgridcolor\":\"white\",\"startlinecolor\":\"#2a3f5f\"},\"baxis\":{\"endlinecolor\":\"#2a3f5f\",\"gridcolor\":\"white\",\"linecolor\":\"white\",\"minorgridcolor\":\"white\",\"startlinecolor\":\"#2a3f5f\"},\"type\":\"carpet\"}],\"table\":[{\"cells\":{\"fill\":{\"color\":\"#EBF0F8\"},\"line\":{\"color\":\"white\"}},\"header\":{\"fill\":{\"color\":\"#C8D4E3\"},\"line\":{\"color\":\"white\"}},\"type\":\"table\"}],\"barpolar\":[{\"marker\":{\"line\":{\"color\":\"#E5ECF6\",\"width\":0.5},\"pattern\":{\"fillmode\":\"overlay\",\"size\":10,\"solidity\":0.2}},\"type\":\"barpolar\"}],\"pie\":[{\"automargin\":true,\"type\":\"pie\"}]},\"layout\":{\"autotypenumbers\":\"strict\",\"colorway\":[\"#636efa\",\"#EF553B\",\"#00cc96\",\"#ab63fa\",\"#FFA15A\",\"#19d3f3\",\"#FF6692\",\"#B6E880\",\"#FF97FF\",\"#FECB52\"],\"font\":{\"color\":\"#2a3f5f\"},\"hovermode\":\"closest\",\"hoverlabel\":{\"align\":\"left\"},\"paper_bgcolor\":\"white\",\"plot_bgcolor\":\"#E5ECF6\",\"polar\":{\"bgcolor\":\"#E5ECF6\",\"angularaxis\":{\"gridcolor\":\"white\",\"linecolor\":\"white\",\"ticks\":\"\"},\"radialaxis\":{\"gridcolor\":\"white\",\"linecolor\":\"white\",\"ticks\":\"\"}},\"ternary\":{\"bgcolor\":\"#E5ECF6\",\"aaxis\":{\"gridcolor\":\"white\",\"linecolor\":\"white\",\"ticks\":\"\"},\"baxis\":{\"gridcolor\":\"white\",\"linecolor\":\"white\",\"ticks\":\"\"},\"caxis\":{\"gridcolor\":\"white\",\"linecolor\":\"white\",\"ticks\":\"\"}},\"coloraxis\":{\"colorbar\":{\"outlinewidth\":0,\"ticks\":\"\"}},\"colorscale\":{\"sequential\":[[0.0,\"#0d0887\"],[0.1111111111111111,\"#46039f\"],[0.2222222222222222,\"#7201a8\"],[0.3333333333333333,\"#9c179e\"],[0.4444444444444444,\"#bd3786\"],[0.5555555555555556,\"#d8576b\"],[0.6666666666666666,\"#ed7953\"],[0.7777777777777778,\"#fb9f3a\"],[0.8888888888888888,\"#fdca26\"],[1.0,\"#f0f921\"]],\"sequentialminus\":[[0.0,\"#0d0887\"],[0.1111111111111111,\"#46039f\"],[0.2222222222222222,\"#7201a8\"],[0.3333333333333333,\"#9c179e\"],[0.4444444444444444,\"#bd3786\"],[0.5555555555555556,\"#d8576b\"],[0.6666666666666666,\"#ed7953\"],[0.7777777777777778,\"#fb9f3a\"],[0.8888888888888888,\"#fdca26\"],[1.0,\"#f0f921\"]],\"diverging\":[[0,\"#8e0152\"],[0.1,\"#c51b7d\"],[0.2,\"#de77ae\"],[0.3,\"#f1b6da\"],[0.4,\"#fde0ef\"],[0.5,\"#f7f7f7\"],[0.6,\"#e6f5d0\"],[0.7,\"#b8e186\"],[0.8,\"#7fbc41\"],[0.9,\"#4d9221\"],[1,\"#276419\"]]},\"xaxis\":{\"gridcolor\":\"white\",\"linecolor\":\"white\",\"ticks\":\"\",\"title\":{\"standoff\":15},\"zerolinecolor\":\"white\",\"automargin\":true,\"zerolinewidth\":2},\"yaxis\":{\"gridcolor\":\"white\",\"linecolor\":\"white\",\"ticks\":\"\",\"title\":{\"standoff\":15},\"zerolinecolor\":\"white\",\"automargin\":true,\"zerolinewidth\":2},\"scene\":{\"xaxis\":{\"backgroundcolor\":\"#E5ECF6\",\"gridcolor\":\"white\",\"linecolor\":\"white\",\"showbackground\":true,\"ticks\":\"\",\"zerolinecolor\":\"white\",\"gridwidth\":2},\"yaxis\":{\"backgroundcolor\":\"#E5ECF6\",\"gridcolor\":\"white\",\"linecolor\":\"white\",\"showbackground\":true,\"ticks\":\"\",\"zerolinecolor\":\"white\",\"gridwidth\":2},\"zaxis\":{\"backgroundcolor\":\"#E5ECF6\",\"gridcolor\":\"white\",\"linecolor\":\"white\",\"showbackground\":true,\"ticks\":\"\",\"zerolinecolor\":\"white\",\"gridwidth\":2}},\"shapedefaults\":{\"line\":{\"color\":\"#2a3f5f\"}},\"annotationdefaults\":{\"arrowcolor\":\"#2a3f5f\",\"arrowhead\":0,\"arrowwidth\":1},\"geo\":{\"bgcolor\":\"white\",\"landcolor\":\"#E5ECF6\",\"subunitcolor\":\"white\",\"showland\":true,\"showlakes\":true,\"lakecolor\":\"white\"},\"title\":{\"x\":0.05},\"mapbox\":{\"style\":\"light\"}}},\"xaxis\":{\"title\":{\"text\":\"Contagem\"}},\"yaxis\":{\"title\":{\"text\":\"Prazo em Dias\"}}},                        {\"responsive\": true}                    ).then(function(){\n",
              "                            \n",
              "var gd = document.getElementById('821c6964-e88d-4ead-b166-2e4f0afd89ae');\n",
              "var x = new MutationObserver(function (mutations, observer) {{\n",
              "        var display = window.getComputedStyle(gd).display;\n",
              "        if (!display || display === 'none') {{\n",
              "            console.log([gd, 'removed!']);\n",
              "            Plotly.purge(gd);\n",
              "            observer.disconnect();\n",
              "        }}\n",
              "}});\n",
              "\n",
              "// Listen for the removal of the full notebook cells\n",
              "var notebookContainer = gd.closest('#notebook-container');\n",
              "if (notebookContainer) {{\n",
              "    x.observe(notebookContainer, {childList: true});\n",
              "}}\n",
              "\n",
              "// Listen for the clearing of the current output cell\n",
              "var outputEl = gd.closest('.output');\n",
              "if (outputEl) {{\n",
              "    x.observe(outputEl, {childList: true});\n",
              "}}\n",
              "\n",
              "                        })                };                            </script>        </div>\n",
              "</body>\n",
              "</html>"
            ]
          },
          "metadata": {}
        },
        {
          "output_type": "stream",
          "name": "stdout",
          "text": [
            "[121.7802185]\n",
            "0.5457898914575628 12.622240203584969\n",
            "0.8681459713590782 7.615803190612969\n"
          ]
        }
      ]
    },
    {
      "cell_type": "markdown",
      "metadata": {
        "id": "pYCMIJwD_Jbd"
      },
      "source": [
        "**Análise**\n",
        "\n",
        "Para a RL do contagem bruta o coeficiente é de 0.5457898914575628 , ou seja a cada prazo em dia temos a entrega de 0.5457898914575628  PF sendo o ponto de interseção 12.62.\n",
        "\n",
        "Para a RL da contagem estimada o coeficiente é de 0.8681459713590782, ou seja a cada prazo em dia temos a entrega de 0.8681459713590782 PF sendo o ponto de interseção 7.61."
      ]
    },
    {
      "cell_type": "code",
      "metadata": {
        "id": "ghTT3jlwmU7p",
        "colab": {
          "base_uri": "https://localhost:8080/",
          "height": 517
        },
        "outputId": "2cb07228-a6aa-4a7e-c759-16d908a9e7a7"
      },
      "source": [
        "sns.lmplot(x='contagem_estimada_pf',y='contagem_bruta_pf_fsw', data=est)"
      ],
      "execution_count": 43,
      "outputs": [
        {
          "output_type": "execute_result",
          "data": {
            "text/plain": [
              "<seaborn.axisgrid.FacetGrid at 0x7fe649d33d90>"
            ]
          },
          "metadata": {},
          "execution_count": 43
        },
        {
          "output_type": "display_data",
          "data": {
            "text/plain": [
              "<Figure size 500x500 with 1 Axes>"
            ],
            "image/png": "[encoded data removed]"
          },
          "metadata": {}
        }
      ]
    },
    {
      "cell_type": "code",
      "metadata": {
        "colab": {
          "base_uri": "https://localhost:8080/"
        },
        "id": "8yN9E8cZMCR8",
        "outputId": "75935e91-5fec-4203-e88c-398e35870fc7"
      },
      "source": [
        "print(cont_est_lr.coef_[0],cont_est_lr.intercept_)\n",
        "print(cont_bruta_lr.coef_[0],cont_bruta_lr.intercept_)\n",
        "print(cont_liq_lr.coef_[0],cont_liq_lr.intercept_)"
      ],
      "execution_count": 9,
      "outputs": [
        {
          "output_type": "stream",
          "name": "stdout",
          "text": [
            "0.8681459713590782 7.615803190612969\n",
            "0.5457898914575628 12.622240203584969\n",
            "1.1403964568021214 10.968779483015776\n"
          ]
        }
      ]
    },
    {
      "cell_type": "code",
      "metadata": {
        "colab": {
          "base_uri": "https://localhost:8080/"
        },
        "id": "y6cH00VBMzxx",
        "outputId": "6fc4c433-d9d1-4d7c-f361-e946d59aba36"
      },
      "source": [
        "#https://jyotiyadav99111.medium.com/statistics-how-should-i-interpret-results-of-ols-3bde1ebeec01\n",
        "temp2 = sm.add_constant(cont_bruta)\n",
        "PFBRT_OLS = sm.OLS(y, temp2)\n",
        "PFBRT_OLS = PFBRT_OLS.fit()\n",
        "print(PFBRT_OLS.summary())"
      ],
      "execution_count": 10,
      "outputs": [
        {
          "output_type": "stream",
          "name": "stdout",
          "text": [
            "                            OLS Regression Results                            \n",
            "==============================================================================\n",
            "Dep. Variable:                      y   R-squared:                       0.716\n",
            "Model:                            OLS   Adj. R-squared:                  0.712\n",
            "Method:                 Least Squares   F-statistic:                     171.5\n",
            "Date:                Tue, 13 May 2025   Prob (F-statistic):           2.92e-20\n",
            "Time:                        02:43:47   Log-Likelihood:                -298.58\n",
            "No. Observations:                  70   AIC:                             601.2\n",
            "Df Residuals:                      68   BIC:                             605.7\n",
            "Df Model:                           1                                         \n",
            "Covariance Type:            nonrobust                                         \n",
            "==============================================================================\n",
            "                 coef    std err          t      P>|t|      [0.025      0.975]\n",
            "------------------------------------------------------------------------------\n",
            "const         12.6222      2.565      4.922      0.000       7.505      17.740\n",
            "x1             0.5458      0.042     13.094      0.000       0.463       0.629\n",
            "==============================================================================\n",
            "Omnibus:                        9.620   Durbin-Watson:                   2.176\n",
            "Prob(Omnibus):                  0.008   Jarque-Bera (JB):               13.756\n",
            "Skew:                           0.504   Prob(JB):                      0.00103\n",
            "Kurtosis:                       4.924   Cond. No.                         75.5\n",
            "==============================================================================\n",
            "\n",
            "Notes:\n",
            "[1] Standard Errors assume that the covariance matrix of the errors is correctly specified.\n"
          ]
        }
      ]
    },
    {
      "cell_type": "code",
      "metadata": {
        "colab": {
          "base_uri": "https://localhost:8080/"
        },
        "id": "MFhpAJqJo35m",
        "outputId": "e65b468b-a745-42bf-b109-93f55a3addc2"
      },
      "source": [
        "np.sqrt(PFBRT_OLS.scale)"
      ],
      "execution_count": 11,
      "outputs": [
        {
          "output_type": "execute_result",
          "data": {
            "text/plain": [
              "np.float64(17.479004182187257)"
            ]
          },
          "metadata": {},
          "execution_count": 11
        }
      ]
    },
    {
      "cell_type": "markdown",
      "metadata": {
        "id": "2vdBNHnUoDc-"
      },
      "source": [
        "**Análise**\n",
        "\n",
        "x1 = 0.000 eu posso negar a hipótese nula ou seja há uma relação entre os meus elementos (linear).\n",
        "O meu R² que é chamado de coeficiente de explicação é de 0.716, ou seja de 100 vezes que fizermos uma estimativa em 71% das vezes temos a chance de acertar o resultado, essa valor muda se tivessmos eliminação de outliers que poderíamos analisar devido a falta de condições reais de entregar projetos muito grandes em PF em pouco prazo de tempo.\n",
        "O nosso erro residual padrão é de 17.479004182187257\n",
        "\n"
      ]
    },
    {
      "cell_type": "code",
      "metadata": {
        "colab": {
          "base_uri": "https://localhost:8080/"
        },
        "id": "ipx_uxacne_R",
        "outputId": "2ae32e1a-4e79-4def-cf7d-b949815ffa44"
      },
      "source": [
        "temp3 = sm.add_constant(cont_est)\n",
        "PFEST_OLS = sm.OLS(y, temp3)\n",
        "PFEST_OLS = PFEST_OLS.fit()\n",
        "print(PFEST_OLS.summary())"
      ],
      "execution_count": 12,
      "outputs": [
        {
          "output_type": "stream",
          "name": "stdout",
          "text": [
            "                            OLS Regression Results                            \n",
            "==============================================================================\n",
            "Dep. Variable:                      y   R-squared:                       0.972\n",
            "Model:                            OLS   Adj. R-squared:                  0.971\n",
            "Method:                 Least Squares   F-statistic:                     2346.\n",
            "Date:                Tue, 13 May 2025   Prob (F-statistic):           1.90e-54\n",
            "Time:                        02:43:52   Log-Likelihood:                -217.70\n",
            "No. Observations:                  70   AIC:                             439.4\n",
            "Df Residuals:                      68   BIC:                             443.9\n",
            "Df Model:                           1                                         \n",
            "Covariance Type:            nonrobust                                         \n",
            "==============================================================================\n",
            "                 coef    std err          t      P>|t|      [0.025      0.975]\n",
            "------------------------------------------------------------------------------\n",
            "const          7.6158      0.830      9.179      0.000       5.960       9.271\n",
            "x1             0.8681      0.018     48.440      0.000       0.832       0.904\n",
            "==============================================================================\n",
            "Omnibus:                       18.607   Durbin-Watson:                   2.311\n",
            "Prob(Omnibus):                  0.000   Jarque-Bera (JB):               98.084\n",
            "Skew:                          -0.322   Prob(JB):                     5.03e-22\n",
            "Kurtosis:                       8.763   Cond. No.                         58.4\n",
            "==============================================================================\n",
            "\n",
            "Notes:\n",
            "[1] Standard Errors assume that the covariance matrix of the errors is correctly specified.\n"
          ]
        }
      ]
    },
    {
      "cell_type": "code",
      "metadata": {
        "colab": {
          "base_uri": "https://localhost:8080/"
        },
        "id": "AWZwWkv7qyeL",
        "outputId": "0e594643-ad9c-489e-f43d-db0fe0ddd870"
      },
      "source": [
        "np.sqrt(PFEST_OLS.scale)"
      ],
      "execution_count": 13,
      "outputs": [
        {
          "output_type": "execute_result",
          "data": {
            "text/plain": [
              "np.float64(5.504505085995582)"
            ]
          },
          "metadata": {},
          "execution_count": 13
        }
      ]
    },
    {
      "cell_type": "markdown",
      "metadata": {
        "id": "_ISsY7eanruQ"
      },
      "source": [
        "**Análise**\n",
        "\n",
        "A contagem estimada nesse tipo de demanda, tendo o R² um coeficiente de explicação de 0.972 com o prazo. Isso demostra uma boa relação entre as variáveis *x* e *y* da nossa regressão.\n",
        "\n",
        "\n"
      ]
    },
    {
      "cell_type": "code",
      "metadata": {
        "colab": {
          "base_uri": "https://localhost:8080/"
        },
        "id": "KAcIGkOBpdu_",
        "outputId": "2627100d-3537-4dca-c9da-260bb4125ea1"
      },
      "source": [
        "temp4 = sm.add_constant(cont_liq)\n",
        "PFLIQ_OLS = sm.OLS(y, temp4)\n",
        "PFLIQ_OLS = PFLIQ_OLS.fit()\n",
        "print(PFLIQ_OLS.summary())"
      ],
      "execution_count": 14,
      "outputs": [
        {
          "output_type": "stream",
          "name": "stdout",
          "text": [
            "                            OLS Regression Results                            \n",
            "==============================================================================\n",
            "Dep. Variable:                      y   R-squared:                       0.696\n",
            "Model:                            OLS   Adj. R-squared:                  0.691\n",
            "Method:                 Least Squares   F-statistic:                     155.6\n",
            "Date:                Tue, 13 May 2025   Prob (F-statistic):           3.03e-19\n",
            "Time:                        02:43:56   Log-Likelihood:                -300.97\n",
            "No. Observations:                  70   AIC:                             605.9\n",
            "Df Residuals:                      68   BIC:                             610.4\n",
            "Df Model:                           1                                         \n",
            "Covariance Type:            nonrobust                                         \n",
            "==============================================================================\n",
            "                 coef    std err          t      P>|t|      [0.025      0.975]\n",
            "------------------------------------------------------------------------------\n",
            "const         10.9688      2.746      3.994      0.000       5.489      16.449\n",
            "x1             1.1404      0.091     12.476      0.000       0.958       1.323\n",
            "==============================================================================\n",
            "Omnibus:                       17.942   Durbin-Watson:                   2.081\n",
            "Prob(Omnibus):                  0.000   Jarque-Bera (JB):              108.121\n",
            "Skew:                           0.021   Prob(JB):                     3.33e-24\n",
            "Kurtosis:                       9.088   Cond. No.                         38.2\n",
            "==============================================================================\n",
            "\n",
            "Notes:\n",
            "[1] Standard Errors assume that the covariance matrix of the errors is correctly specified.\n"
          ]
        }
      ]
    },
    {
      "cell_type": "code",
      "metadata": {
        "colab": {
          "base_uri": "https://localhost:8080/"
        },
        "id": "FJ6vbbPKq4ta",
        "outputId": "a66f2cb7-fd71-400b-fc6c-06ef2e764d48"
      },
      "source": [
        "np.sqrt(PFLIQ_OLS.scale)"
      ],
      "execution_count": 15,
      "outputs": [
        {
          "output_type": "execute_result",
          "data": {
            "text/plain": [
              "np.float64(18.08638208024849)"
            ]
          },
          "metadata": {},
          "execution_count": 15
        }
      ]
    },
    {
      "cell_type": "markdown",
      "metadata": {
        "id": "1xxH9IDDpky9"
      },
      "source": [
        "**Análise**\n",
        "\n",
        "A contagem liquida já não tem um alto grau coeficiente de explicação nesse tipo de demanda, tendo o R² de 0.696 com o prazo.\n",
        "Pode se perceber então que a melhor contagem é a estimada (isso é uma surpresa) porque ela normalmente é realizada no ínicio do projeto e sua relação com o prazo é a que mostra maior coeficiente de explicação, antes de analisar os dados eu acreditava que seria a contagem bruta, já que a contagem liquida leva em consideração alguns deflatores contratuais."
      ]
    },
    {
      "cell_type": "code",
      "metadata": {
        "colab": {
          "base_uri": "https://localhost:8080/"
        },
        "id": "N48SXCGcsAHx",
        "outputId": "aedbf324-0780-4dad-d69a-afb4c95af4b3"
      },
      "source": [
        "print(np.sqrt(PFEST_OLS.scale))\n",
        "print(np.sqrt(PFBRT_OLS.scale))\n",
        "print(np.sqrt(PFLIQ_OLS.scale))"
      ],
      "execution_count": 16,
      "outputs": [
        {
          "output_type": "stream",
          "name": "stdout",
          "text": [
            "5.504505085995582\n",
            "17.479004182187257\n",
            "18.08638208024849\n"
          ]
        }
      ]
    },
    {
      "cell_type": "markdown",
      "metadata": {
        "id": "_T4-EAH9sYVo"
      },
      "source": [
        "**Análise**\n",
        "\n",
        "A acurácia do modelo é melhor para a regressão linear da contagem estimada, o erro residual é o menor entre os 3 modelos."
      ]
    },
    {
      "cell_type": "code",
      "metadata": {
        "colab": {
          "base_uri": "https://localhost:8080/",
          "height": 524
        },
        "id": "vTKEh76VR4hx",
        "outputId": "861ebaa5-6fe6-4457-b087-b5a74fce60f6"
      },
      "source": [
        "plt.hist(est['contagem_bruta_pf_fsw'], 4, rwidth=0.9)\n",
        "\n",
        "plt.title('Contagens')\n",
        "plt.xlabel('Contagem Bruta PF FSW')\n",
        "plt.ylabel('Frequência Absoluta')\n",
        "plt.show()\n"
      ],
      "execution_count": 17,
      "outputs": [
        {
          "output_type": "display_data",
          "data": {
            "text/plain": [
              "<Figure size 800x550 with 1 Axes>"
            ],
            "image/png": "[encoded data removed]"
          },
          "metadata": {}
        }
      ]
    },
    {
      "cell_type": "code",
      "metadata": {
        "colab": {
          "base_uri": "https://localhost:8080/",
          "height": 330
        },
        "id": "RF6Bb8p9S2GI",
        "outputId": "ee866f7e-ff1a-483c-c9ec-420c0d9b254f"
      },
      "source": [
        "est.head()"
      ],
      "execution_count": 18,
      "outputs": [
        {
          "output_type": "execute_result",
          "data": {
            "text/plain": [
              "        id          id_os               tipo_os linguagem_programacao  \\\n",
              "902  26014  EORCAMENTO-26  Manutencao Evolutiva                   PHP   \n",
              "903  26016   EORCAMENTO-2  Manutencao Evolutiva                   PHP   \n",
              "904  26021   EORCAMENTO-1  Manutencao Evolutiva                   PHP   \n",
              "905  26022  EORCAMENTO-28  Manutencao Evolutiva                   PHP   \n",
              "906  26026  EORCAMENTO-33  Manutencao Evolutiva                   PHP   \n",
              "\n",
              "     prazo_contratual_dias_uteis  contagem_estimada_pf  contagem_bruta_pf_fsw  \\\n",
              "902                         80.0                  72.0                   71.0   \n",
              "903                         10.0                   5.0                    5.0   \n",
              "904                         10.0                   4.0                    7.0   \n",
              "905                         10.0                   5.0                    6.0   \n",
              "906                         10.0                   5.0                    6.0   \n",
              "\n",
              "     contagem_liquida_ajustada_pf_fsw    descricao tempo_fsw_dias_uteis  \\\n",
              "902                              42.6  OS faturada            5d 6h 22m   \n",
              "903                               3.0  OS faturada             7d 1h 7m   \n",
              "904                               4.2  OS faturada            6d 0h 19m   \n",
              "905                               3.6  OS faturada            6d 5h 45m   \n",
              "906                               3.6  OS faturada             1d 6h 9m   \n",
              "\n",
              "    tempo_trf1_dias_uteis tempo_fsw_dias_corridos_exclui_feriados  \\\n",
              "902           132d 9h 58m                               7d 6h 22m   \n",
              "903           168d 8h 58m                                9d 1h 7m   \n",
              "904           111d 8h 58m                               8d 0h 19m   \n",
              "905           111d 8h 53m                               8d 5h 45m   \n",
              "906           116d 8h 51m                                1d 6h 9m   \n",
              "\n",
              "    tempo_trf1-d_corr_inc_fer  tempo_fws_seg_uteis  tempo_trf1_seg_uteis  \\\n",
              "902               374d 6h 58m               256920               6213500   \n",
              "903               468d 7h 58m               331620               7894690   \n",
              "904               313d 6h 58m               281940               5227110   \n",
              "905               313d 6h 53m               301500               5226830   \n",
              "906               326d 5h 51m                68940               5460710   \n",
              "\n",
              "     tempo_fsw_seg_corr_exc_fer  tempo_trf1_seg_corr_inc_feriados  \n",
              "902                      627720                          17528300  \n",
              "903                      781620                          21931100  \n",
              "904                      692340                          14673500  \n",
              "905                      711900                          14673200  \n",
              "906                      108540                          15277900  "
            ],
            "text/html": [
              "\n",
              "  <div id=\"df-78571d63-b6a3-4dce-9518-34506b7d93fa\" class=\"colab-df-container\">\n",
              "    <div>\n",
              "<style scoped>\n",
              "    .dataframe tbody tr th:only-of-type {\n",
              "        vertical-align: middle;\n",
              "    }\n",
              "\n",
              "    .dataframe tbody tr th {\n",
              "        vertical-align: top;\n",
              "    }\n",
              "\n",
              "    .dataframe thead th {\n",
              "        text-align: right;\n",
              "    }\n",
              "</style>\n",
              "<table border=\"1\" class=\"dataframe\">\n",
              "  <thead>\n",
              "    <tr style=\"text-align: right;\">\n",
              "      <th></th>\n",
              "      <th>id</th>\n",
              "      <th>id_os</th>\n",
              "      <th>tipo_os</th>\n",
              "      <th>linguagem_programacao</th>\n",
              "      <th>prazo_contratual_dias_uteis</th>\n",
              "      <th>contagem_estimada_pf</th>\n",
              "      <th>contagem_bruta_pf_fsw</th>\n",
              "      <th>contagem_liquida_ajustada_pf_fsw</th>\n",
              "      <th>descricao</th>\n",
              "      <th>tempo_fsw_dias_uteis</th>\n",
              "      <th>tempo_trf1_dias_uteis</th>\n",
              "      <th>tempo_fsw_dias_corridos_exclui_feriados</th>\n",
              "      <th>tempo_trf1-d_corr_inc_fer</th>\n",
              "      <th>tempo_fws_seg_uteis</th>\n",
              "      <th>tempo_trf1_seg_uteis</th>\n",
              "      <th>tempo_fsw_seg_corr_exc_fer</th>\n",
              "      <th>tempo_trf1_seg_corr_inc_feriados</th>\n",
              "    </tr>\n",
              "  </thead>\n",
              "  <tbody>\n",
              "    <tr>\n",
              "      <th>902</th>\n",
              "      <td>26014</td>\n",
              "      <td>EORCAMENTO-26</td>\n",
              "      <td>Manutencao Evolutiva</td>\n",
              "      <td>PHP</td>\n",
              "      <td>80.0</td>\n",
              "      <td>72.0</td>\n",
              "      <td>71.0</td>\n",
              "      <td>42.6</td>\n",
              "      <td>OS faturada</td>\n",
              "      <td>5d 6h 22m</td>\n",
              "      <td>132d 9h 58m</td>\n",
              "      <td>7d 6h 22m</td>\n",
              "      <td>374d 6h 58m</td>\n",
              "      <td>256920</td>\n",
              "      <td>6213500</td>\n",
              "      <td>627720</td>\n",
              "      <td>17528300</td>\n",
              "    </tr>\n",
              "    <tr>\n",
              "      <th>903</th>\n",
              "      <td>26016</td>\n",
              "      <td>EORCAMENTO-2</td>\n",
              "      <td>Manutencao Evolutiva</td>\n",
              "      <td>PHP</td>\n",
              "      <td>10.0</td>\n",
              "      <td>5.0</td>\n",
              "      <td>5.0</td>\n",
              "      <td>3.0</td>\n",
              "      <td>OS faturada</td>\n",
              "      <td>7d 1h 7m</td>\n",
              "      <td>168d 8h 58m</td>\n",
              "      <td>9d 1h 7m</td>\n",
              "      <td>468d 7h 58m</td>\n",
              "      <td>331620</td>\n",
              "      <td>7894690</td>\n",
              "      <td>781620</td>\n",
              "      <td>21931100</td>\n",
              "    </tr>\n",
              "    <tr>\n",
              "      <th>904</th>\n",
              "      <td>26021</td>\n",
              "      <td>EORCAMENTO-1</td>\n",
              "      <td>Manutencao Evolutiva</td>\n",
              "      <td>PHP</td>\n",
              "      <td>10.0</td>\n",
              "      <td>4.0</td>\n",
              "      <td>7.0</td>\n",
              "      <td>4.2</td>\n",
              "      <td>OS faturada</td>\n",
              "      <td>6d 0h 19m</td>\n",
              "      <td>111d 8h 58m</td>\n",
              "      <td>8d 0h 19m</td>\n",
              "      <td>313d 6h 58m</td>\n",
              "      <td>281940</td>\n",
              "      <td>5227110</td>\n",
              "      <td>692340</td>\n",
              "      <td>14673500</td>\n",
              "    </tr>\n",
              "    <tr>\n",
              "      <th>905</th>\n",
              "      <td>26022</td>\n",
              "      <td>EORCAMENTO-28</td>\n",
              "      <td>Manutencao Evolutiva</td>\n",
              "      <td>PHP</td>\n",
              "      <td>10.0</td>\n",
              "      <td>5.0</td>\n",
              "      <td>6.0</td>\n",
              "      <td>3.6</td>\n",
              "      <td>OS faturada</td>\n",
              "      <td>6d 5h 45m</td>\n",
              "      <td>111d 8h 53m</td>\n",
              "      <td>8d 5h 45m</td>\n",
              "      <td>313d 6h 53m</td>\n",
              "      <td>301500</td>\n",
              "      <td>5226830</td>\n",
              "      <td>711900</td>\n",
              "      <td>14673200</td>\n",
              "    </tr>\n",
              "    <tr>\n",
              "      <th>906</th>\n",
              "      <td>26026</td>\n",
              "      <td>EORCAMENTO-33</td>\n",
              "      <td>Manutencao Evolutiva</td>\n",
              "      <td>PHP</td>\n",
              "      <td>10.0</td>\n",
              "      <td>5.0</td>\n",
              "      <td>6.0</td>\n",
              "      <td>3.6</td>\n",
              "      <td>OS faturada</td>\n",
              "      <td>1d 6h 9m</td>\n",
              "      <td>116d 8h 51m</td>\n",
              "      <td>1d 6h 9m</td>\n",
              "      <td>326d 5h 51m</td>\n",
              "      <td>68940</td>\n",
              "      <td>5460710</td>\n",
              "      <td>108540</td>\n",
              "      <td>15277900</td>\n",
              "    </tr>\n",
              "  </tbody>\n",
              "</table>\n",
              "</div>\n",
              "    <div class=\"colab-df-buttons\">\n",
              "\n",
              "  <div class=\"colab-df-container\">\n",
              "    <button class=\"colab-df-convert\" onclick=\"convertToInteractive('df-78571d63-b6a3-4dce-9518-34506b7d93fa')\"\n",
              "            title=\"Convert this dataframe to an interactive table.\"\n",
              "            style=\"display:none;\">\n",
              "\n",
              "  <svg xmlns=\"http://www.w3.org/2000/svg\" height=\"24px\" viewBox=\"0 -960 960 960\">\n",
              "    <path d=\"M120-120v-720h720v720H120Zm60-500h600v-160H180v160Zm220 220h160v-160H400v160Zm0 220h160v-160H400v160ZM180-400h160v-160H180v160Zm440 0h160v-160H620v160ZM180-180h160v-160H180v160Zm440 0h160v-160H620v160Z\"/>\n",
              "  </svg>\n",
              "    </button>\n",
              "\n",
              "  <style>\n",
              "    .colab-df-container {\n",
              "      display:flex;\n",
              "      gap: 12px;\n",
              "    }\n",
              "\n",
              "    .colab-df-convert {\n",
              "      background-color: #E8F0FE;\n",
              "      border: none;\n",
              "      border-radius: 50%;\n",
              "      cursor: pointer;\n",
              "      display: none;\n",
              "      fill: #1967D2;\n",
              "      height: 32px;\n",
              "      padding: 0 0 0 0;\n",
              "      width: 32px;\n",
              "    }\n",
              "\n",
              "    .colab-df-convert:hover {\n",
              "      background-color: #E2EBFA;\n",
              "      box-shadow: 0px 1px 2px rgba(60, 64, 67, 0.3), 0px 1px 3px 1px rgba(60, 64, 67, 0.15);\n",
              "      fill: #174EA6;\n",
              "    }\n",
              "\n",
              "    .colab-df-buttons div {\n",
              "      margin-bottom: 4px;\n",
              "    }\n",
              "\n",
              "    [theme=dark] .colab-df-convert {\n",
              "      background-color: #3B4455;\n",
              "      fill: #D2E3FC;\n",
              "    }\n",
              "\n",
              "    [theme=dark] .colab-df-convert:hover {\n",
              "      background-color: #434B5C;\n",
              "      box-shadow: 0px 1px 3px 1px rgba(0, 0, 0, 0.15);\n",
              "      filter: drop-shadow(0px 1px 2px rgba(0, 0, 0, 0.3));\n",
              "      fill: #FFFFFF;\n",
              "    }\n",
              "  </style>\n",
              "\n",
              "    <script>\n",
              "      const buttonEl =\n",
              "        document.querySelector('#df-78571d63-b6a3-4dce-9518-34506b7d93fa button.colab-df-convert');\n",
              "      buttonEl.style.display =\n",
              "        google.colab.kernel.accessAllowed ? 'block' : 'none';\n",
              "\n",
              "      async function convertToInteractive(key) {\n",
              "        const element = document.querySelector('#df-78571d63-b6a3-4dce-9518-34506b7d93fa');\n",
              "        const dataTable =\n",
              "          await google.colab.kernel.invokeFunction('convertToInteractive',\n",
              "                                                    [key], {});\n",
              "        if (!dataTable) return;\n",
              "\n",
              "        const docLinkHtml = 'Like what you see? Visit the ' +\n",
              "          '<a target=\"_blank\" href=https://colab.research.google.com/notebooks/data_table.ipynb>data table notebook</a>'\n",
              "          + ' to learn more about interactive tables.';\n",
              "        element.innerHTML = '';\n",
              "        dataTable['output_type'] = 'display_data';\n",
              "        await google.colab.output.renderOutput(dataTable, element);\n",
              "        const docLink = document.createElement('div');\n",
              "        docLink.innerHTML = docLinkHtml;\n",
              "        element.appendChild(docLink);\n",
              "      }\n",
              "    </script>\n",
              "  </div>\n",
              "\n",
              "\n",
              "    <div id=\"df-44302c9d-4e38-46f2-85d6-7272e15f99d9\">\n",
              "      <button class=\"colab-df-quickchart\" onclick=\"quickchart('df-44302c9d-4e38-46f2-85d6-7272e15f99d9')\"\n",
              "                title=\"Suggest charts\"\n",
              "                style=\"display:none;\">\n",
              "\n",
              "<svg xmlns=\"http://www.w3.org/2000/svg\" height=\"24px\"viewBox=\"0 0 24 24\"\n",
              "     width=\"24px\">\n",
              "    <g>\n",
              "        <path d=\"M19 3H5c-1.1 0-2 .9-2 2v14c0 1.1.9 2 2 2h14c1.1 0 2-.9 2-2V5c0-1.1-.9-2-2-2zM9 17H7v-7h2v7zm4 0h-2V7h2v10zm4 0h-2v-4h2v4z\"/>\n",
              "    </g>\n",
              "</svg>\n",
              "      </button>\n",
              "\n",
              "<style>\n",
              "  .colab-df-quickchart {\n",
              "      --bg-color: #E8F0FE;\n",
              "      --fill-color: #1967D2;\n",
              "      --hover-bg-color: #E2EBFA;\n",
              "      --hover-fill-color: #174EA6;\n",
              "      --disabled-fill-color: #AAA;\n",
              "      --disabled-bg-color: #DDD;\n",
              "  }\n",
              "\n",
              "  [theme=dark] .colab-df-quickchart {\n",
              "      --bg-color: #3B4455;\n",
              "      --fill-color: #D2E3FC;\n",
              "      --hover-bg-color: #434B5C;\n",
              "      --hover-fill-color: #FFFFFF;\n",
              "      --disabled-bg-color: #3B4455;\n",
              "      --disabled-fill-color: #666;\n",
              "  }\n",
              "\n",
              "  .colab-df-quickchart {\n",
              "    background-color: var(--bg-color);\n",
              "    border: none;\n",
              "    border-radius: 50%;\n",
              "    cursor: pointer;\n",
              "    display: none;\n",
              "    fill: var(--fill-color);\n",
              "    height: 32px;\n",
              "    padding: 0;\n",
              "    width: 32px;\n",
              "  }\n",
              "\n",
              "  .colab-df-quickchart:hover {\n",
              "    background-color: var(--hover-bg-color);\n",
              "    box-shadow: 0 1px 2px rgba(60, 64, 67, 0.3), 0 1px 3px 1px rgba(60, 64, 67, 0.15);\n",
              "    fill: var(--button-hover-fill-color);\n",
              "  }\n",
              "\n",
              "  .colab-df-quickchart-complete:disabled,\n",
              "  .colab-df-quickchart-complete:disabled:hover {\n",
              "    background-color: var(--disabled-bg-color);\n",
              "    fill: var(--disabled-fill-color);\n",
              "    box-shadow: none;\n",
              "  }\n",
              "\n",
              "  .colab-df-spinner {\n",
              "    border: 2px solid var(--fill-color);\n",
              "    border-color: transparent;\n",
              "    border-bottom-color: var(--fill-color);\n",
              "    animation:\n",
              "      spin 1s steps(1) infinite;\n",
              "  }\n",
              "\n",
              "  @keyframes spin {\n",
              "    0% {\n",
              "      border-color: transparent;\n",
              "      border-bottom-color: var(--fill-color);\n",
              "      border-left-color: var(--fill-color);\n",
              "    }\n",
              "    20% {\n",
              "      border-color: transparent;\n",
              "      border-left-color: var(--fill-color);\n",
              "      border-top-color: var(--fill-color);\n",
              "    }\n",
              "    30% {\n",
              "      border-color: transparent;\n",
              "      border-left-color: var(--fill-color);\n",
              "      border-top-color: var(--fill-color);\n",
              "      border-right-color: var(--fill-color);\n",
              "    }\n",
              "    40% {\n",
              "      border-color: transparent;\n",
              "      border-right-color: var(--fill-color);\n",
              "      border-top-color: var(--fill-color);\n",
              "    }\n",
              "    60% {\n",
              "      border-color: transparent;\n",
              "      border-right-color: var(--fill-color);\n",
              "    }\n",
              "    80% {\n",
              "      border-color: transparent;\n",
              "      border-right-color: var(--fill-color);\n",
              "      border-bottom-color: var(--fill-color);\n",
              "    }\n",
              "    90% {\n",
              "      border-color: transparent;\n",
              "      border-bottom-color: var(--fill-color);\n",
              "    }\n",
              "  }\n",
              "</style>\n",
              "\n",
              "      <script>\n",
              "        async function quickchart(key) {\n",
              "          const quickchartButtonEl =\n",
              "            document.querySelector('#' + key + ' button');\n",
              "          quickchartButtonEl.disabled = true;  // To prevent multiple clicks.\n",
              "          quickchartButtonEl.classList.add('colab-df-spinner');\n",
              "          try {\n",
              "            const charts = await google.colab.kernel.invokeFunction(\n",
              "                'suggestCharts', [key], {});\n",
              "          } catch (error) {\n",
              "            console.error('Error during call to suggestCharts:', error);\n",
              "          }\n",
              "          quickchartButtonEl.classList.remove('colab-df-spinner');\n",
              "          quickchartButtonEl.classList.add('colab-df-quickchart-complete');\n",
              "        }\n",
              "        (() => {\n",
              "          let quickchartButtonEl =\n",
              "            document.querySelector('#df-44302c9d-4e38-46f2-85d6-7272e15f99d9 button');\n",
              "          quickchartButtonEl.style.display =\n",
              "            google.colab.kernel.accessAllowed ? 'block' : 'none';\n",
              "        })();\n",
              "      </script>\n",
              "    </div>\n",
              "\n",
              "    </div>\n",
              "  </div>\n"
            ],
            "application/vnd.google.colaboratory.intrinsic+json": {
              "type": "dataframe",
              "variable_name": "est",
              "summary": "{\n  \"name\": \"est\",\n  \"rows\": 70,\n  \"fields\": [\n    {\n      \"column\": \"id\",\n      \"properties\": {\n        \"dtype\": \"number\",\n        \"std\": 10204,\n        \"min\": 26014,\n        \"max\": 55139,\n        \"num_unique_values\": 70,\n        \"samples\": [\n          26417,\n          26014,\n          40960\n        ],\n        \"semantic_type\": \"\",\n        \"description\": \"\"\n      }\n    },\n    {\n      \"column\": \"id_os\",\n      \"properties\": {\n        \"dtype\": \"string\",\n        \"num_unique_values\": 70,\n        \"samples\": [\n          \"ESMAF-64\",\n          \"EORCAMENTO-26\",\n          \"MAGISTRATU-136\"\n        ],\n        \"semantic_type\": \"\",\n        \"description\": \"\"\n      }\n    },\n    {\n      \"column\": \"tipo_os\",\n      \"properties\": {\n        \"dtype\": \"category\",\n        \"num_unique_values\": 1,\n        \"samples\": [\n          \"Manutencao Evolutiva\"\n        ],\n        \"semantic_type\": \"\",\n        \"description\": \"\"\n      }\n    },\n    {\n      \"column\": \"linguagem_programacao\",\n      \"properties\": {\n        \"dtype\": \"category\",\n        \"num_unique_values\": 1,\n        \"samples\": [\n          \"PHP\"\n        ],\n        \"semantic_type\": \"\",\n        \"description\": \"\"\n      }\n    },\n    {\n      \"column\": \"prazo_contratual_dias_uteis\",\n      \"properties\": {\n        \"dtype\": \"number\",\n        \"std\": 32.56126889241358,\n        \"min\": 10.0,\n        \"max\": 142.0,\n        \"num_unique_values\": 13,\n        \"samples\": [\n          128.0\n        ],\n        \"semantic_type\": \"\",\n        \"description\": \"\"\n      }\n    },\n    {\n      \"column\": \"contagem_estimada_pf\",\n      \"properties\": {\n        \"dtype\": \"number\",\n        \"std\": 36.97473470102497,\n        \"min\": 4.0,\n        \"max\": 179.0,\n        \"num_unique_values\": 30,\n        \"samples\": [\n          32.0\n        ],\n        \"semantic_type\": \"\",\n        \"description\": \"\"\n      }\n    },\n    {\n      \"column\": \"contagem_bruta_pf_fsw\",\n      \"properties\": {\n        \"dtype\": \"number\",\n        \"std\": 50.4821513563889,\n        \"min\": 0.01,\n        \"max\": 307.0,\n        \"num_unique_values\": 44,\n        \"samples\": [\n          1.2\n        ],\n        \"semantic_type\": \"\",\n        \"description\": \"\"\n      }\n    },\n    {\n      \"column\": \"contagem_liquida_ajustada_pf_fsw\",\n      \"properties\": {\n        \"dtype\": \"number\",\n        \"std\": 23.81941431832254,\n        \"min\": 0.01,\n        \"max\": 105.6,\n        \"num_unique_values\": 56,\n        \"samples\": [\n          42.6\n        ],\n        \"semantic_type\": \"\",\n        \"description\": \"\"\n      }\n    },\n    {\n      \"column\": \"descricao\",\n      \"properties\": {\n        \"dtype\": \"category\",\n        \"num_unique_values\": 1,\n        \"samples\": [\n          \"OS faturada\"\n        ],\n        \"semantic_type\": \"\",\n        \"description\": \"\"\n      }\n    },\n    {\n      \"column\": \"tempo_fsw_dias_uteis\",\n      \"properties\": {\n        \"dtype\": \"string\",\n        \"num_unique_values\": 70,\n        \"samples\": [\n          \"74d 0h 6m\"\n        ],\n        \"semantic_type\": \"\",\n        \"description\": \"\"\n      }\n    },\n    {\n      \"column\": \"tempo_trf1_dias_uteis\",\n      \"properties\": {\n        \"dtype\": \"string\",\n        \"num_unique_values\": 70,\n        \"samples\": [\n          \"248d 6h 32m\"\n        ],\n        \"semantic_type\": \"\",\n        \"description\": \"\"\n      }\n    },\n    {\n      \"column\": \"tempo_fsw_dias_corridos_exclui_feriados\",\n      \"properties\": {\n        \"dtype\": \"string\",\n        \"num_unique_values\": 70,\n        \"samples\": [\n          \"100d 2h 6m\"\n        ],\n        \"semantic_type\": \"\",\n        \"description\": \"\"\n      }\n    },\n    {\n      \"column\": \"tempo_trf1-d_corr_inc_fer\",\n      \"properties\": {\n        \"dtype\": \"string\",\n        \"num_unique_values\": 70,\n        \"samples\": [\n          \"679d 9h 32m\"\n        ],\n        \"semantic_type\": \"\",\n        \"description\": \"\"\n      }\n    },\n    {\n      \"column\": \"tempo_fws_seg_uteis\",\n      \"properties\": {\n        \"dtype\": \"number\",\n        \"std\": 2195374,\n        \"min\": 68940,\n        \"max\": 8962300,\n        \"num_unique_values\": 70,\n        \"samples\": [\n          3463580\n        ],\n        \"semantic_type\": \"\",\n        \"description\": \"\"\n      }\n    },\n    {\n      \"column\": \"tempo_trf1_seg_uteis\",\n      \"properties\": {\n        \"dtype\": \"number\",\n        \"std\": 3029534,\n        \"min\": 211062,\n        \"max\": 15686400,\n        \"num_unique_values\": 70,\n        \"samples\": [\n          11630000\n        ],\n        \"semantic_type\": \"\",\n        \"description\": \"\"\n      }\n    },\n    {\n      \"column\": \"tempo_fsw_seg_corr_exc_fer\",\n      \"properties\": {\n        \"dtype\": \"number\",\n        \"std\": 5709709,\n        \"min\": 108540,\n        \"max\": 23650300,\n        \"num_unique_values\": 70,\n        \"samples\": [\n          8647580\n        ],\n        \"semantic_type\": \"\",\n        \"description\": \"\"\n      }\n    },\n    {\n      \"column\": \"tempo_trf1_seg_corr_inc_feriados\",\n      \"properties\": {\n        \"dtype\": \"number\",\n        \"std\": 8111416,\n        \"min\": 1370820,\n        \"max\": 42909600,\n        \"num_unique_values\": 70,\n        \"samples\": [\n          31811600\n        ],\n        \"semantic_type\": \"\",\n        \"description\": \"\"\n      }\n    }\n  ]\n}"
            }
          },
          "metadata": {},
          "execution_count": 18
        }
      ]
    },
    {
      "cell_type": "code",
      "metadata": {
        "colab": {
          "base_uri": "https://localhost:8080/",
          "height": 501
        },
        "id": "HncuHTxCfzTd",
        "outputId": "6eb626bc-9755-4ad1-cfb5-0f999351416f"
      },
      "source": [
        "import matplotlib.pyplot as plt\n",
        "plt.scatter(est['contagem_estimada_pf'],est['contagem_bruta_pf_fsw'])"
      ],
      "execution_count": 19,
      "outputs": [
        {
          "output_type": "execute_result",
          "data": {
            "text/plain": [
              "<matplotlib.collections.PathCollection at 0x7fe651c59650>"
            ]
          },
          "metadata": {},
          "execution_count": 19
        },
        {
          "output_type": "display_data",
          "data": {
            "text/plain": [
              "<Figure size 800x550 with 1 Axes>"
            ],
            "image/png": "[encoded data removed]"
          },
          "metadata": {}
        }
      ]
    },
    {
      "cell_type": "markdown",
      "metadata": {
        "id": "BqJYNLaCy_Ps"
      },
      "source": [
        "# **Regressão Múltipla**"
      ]
    },
    {
      "cell_type": "code",
      "metadata": {
        "colab": {
          "base_uri": "https://localhost:8080/"
        },
        "id": "O4nF5y-uv1EK",
        "outputId": "425fa422-fa10-4a81-87c9-dc3153472548"
      },
      "source": [
        "X2 = sm.add_constant(X)\n",
        "X2_OLS = sm.OLS(y, X2)\n",
        "X2_OLS = X2_OLS.fit()\n",
        "print(X2_OLS.summary())"
      ],
      "execution_count": 20,
      "outputs": [
        {
          "output_type": "stream",
          "name": "stdout",
          "text": [
            "                            OLS Regression Results                            \n",
            "==============================================================================\n",
            "Dep. Variable:                      y   R-squared:                       0.978\n",
            "Model:                            OLS   Adj. R-squared:                  0.977\n",
            "Method:                 Least Squares   F-statistic:                     983.2\n",
            "Date:                Tue, 13 May 2025   Prob (F-statistic):           1.09e-54\n",
            "Time:                        02:44:11   Log-Likelihood:                -208.87\n",
            "No. Observations:                  70   AIC:                             425.7\n",
            "Df Residuals:                      66   BIC:                             434.7\n",
            "Df Model:                           3                                         \n",
            "Covariance Type:            nonrobust                                         \n",
            "==============================================================================\n",
            "                 coef    std err          t      P>|t|      [0.025      0.975]\n",
            "------------------------------------------------------------------------------\n",
            "const          7.3077      0.759      9.628      0.000       5.792       8.823\n",
            "x1             0.9410      0.036     26.153      0.000       0.869       1.013\n",
            "x2            -0.1300      0.030     -4.306      0.000      -0.190      -0.070\n",
            "x3             0.1562      0.055      2.860      0.006       0.047       0.265\n",
            "==============================================================================\n",
            "Omnibus:                       56.214   Durbin-Watson:                   2.152\n",
            "Prob(Omnibus):                  0.000   Jarque-Bera (JB):              578.165\n",
            "Skew:                          -1.965   Prob(JB):                    2.84e-126\n",
            "Kurtosis:                      16.520   Cond. No.                         104.\n",
            "==============================================================================\n",
            "\n",
            "Notes:\n",
            "[1] Standard Errors assume that the covariance matrix of the errors is correctly specified.\n"
          ]
        }
      ]
    },
    {
      "cell_type": "markdown",
      "metadata": {
        "id": "OGS1aHG0zKZk"
      },
      "source": [
        "**Análise**\n",
        "\n",
        "x1 = contagem estimada\n",
        "\n",
        "x2 = contagem bruta\n",
        "\n",
        "x3 = contagem liquida\n",
        "\n",
        "Na regressão linear nula nossa variável x3 (contagem liquida apresentou 0.006) única variável que se mostrou menos significante, isso tem sentido pois a contagem liquida tem deflatores e glosas e tem menor coeficiente de explicação na sua regressão simples.\n",
        "\n"
      ]
    },
    {
      "cell_type": "code",
      "metadata": {
        "id": "f4cqsIUvmJjm",
        "colab": {
          "base_uri": "https://localhost:8080/",
          "height": 195
        },
        "outputId": "0b0a69ad-45f1-407e-f7d8-e20c746e6ba2"
      },
      "source": [
        "est[['prazo_contratual_dias_uteis','contagem_estimada_pf','contagem_bruta_pf_fsw','contagem_liquida_ajustada_pf_fsw']].corr()"
      ],
      "execution_count": 21,
      "outputs": [
        {
          "output_type": "execute_result",
          "data": {
            "text/plain": [
              "                                  prazo_contratual_dias_uteis  \\\n",
              "prazo_contratual_dias_uteis                          1.000000   \n",
              "contagem_estimada_pf                                 0.985817   \n",
              "contagem_bruta_pf_fsw                                0.846179   \n",
              "contagem_liquida_ajustada_pf_fsw                     0.834230   \n",
              "\n",
              "                                  contagem_estimada_pf  contagem_bruta_pf_fsw  \\\n",
              "prazo_contratual_dias_uteis                   0.985817               0.846179   \n",
              "contagem_estimada_pf                          1.000000               0.886393   \n",
              "contagem_bruta_pf_fsw                         0.886393               1.000000   \n",
              "contagem_liquida_ajustada_pf_fsw              0.839960               0.880728   \n",
              "\n",
              "                                  contagem_liquida_ajustada_pf_fsw  \n",
              "prazo_contratual_dias_uteis                               0.834230  \n",
              "contagem_estimada_pf                                      0.839960  \n",
              "contagem_bruta_pf_fsw                                     0.880728  \n",
              "contagem_liquida_ajustada_pf_fsw                          1.000000  "
            ],
            "text/html": [
              "\n",
              "  <div id=\"df-62fe6193-da56-4f18-82ec-a3aa3e4ef436\" class=\"colab-df-container\">\n",
              "    <div>\n",
              "<style scoped>\n",
              "    .dataframe tbody tr th:only-of-type {\n",
              "        vertical-align: middle;\n",
              "    }\n",
              "\n",
              "    .dataframe tbody tr th {\n",
              "        vertical-align: top;\n",
              "    }\n",
              "\n",
              "    .dataframe thead th {\n",
              "        text-align: right;\n",
              "    }\n",
              "</style>\n",
              "<table border=\"1\" class=\"dataframe\">\n",
              "  <thead>\n",
              "    <tr style=\"text-align: right;\">\n",
              "      <th></th>\n",
              "      <th>prazo_contratual_dias_uteis</th>\n",
              "      <th>contagem_estimada_pf</th>\n",
              "      <th>contagem_bruta_pf_fsw</th>\n",
              "      <th>contagem_liquida_ajustada_pf_fsw</th>\n",
              "    </tr>\n",
              "  </thead>\n",
              "  <tbody>\n",
              "    <tr>\n",
              "      <th>prazo_contratual_dias_uteis</th>\n",
              "      <td>1.000000</td>\n",
              "      <td>0.985817</td>\n",
              "      <td>0.846179</td>\n",
              "      <td>0.834230</td>\n",
              "    </tr>\n",
              "    <tr>\n",
              "      <th>contagem_estimada_pf</th>\n",
              "      <td>0.985817</td>\n",
              "      <td>1.000000</td>\n",
              "      <td>0.886393</td>\n",
              "      <td>0.839960</td>\n",
              "    </tr>\n",
              "    <tr>\n",
              "      <th>contagem_bruta_pf_fsw</th>\n",
              "      <td>0.846179</td>\n",
              "      <td>0.886393</td>\n",
              "      <td>1.000000</td>\n",
              "      <td>0.880728</td>\n",
              "    </tr>\n",
              "    <tr>\n",
              "      <th>contagem_liquida_ajustada_pf_fsw</th>\n",
              "      <td>0.834230</td>\n",
              "      <td>0.839960</td>\n",
              "      <td>0.880728</td>\n",
              "      <td>1.000000</td>\n",
              "    </tr>\n",
              "  </tbody>\n",
              "</table>\n",
              "</div>\n",
              "    <div class=\"colab-df-buttons\">\n",
              "\n",
              "  <div class=\"colab-df-container\">\n",
              "    <button class=\"colab-df-convert\" onclick=\"convertToInteractive('df-62fe6193-da56-4f18-82ec-a3aa3e4ef436')\"\n",
              "            title=\"Convert this dataframe to an interactive table.\"\n",
              "            style=\"display:none;\">\n",
              "\n",
              "  <svg xmlns=\"http://www.w3.org/2000/svg\" height=\"24px\" viewBox=\"0 -960 960 960\">\n",
              "    <path d=\"M120-120v-720h720v720H120Zm60-500h600v-160H180v160Zm220 220h160v-160H400v160Zm0 220h160v-160H400v160ZM180-400h160v-160H180v160Zm440 0h160v-160H620v160ZM180-180h160v-160H180v160Zm440 0h160v-160H620v160Z\"/>\n",
              "  </svg>\n",
              "    </button>\n",
              "\n",
              "  <style>\n",
              "    .colab-df-container {\n",
              "      display:flex;\n",
              "      gap: 12px;\n",
              "    }\n",
              "\n",
              "    .colab-df-convert {\n",
              "      background-color: #E8F0FE;\n",
              "      border: none;\n",
              "      border-radius: 50%;\n",
              "      cursor: pointer;\n",
              "      display: none;\n",
              "      fill: #1967D2;\n",
              "      height: 32px;\n",
              "      padding: 0 0 0 0;\n",
              "      width: 32px;\n",
              "    }\n",
              "\n",
              "    .colab-df-convert:hover {\n",
              "      background-color: #E2EBFA;\n",
              "      box-shadow: 0px 1px 2px rgba(60, 64, 67, 0.3), 0px 1px 3px 1px rgba(60, 64, 67, 0.15);\n",
              "      fill: #174EA6;\n",
              "    }\n",
              "\n",
              "    .colab-df-buttons div {\n",
              "      margin-bottom: 4px;\n",
              "    }\n",
              "\n",
              "    [theme=dark] .colab-df-convert {\n",
              "      background-color: #3B4455;\n",
              "      fill: #D2E3FC;\n",
              "    }\n",
              "\n",
              "    [theme=dark] .colab-df-convert:hover {\n",
              "      background-color: #434B5C;\n",
              "      box-shadow: 0px 1px 3px 1px rgba(0, 0, 0, 0.15);\n",
              "      filter: drop-shadow(0px 1px 2px rgba(0, 0, 0, 0.3));\n",
              "      fill: #FFFFFF;\n",
              "    }\n",
              "  </style>\n",
              "\n",
              "    <script>\n",
              "      const buttonEl =\n",
              "        document.querySelector('#df-62fe6193-da56-4f18-82ec-a3aa3e4ef436 button.colab-df-convert');\n",
              "      buttonEl.style.display =\n",
              "        google.colab.kernel.accessAllowed ? 'block' : 'none';\n",
              "\n",
              "      async function convertToInteractive(key) {\n",
              "        const element = document.querySelector('#df-62fe6193-da56-4f18-82ec-a3aa3e4ef436');\n",
              "        const dataTable =\n",
              "          await google.colab.kernel.invokeFunction('convertToInteractive',\n",
              "                                                    [key], {});\n",
              "        if (!dataTable) return;\n",
              "\n",
              "        const docLinkHtml = 'Like what you see? Visit the ' +\n",
              "          '<a target=\"_blank\" href=https://colab.research.google.com/notebooks/data_table.ipynb>data table notebook</a>'\n",
              "          + ' to learn more about interactive tables.';\n",
              "        element.innerHTML = '';\n",
              "        dataTable['output_type'] = 'display_data';\n",
              "        await google.colab.output.renderOutput(dataTable, element);\n",
              "        const docLink = document.createElement('div');\n",
              "        docLink.innerHTML = docLinkHtml;\n",
              "        element.appendChild(docLink);\n",
              "      }\n",
              "    </script>\n",
              "  </div>\n",
              "\n",
              "\n",
              "    <div id=\"df-dc9c4a3b-57e5-4799-a987-874c6d16c5a8\">\n",
              "      <button class=\"colab-df-quickchart\" onclick=\"quickchart('df-dc9c4a3b-57e5-4799-a987-874c6d16c5a8')\"\n",
              "                title=\"Suggest charts\"\n",
              "                style=\"display:none;\">\n",
              "\n",
              "<svg xmlns=\"http://www.w3.org/2000/svg\" height=\"24px\"viewBox=\"0 0 24 24\"\n",
              "     width=\"24px\">\n",
              "    <g>\n",
              "        <path d=\"M19 3H5c-1.1 0-2 .9-2 2v14c0 1.1.9 2 2 2h14c1.1 0 2-.9 2-2V5c0-1.1-.9-2-2-2zM9 17H7v-7h2v7zm4 0h-2V7h2v10zm4 0h-2v-4h2v4z\"/>\n",
              "    </g>\n",
              "</svg>\n",
              "      </button>\n",
              "\n",
              "<style>\n",
              "  .colab-df-quickchart {\n",
              "      --bg-color: #E8F0FE;\n",
              "      --fill-color: #1967D2;\n",
              "      --hover-bg-color: #E2EBFA;\n",
              "      --hover-fill-color: #174EA6;\n",
              "      --disabled-fill-color: #AAA;\n",
              "      --disabled-bg-color: #DDD;\n",
              "  }\n",
              "\n",
              "  [theme=dark] .colab-df-quickchart {\n",
              "      --bg-color: #3B4455;\n",
              "      --fill-color: #D2E3FC;\n",
              "      --hover-bg-color: #434B5C;\n",
              "      --hover-fill-color: #FFFFFF;\n",
              "      --disabled-bg-color: #3B4455;\n",
              "      --disabled-fill-color: #666;\n",
              "  }\n",
              "\n",
              "  .colab-df-quickchart {\n",
              "    background-color: var(--bg-color);\n",
              "    border: none;\n",
              "    border-radius: 50%;\n",
              "    cursor: pointer;\n",
              "    display: none;\n",
              "    fill: var(--fill-color);\n",
              "    height: 32px;\n",
              "    padding: 0;\n",
              "    width: 32px;\n",
              "  }\n",
              "\n",
              "  .colab-df-quickchart:hover {\n",
              "    background-color: var(--hover-bg-color);\n",
              "    box-shadow: 0 1px 2px rgba(60, 64, 67, 0.3), 0 1px 3px 1px rgba(60, 64, 67, 0.15);\n",
              "    fill: var(--button-hover-fill-color);\n",
              "  }\n",
              "\n",
              "  .colab-df-quickchart-complete:disabled,\n",
              "  .colab-df-quickchart-complete:disabled:hover {\n",
              "    background-color: var(--disabled-bg-color);\n",
              "    fill: var(--disabled-fill-color);\n",
              "    box-shadow: none;\n",
              "  }\n",
              "\n",
              "  .colab-df-spinner {\n",
              "    border: 2px solid var(--fill-color);\n",
              "    border-color: transparent;\n",
              "    border-bottom-color: var(--fill-color);\n",
              "    animation:\n",
              "      spin 1s steps(1) infinite;\n",
              "  }\n",
              "\n",
              "  @keyframes spin {\n",
              "    0% {\n",
              "      border-color: transparent;\n",
              "      border-bottom-color: var(--fill-color);\n",
              "      border-left-color: var(--fill-color);\n",
              "    }\n",
              "    20% {\n",
              "      border-color: transparent;\n",
              "      border-left-color: var(--fill-color);\n",
              "      border-top-color: var(--fill-color);\n",
              "    }\n",
              "    30% {\n",
              "      border-color: transparent;\n",
              "      border-left-color: var(--fill-color);\n",
              "      border-top-color: var(--fill-color);\n",
              "      border-right-color: var(--fill-color);\n",
              "    }\n",
              "    40% {\n",
              "      border-color: transparent;\n",
              "      border-right-color: var(--fill-color);\n",
              "      border-top-color: var(--fill-color);\n",
              "    }\n",
              "    60% {\n",
              "      border-color: transparent;\n",
              "      border-right-color: var(--fill-color);\n",
              "    }\n",
              "    80% {\n",
              "      border-color: transparent;\n",
              "      border-right-color: var(--fill-color);\n",
              "      border-bottom-color: var(--fill-color);\n",
              "    }\n",
              "    90% {\n",
              "      border-color: transparent;\n",
              "      border-bottom-color: var(--fill-color);\n",
              "    }\n",
              "  }\n",
              "</style>\n",
              "\n",
              "      <script>\n",
              "        async function quickchart(key) {\n",
              "          const quickchartButtonEl =\n",
              "            document.querySelector('#' + key + ' button');\n",
              "          quickchartButtonEl.disabled = true;  // To prevent multiple clicks.\n",
              "          quickchartButtonEl.classList.add('colab-df-spinner');\n",
              "          try {\n",
              "            const charts = await google.colab.kernel.invokeFunction(\n",
              "                'suggestCharts', [key], {});\n",
              "          } catch (error) {\n",
              "            console.error('Error during call to suggestCharts:', error);\n",
              "          }\n",
              "          quickchartButtonEl.classList.remove('colab-df-spinner');\n",
              "          quickchartButtonEl.classList.add('colab-df-quickchart-complete');\n",
              "        }\n",
              "        (() => {\n",
              "          let quickchartButtonEl =\n",
              "            document.querySelector('#df-dc9c4a3b-57e5-4799-a987-874c6d16c5a8 button');\n",
              "          quickchartButtonEl.style.display =\n",
              "            google.colab.kernel.accessAllowed ? 'block' : 'none';\n",
              "        })();\n",
              "      </script>\n",
              "    </div>\n",
              "\n",
              "    </div>\n",
              "  </div>\n"
            ],
            "application/vnd.google.colaboratory.intrinsic+json": {
              "type": "dataframe",
              "summary": "{\n  \"name\": \"est[['prazo_contratual_dias_uteis','contagem_estimada_pf','contagem_bruta_pf_fsw','contagem_liquida_ajustada_pf_fsw']]\",\n  \"rows\": 4,\n  \"fields\": [\n    {\n      \"column\": \"prazo_contratual_dias_uteis\",\n      \"properties\": {\n        \"dtype\": \"number\",\n        \"std\": 0.08848853264259741,\n        \"min\": 0.8342296420163644,\n        \"max\": 1.0,\n        \"num_unique_values\": 4,\n        \"samples\": [\n          0.9858174470665175,\n          0.8342296420163644,\n          1.0\n        ],\n        \"semantic_type\": \"\",\n        \"description\": \"\"\n      }\n    },\n    {\n      \"column\": \"contagem_estimada_pf\",\n      \"properties\": {\n        \"dtype\": \"number\",\n        \"std\": 0.07747923193497712,\n        \"min\": 0.8399596879490702,\n        \"max\": 1.0,\n        \"num_unique_values\": 4,\n        \"samples\": [\n          1.0,\n          0.8399596879490702,\n          0.9858174470665175\n        ],\n        \"semantic_type\": \"\",\n        \"description\": \"\"\n      }\n    },\n    {\n      \"column\": \"contagem_bruta_pf_fsw\",\n      \"properties\": {\n        \"dtype\": \"number\",\n        \"std\": 0.06685577319160324,\n        \"min\": 0.846178568789352,\n        \"max\": 1.0,\n        \"num_unique_values\": 4,\n        \"samples\": [\n          0.8863929375759491,\n          0.8807281359669535,\n          0.846178568789352\n        ],\n        \"semantic_type\": \"\",\n        \"description\": \"\"\n      }\n    },\n    {\n      \"column\": \"contagem_liquida_ajustada_pf_fsw\",\n      \"properties\": {\n        \"dtype\": \"number\",\n        \"std\": 0.0770148796971241,\n        \"min\": 0.8342296420163644,\n        \"max\": 1.0,\n        \"num_unique_values\": 4,\n        \"samples\": [\n          0.8399596879490702,\n          1.0,\n          0.8342296420163644\n        ],\n        \"semantic_type\": \"\",\n        \"description\": \"\"\n      }\n    }\n  ]\n}"
            }
          },
          "metadata": {},
          "execution_count": 21
        }
      ]
    },
    {
      "cell_type": "markdown",
      "metadata": {
        "id": "_-hStcvbkan3"
      },
      "source": [
        "**Análise**\n",
        "\n",
        "Com a função de correlação vemos que as váriaveis contagem_estimada_pf tem uma forte correlação com prazo_contratual_dias_uteis e contagem_bruta_pf_fsw também tem forte correlação com prazo_contratual_dias_uteis. Como já dito é uma surpresa pois o pensamento antes de analisar os dados era que a contagem estimada seria a pior variável para se analisar, devido a imprecisão e o momento que ela é realizada que é inicialmente no projeto.\n",
        "\n",
        "Mas isso é válido quando fazemos as regressões dos tipos de OS manutenção evolutiva, quando se trata de projetos novos, esses valores mudam totalmente, na base também temos esses dados mas para o trabalho focamos apenas nas manuntenção evolutivas."
      ]
    },
    {
      "cell_type": "code",
      "metadata": {
        "colab": {
          "base_uri": "https://localhost:8080/"
        },
        "id": "V53u1cJ47P2W",
        "outputId": "68b23b5a-3f39-43cf-ce65-0ed25abc55af"
      },
      "source": [
        "X3 = X[:,[0,1]]\n",
        "#print(X3)\n",
        "X3_OLS = sm.OLS(y, X3)\n",
        "X3_OLS = X3_OLS.fit()\n",
        "print(X3_OLS.summary())\n"
      ],
      "execution_count": 22,
      "outputs": [
        {
          "output_type": "stream",
          "name": "stdout",
          "text": [
            "                                 OLS Regression Results                                \n",
            "=======================================================================================\n",
            "Dep. Variable:                      y   R-squared (uncentered):                   0.969\n",
            "Model:                            OLS   Adj. R-squared (uncentered):              0.969\n",
            "Method:                 Least Squares   F-statistic:                              1080.\n",
            "Date:                Tue, 13 May 2025   Prob (F-statistic):                    2.96e-52\n",
            "Time:                        02:44:15   Log-Likelihood:                         -244.52\n",
            "No. Observations:                  70   AIC:                                      493.0\n",
            "Df Residuals:                      68   BIC:                                      497.5\n",
            "Df Model:                           2                                                  \n",
            "Covariance Type:            nonrobust                                                  \n",
            "==============================================================================\n",
            "                 coef    std err          t      P>|t|      [0.025      0.975]\n",
            "------------------------------------------------------------------------------\n",
            "x1             1.0535      0.055     19.085      0.000       0.943       1.164\n",
            "x2            -0.0692      0.042     -1.665      0.100      -0.152       0.014\n",
            "==============================================================================\n",
            "Omnibus:                       99.901   Durbin-Watson:                   1.341\n",
            "Prob(Omnibus):                  0.000   Jarque-Bera (JB):             1793.095\n",
            "Skew:                          -4.439   Prob(JB):                         0.00\n",
            "Kurtosis:                      26.150   Cond. No.                         5.32\n",
            "==============================================================================\n",
            "\n",
            "Notes:\n",
            "[1] R² is computed without centering (uncentered) since the model does not contain a constant.\n",
            "[2] Standard Errors assume that the covariance matrix of the errors is correctly specified.\n"
          ]
        }
      ]
    },
    {
      "cell_type": "markdown",
      "metadata": {
        "id": "anznEwbJ7-Mk"
      },
      "source": [
        "**Análise**\n",
        "\n",
        "Retirei a variável x3 = contagem liquida e rodei novamente nossa regressão, sendo que pouco alterou no nosso R² agora está em 0.969.\n"
      ]
    },
    {
      "cell_type": "code",
      "metadata": {
        "colab": {
          "base_uri": "https://localhost:8080/",
          "height": 577
        },
        "id": "GcsDWCjR8YPs",
        "outputId": "695f0d50-0430-4121-c74b-693c17029067"
      },
      "source": [
        "est = pd.read_csv('/content/gdrive/MyDrive/TRF/historicov3.csv',encoding='latin1') #charset\n",
        "#est = est[est['tipo_os']=='Ordem de Servico'] #Estou carregando agora apenas os dados de novos projetos de desenvolvimento.\n",
        "est = est[est['tipo_os']=='Manutencao Evolutiva']\n",
        "\n",
        "est = est[est['descricao']=='OS faturada']\n",
        "\n",
        "X = est.iloc[:,5:8].values\n",
        "y = est.iloc[:,4].values\n",
        "\n",
        "#print(X)\n",
        "\n",
        "cont_est = np.reshape(X[:,0], (-1,1))\n",
        "cont_bruta = np.reshape(X[:,1], (-1,1))\n",
        "cont_liq = np.reshape(X[:,2], (-1,1))\n",
        "\n",
        "\n",
        "#print(cont_bruta)\n",
        "#\n",
        "cont_est_lr = LinearRegression()\n",
        "cont_est_lr.fit(cont_est, y)\n",
        "\n",
        "#\n",
        "cont_bruta_lr = LinearRegression()\n",
        "cont_bruta_lr.fit(cont_bruta, y)\n",
        "\n",
        "\n",
        "#\n",
        "cont_liq_lr = LinearRegression()\n",
        "cont_liq_lr.fit(cont_liq, y)\n",
        "\n",
        "fig = go.Figure()\n",
        "\n",
        "fig.add_trace(go.Scatter(x=cont_bruta.T[0], y=y, name='cont_bruta', mode='markers'))\n",
        "fig.add_trace(go.Scatter(x=cont_est.T[0], y=y, name='cont_est', mode='markers'))\n",
        "fig.add_trace(go.Scatter(x=cont_liq.T[0], y=y, name='cont_liq', mode='markers'))\n",
        "\n",
        "fig.add_trace(go.Scatter(x=cont_bruta.T[0], y=cont_bruta_lr.predict(cont_bruta), mode='lines', name='cont_bruta'))\n",
        "fig.add_trace(go.Scatter(x=cont_est.T[0], y=cont_est_lr.predict(cont_est), mode='lines', name='cont_est'))\n",
        "fig.add_trace(go.Scatter(x=cont_liq.T[0], y=cont_liq_lr.predict(cont_liq), mode='lines', name='cont_liq'))\n",
        "\n",
        "fig.update_layout(xaxis={\"title\": \"Contagem\"},\n",
        "                  yaxis={\"title\": \"Prazo em Dias\"})\n",
        "\n",
        "fig.show()\n",
        "\n",
        "cont_bruta_lr.predict([[200.0]])\n",
        "print(cont_bruta_lr.coef_[0], cont_bruta_lr.intercept_ )\n",
        "print(cont_est_lr.coef_[0], cont_est_lr.intercept_ )"
      ],
      "execution_count": 23,
      "outputs": [
        {
          "output_type": "display_data",
          "data": {
            "text/html": [
              "<html>\n",
              "<head><meta charset=\"utf-8\" /></head>\n",
              "<body>\n",
              "    <div>            <script src=\"https://cdnjs.cloudflare.com/ajax/libs/mathjax/2.7.5/MathJax.js?config=TeX-AMS-MML_SVG\"></script><script type=\"text/javascript\">if (window.MathJax && window.MathJax.Hub && window.MathJax.Hub.Config) {window.MathJax.Hub.Config({SVG: {font: \"STIX-Web\"}});}</script>                <script type=\"text/javascript\">window.PlotlyConfig = {MathJaxConfig: 'local'};</script>\n",
              "        <script charset=\"utf-8\" src=\"https://cdn.plot.ly/plotly-2.35.2.min.js\"></script>                <div id=\"701d0781-2602-4579-9bec-9d05c47f719c\" class=\"plotly-graph-div\" style=\"height:525px; width:100%;\"></div>            <script type=\"text/javascript\">                                    window.PLOTLYENV=window.PLOTLYENV || {};                                    if (document.getElementById(\"701d0781-2602-4579-9bec-9d05c47f719c\")) {                    Plotly.newPlot(                        \"701d0781-2602-4579-9bec-9d05c47f719c\",                        [{\"mode\":\"markers\",\"name\":\"cont_bruta\",\"x\":[5.0,4.0,33.0,4.0,12.0,14.0,5.0,6.5,6.0,12.0,30.0,53.0,7.0,70.0,6.0,6.0,6.0,12.0,12.0,34.0,71.0,5.0,7.0,6.0,6.0,89.0,20.0,5.0,28.0,23.0,6.0,4.0,12.0,26.0,6.0,6.0,0.6,15.0,6.0,24.0,6.0,50.0,10.0,0.6,5.0,6.0,14.0,10.0,19.0,6.0,42.0,6.0,6.0,16.0,23.0,55.0,6.0,12.0,7.0,49.0,1.0,6.0,162.0,1.2,18.0,14.0,5.0,6.0,11.0,17.0,4.0,34.0,18.0,7.0,46.0,5.0,7.0,26.0,6.0,14.0,59.0,6.0,7.0,4.0,7.0,12.0,7.0,88.0,7.0,33.0,32.0,6.0,21.0,14.0,7.0,7.0,19.0,7.0,4.0,4.0,7.0,7.0,6.0,7.0,17.0,1.0,178.2,0.01,3.0,38.0,6.0,8.0,0.6,32.0,110.0,6.0,0.6,142.0,6.0,9.0,55.0,7.0,8.0,7.0,12.0,14.0,18.0,28.0,17.0,12.0,12.0,39.0,13.0,8.0,16.0,6.0,12.0,6.0,12.0,31.0,16.0,8.0,54.0,5.0,20.0,151.1,3.0,4.0,4.0,6.0,11.0,4.0,6.0,5.0,7.0,10.0,35.0,22.0,35.0,80.0,13.0,7.0,3.0,6.0,18.0,30.0,19.0,6.0,24.0,3.0,9.0,15.0,14.0,7.0,7.0,3.0,15.0,42.0,3.0,7.0,18.0,5.0,42.0,6.0,3.0,6.0,7.0,3.0,13.0,6.0,0.0,18.0,52.0,53.0,44.0,52.0,7.0,15.9,6.0,28.0,10.0,7.0,0.6,34.0,5.0,14.0,40.0,39.0,11.0,6.0,7.0,10.0,6.0,7.0,58.0,22.0,26.0,4.0,16.0,15.0,22.0,5.0,7.0,6.0,3.0,7.0,19.0,6.0,25.0,7.0,50.0,14.0,7.0,21.0,4.0,64.0,52.0,4.0,39.0,7.0,12.6,7.0,5.0,11.0,9.0,95.0,3.0,37.0,18.0,24.0,5.0,14.0,4.8,248.8,28.0,8.0,4.0,9.0,13.0,6.0,3.0,28.0,21.0,8.0,7.0,6.0,34.0,54.0,29.0,18.0,20.0,6.0,4.0,18.0,9.0,25.0,6.0,12.0,0.9,23.0,4.0,19.0,73.0,40.3,35.0,6.0,14.0,38.0,62.0,39.0,4.0,7.0,6.0,12.0,7.0,7.0,21.0,33.0,39.0,20.0,6.0,85.0,28.0,26.0,4.0,4.0,7.0,6.0,38.0,7.0,20.0,3.0,0.6,3.0,4.0,19.0,60.0,31.0,3.0,3.0,14.0,6.0,4.0,22.0,5.0,59.0,0.6,7.0,3.0,9.0,9.0,7.0,39.0,8.0,4.0,22.0,32.0,18.0,7.0,5.0,10.0,6.0,10.0,21.0,6.0,6.0,55.0,29.0,18.0,7.0,7.0,7.0,3.0,0.45,5.0,38.0,44.0,5.0,7.0,12.0,3.0,19.0,6.0,18.0,39.0,11.0,12.0,5.0,7.0,15.0,6.0,6.0,32.0,42.0,18.0,16.0,6.0,5.0,12.0,4.0,14.0,12.0,11.0,20.0,6.0,7.0,52.0,28.0,5.0,7.0,6.0,16.0,14.0,28.0,7.0,115.0,31.0,7.0,9.0,8.0,5.0,29.0,1.2,7.0,11.0,25.0,7.0,6.0,0.38,7.0,9.0,7.0,9.0,24.0,164.0,30.0,12.0,38.0,18.0,19.0,3.0,5.0,12.0,53.0,50.0,7.0,4.0,7.0,14.0,18.0,4.0,12.0,3.0,7.0,6.0,7.0,31.0,6.0,15.0,4.0,12.0,6.0,31.0,4.0,3.0,5.0,10.0,19.0,49.0,3.0,22.0,7.0,7.0,3.0,27.0,75.0,6.0,44.0,15.0,0.16,4.0,7.0,5.0,24.0,42.0,7.0,0.08,307.0,28.0,19.0],\"y\":[10.0,10.0,40.0,10.0,10.0,10.0,10.0,10.0,10.0,20.0,30.0,50.0,10.0,60.0,10.0,10.0,20.0,10.0,10.0,40.0,80.0,10.0,10.0,10.0,10.0,116.0,10.0,10.0,20.0,30.0,10.0,10.0,10.0,20.0,10.0,10.0,2.0,10.0,10.0,20.0,10.0,40.0,10.0,2.0,10.0,10.0,10.0,10.0,10.0,10.0,30.0,10.0,10.0,20.0,30.0,40.0,10.0,20.0,10.0,40.0,10.0,10.0,119.0,10.0,20.0,10.0,10.0,10.0,10.0,20.0,10.0,30.0,20.0,10.0,40.0,10.0,10.0,20.0,10.0,10.0,60.0,10.0,10.0,10.0,10.0,10.0,10.0,80.0,10.0,30.0,40.0,10.0,20.0,20.0,10.0,10.0,20.0,10.0,10.0,10.0,10.0,10.0,10.0,10.0,20.0,10.0,142.0,20.0,10.0,30.0,10.0,10.0,2.0,30.0,80.0,20.0,2.0,70.0,10.0,30.0,40.0,10.0,10.0,10.0,10.0,30.0,20.0,30.0,20.0,10.0,20.0,30.0,10.0,10.0,20.0,10.0,10.0,10.0,10.0,50.0,10.0,70.0,124.0,30.0,40.0,50.0,2.0,10.0,10.0,10.0,20.0,20.0,10.0,10.0,10.0,20.0,30.0,60.0,30.0,50.0,10.0,10.0,10.0,10.0,30.0,30.0,20.0,10.0,20.0,50.0,10.0,20.0,10.0,10.0,10.0,10.0,20.0,60.0,20.0,10.0,20.0,10.0,60.0,10.0,10.0,10.0,10.0,10.0,10.0,10.0,147.0,60.0,60.0,40.0,40.0,40.0,10.0,50.0,10.0,30.0,10.0,10.0,2.0,50.0,10.0,10.0,30.0,40.0,20.0,10.0,10.0,20.0,10.0,10.0,60.0,30.0,30.0,10.0,20.0,30.0,10.0,10.0,20.0,2.0,10.0,10.0,40.0,10.0,30.0,10.0,40.0,20.0,10.0,40.0,10.0,40.0,40.0,10.0,30.0,10.0,10.0,10.0,10.0,10.0,10.0,90.0,10.0,30.0,20.0,20.0,20.0,20.0,10.0,150.0,10.0,20.0,10.0,30.0,20.0,10.0,10.0,10.0,10.0,10.0,20.0,10.0,30.0,40.0,20.0,20.0,20.0,10.0,10.0,20.0,10.0,20.0,10.0,20.0,2.0,20.0,10.0,20.0,70.0,40.0,10.0,10.0,10.0,30.0,60.0,40.0,10.0,10.0,10.0,10.0,10.0,10.0,20.0,30.0,20.0,10.0,10.0,60.0,30.0,20.0,10.0,10.0,20.0,10.0,20.0,10.0,70.0,20.0,10.0,20.0,10.0,20.0,80.0,20.0,10.0,10.0,20.0,10.0,10.0,30.0,10.0,70.0,2.0,10.0,10.0,20.0,10.0,10.0,30.0,10.0,10.0,40.0,20.0,20.0,10.0,10.0,10.0,10.0,20.0,40.0,10.0,10.0,50.0,20.0,20.0,10.0,10.0,10.0,20.0,2.0,10.0,20.0,30.0,10.0,10.0,10.0,10.0,40.0,10.0,20.0,30.0,20.0,10.0,20.0,10.0,10.0,10.0,10.0,20.0,30.0,10.0,20.0,10.0,10.0,20.0,10.0,10.0,20.0,10.0,30.0,10.0,10.0,50.0,20.0,10.0,10.0,10.0,20.0,10.0,20.0,10.0,30.0,30.0,10.0,20.0,10.0,10.0,20.0,20.0,10.0,10.0,20.0,10.0,10.0,2.0,10.0,10.0,10.0,20.0,20.0,128.0,30.0,10.0,30.0,20.0,20.0,10.0,10.0,10.0,60.0,40.0,10.0,10.0,10.0,10.0,20.0,10.0,20.0,10.0,10.0,10.0,10.0,20.0,10.0,40.0,10.0,10.0,10.0,40.0,10.0,10.0,10.0,10.0,20.0,70.0,10.0,30.0,10.0,10.0,10.0,30.0,80.0,10.0,20.0,20.0,10.0,10.0,10.0,10.0,20.0,60.0,10.0,20.0,141.0,20.0,20.0],\"type\":\"scatter\"},{\"mode\":\"markers\",\"name\":\"cont_est\",\"x\":[5.0,5.0,37.0,4.0,8.0,10.0,5.0,5.0,3.75,16.0,23.0,41.0,5.0,57.0,4.0,4.0,12.0,4.0,8.0,35.0,72.0,5.0,4.0,5.0,5.0,101.0,4.0,5.0,20.0,24.0,4.0,4.0,4.0,12.0,4.0,4.0,1.0,8.0,4.0,16.0,4.0,35.0,8.0,1.0,10.0,9.0,5.0,10.0,8.0,8.0,28.0,4.0,4.0,12.0,24.0,38.0,4.0,18.0,4.0,33.0,4.0,4.0,108.0,4.0,16.0,10.0,5.0,4.0,9.0,19.0,4.0,30.0,11.0,4.0,36.0,5.0,5.0,19.0,4.0,10.0,53.0,4.0,5.0,4.0,5.0,9.0,5.0,75.0,5.0,29.0,33.0,5.0,15.0,15.0,5.0,4.0,15.0,5.0,5.0,5.0,5.0,5.0,5.0,4.0,17.0,5.0,179.0,12.0,4.0,27.0,4.0,5.0,1.0,29.0,80.0,13.0,1.0,66.0,4.0,22.0,38.0,5.0,9.0,10.0,9.0,26.0,12.0,27.0,15.0,4.0,12.0,27.0,4.0,8.0,12.0,4.0,4.0,8.0,8.0,45.0,5.0,62.0,123.0,28.0,31.0,47.0,1.0,5.0,10.0,5.0,14.0,16.0,5.0,5.0,5.0,13.0,26.0,54.0,25.0,47.0,4.0,4.0,4.0,4.0,24.0,24.0,12.0,4.0,20.0,44.0,8.0,12.0,8.0,8.0,8.0,4.0,16.0,52.0,12.0,8.0,16.0,5.0,51.5,5.0,8.0,4.0,5.0,4.0,9.0,4.0,196.0,56.0,53.0,38.0,38.0,39.0,4.0,50.0,8.0,27.0,4.0,4.0,0.6,47.0,4.0,8.0,24.0,32.0,12.0,4.0,4.0,12.0,3.0,4.0,56.0,23.0,24.0,4.0,19.0,23.0,8.0,8.0,16.0,1.2,8.0,5.0,34.0,5.0,24.0,4.0,38.0,12.0,8.0,32.0,4.0,40.0,40.0,4.0,28.0,5.0,4.6,4.0,8.0,8.0,4.0,89.0,4.0,24.0,12.0,16.0,16.6,12.0,3.6,208.0,4.0,12.0,4.0,23.0,16.0,4.0,4.0,8.0,4.0,4.0,12.0,7.0,27.0,35.0,20.0,12.0,12.0,4.0,4.0,19.0,8.0,19.0,4.0,12.0,0.9,16.0,8.0,20.0,63.0,31.0,8.0,4.0,10.0,30.0,56.0,33.0,5.0,4.0,4.0,10.0,10.0,8.0,16.0,28.6,16.0,8.0,4.0,51.0,27.0,16.0,4.0,8.0,12.0,4.0,20.0,4.0,63.0,12.0,4.0,16.0,4.0,19.0,80.0,20.0,4.0,4.0,12.0,5.0,4.0,23.0,4.0,64.0,1.8,4.0,4.0,14.0,8.0,8.0,24.0,8.0,4.0,32.0,16.0,13.0,4.0,4.0,4.0,4.0,12.0,38.0,4.0,4.0,42.0,12.0,12.0,4.0,4.0,4.0,13.0,0.45,4.0,19.0,25.0,4.0,4.0,9.0,8.0,35.0,4.0,12.0,24.0,12.0,4.6,12.0,4.0,8.0,4.0,4.0,16.0,24.0,8.0,19.8,4.0,4.0,19.0,4.0,8.0,18.0,8.0,22.0,4.0,4.0,43.0,12.0,4.0,5.0,4.0,20.0,10.0,16.0,5.0,28.0,26.0,5.0,12.0,8.0,4.0,17.0,20.0,5.0,4.0,15.0,5.0,8.0,0.45,8.0,10.0,5.0,12.0,12.0,133.6,24.0,8.0,28.0,12.0,16.0,8.0,5.0,8.0,53.0,32.0,5.0,4.0,4.0,8.0,17.0,5.0,12.0,4.0,5.0,4.0,5.0,20.0,4.0,32.0,5.0,8.0,8.0,32.0,5.0,5.0,5.0,10.0,16.0,61.0,5.0,22.0,5.0,5.0,4.0,23.0,75.0,4.0,12.0,16.0,5.0,5.0,5.0,7.0,12.0,52.0,10.0,12.0,175.0,12.0,16.0],\"y\":[10.0,10.0,40.0,10.0,10.0,10.0,10.0,10.0,10.0,20.0,30.0,50.0,10.0,60.0,10.0,10.0,20.0,10.0,10.0,40.0,80.0,10.0,10.0,10.0,10.0,116.0,10.0,10.0,20.0,30.0,10.0,10.0,10.0,20.0,10.0,10.0,2.0,10.0,10.0,20.0,10.0,40.0,10.0,2.0,10.0,10.0,10.0,10.0,10.0,10.0,30.0,10.0,10.0,20.0,30.0,40.0,10.0,20.0,10.0,40.0,10.0,10.0,119.0,10.0,20.0,10.0,10.0,10.0,10.0,20.0,10.0,30.0,20.0,10.0,40.0,10.0,10.0,20.0,10.0,10.0,60.0,10.0,10.0,10.0,10.0,10.0,10.0,80.0,10.0,30.0,40.0,10.0,20.0,20.0,10.0,10.0,20.0,10.0,10.0,10.0,10.0,10.0,10.0,10.0,20.0,10.0,142.0,20.0,10.0,30.0,10.0,10.0,2.0,30.0,80.0,20.0,2.0,70.0,10.0,30.0,40.0,10.0,10.0,10.0,10.0,30.0,20.0,30.0,20.0,10.0,20.0,30.0,10.0,10.0,20.0,10.0,10.0,10.0,10.0,50.0,10.0,70.0,124.0,30.0,40.0,50.0,2.0,10.0,10.0,10.0,20.0,20.0,10.0,10.0,10.0,20.0,30.0,60.0,30.0,50.0,10.0,10.0,10.0,10.0,30.0,30.0,20.0,10.0,20.0,50.0,10.0,20.0,10.0,10.0,10.0,10.0,20.0,60.0,20.0,10.0,20.0,10.0,60.0,10.0,10.0,10.0,10.0,10.0,10.0,10.0,147.0,60.0,60.0,40.0,40.0,40.0,10.0,50.0,10.0,30.0,10.0,10.0,2.0,50.0,10.0,10.0,30.0,40.0,20.0,10.0,10.0,20.0,10.0,10.0,60.0,30.0,30.0,10.0,20.0,30.0,10.0,10.0,20.0,2.0,10.0,10.0,40.0,10.0,30.0,10.0,40.0,20.0,10.0,40.0,10.0,40.0,40.0,10.0,30.0,10.0,10.0,10.0,10.0,10.0,10.0,90.0,10.0,30.0,20.0,20.0,20.0,20.0,10.0,150.0,10.0,20.0,10.0,30.0,20.0,10.0,10.0,10.0,10.0,10.0,20.0,10.0,30.0,40.0,20.0,20.0,20.0,10.0,10.0,20.0,10.0,20.0,10.0,20.0,2.0,20.0,10.0,20.0,70.0,40.0,10.0,10.0,10.0,30.0,60.0,40.0,10.0,10.0,10.0,10.0,10.0,10.0,20.0,30.0,20.0,10.0,10.0,60.0,30.0,20.0,10.0,10.0,20.0,10.0,20.0,10.0,70.0,20.0,10.0,20.0,10.0,20.0,80.0,20.0,10.0,10.0,20.0,10.0,10.0,30.0,10.0,70.0,2.0,10.0,10.0,20.0,10.0,10.0,30.0,10.0,10.0,40.0,20.0,20.0,10.0,10.0,10.0,10.0,20.0,40.0,10.0,10.0,50.0,20.0,20.0,10.0,10.0,10.0,20.0,2.0,10.0,20.0,30.0,10.0,10.0,10.0,10.0,40.0,10.0,20.0,30.0,20.0,10.0,20.0,10.0,10.0,10.0,10.0,20.0,30.0,10.0,20.0,10.0,10.0,20.0,10.0,10.0,20.0,10.0,30.0,10.0,10.0,50.0,20.0,10.0,10.0,10.0,20.0,10.0,20.0,10.0,30.0,30.0,10.0,20.0,10.0,10.0,20.0,20.0,10.0,10.0,20.0,10.0,10.0,2.0,10.0,10.0,10.0,20.0,20.0,128.0,30.0,10.0,30.0,20.0,20.0,10.0,10.0,10.0,60.0,40.0,10.0,10.0,10.0,10.0,20.0,10.0,20.0,10.0,10.0,10.0,10.0,20.0,10.0,40.0,10.0,10.0,10.0,40.0,10.0,10.0,10.0,10.0,20.0,70.0,10.0,30.0,10.0,10.0,10.0,30.0,80.0,10.0,20.0,20.0,10.0,10.0,10.0,10.0,20.0,60.0,10.0,20.0,141.0,20.0,20.0],\"type\":\"scatter\"},{\"mode\":\"markers\",\"name\":\"cont_liq\",\"x\":[4.0,3.2,12.42,3.6,7.02,9.45,3.38,4.5,3.51,8.37,20.93,31.01,4.73,45.05,4.05,5.4,5.4,8.1,8.1,30.6,42.6,3.0,4.2,3.6,3.6,71.2,16.0,3.0,16.8,11.96,3.6,2.08,6.24,10.4,2.4,4.05,0.54,10.13,4.05,16.2,4.05,31.8,4.5,0.54,3.38,5.4,9.45,9.0,12.83,4.05,28.35,4.05,4.05,10.8,15.53,37.13,4.05,8.1,4.73,34.65,0.9,5.4,109.35,1.08,12.42,9.45,3.38,4.05,7.43,15.3,2.7,23.63,12.15,4.73,31.05,3.38,4.73,18.45,4.05,8.51,42.6,5.4,2.8,3.6,4.73,8.1,4.73,53.88,4.73,22.28,21.6,4.05,17.55,10.13,4.73,6.3,12.83,4.73,2.7,3.6,4.73,4.73,3.6,5.4,12.6,0.8,105.6,0.01,1.8,22.8,3.6,4.8,0.48,19.2,66.0,3.6,0.48,79.88,3.38,5.06,32.25,5.25,4.5,3.94,6.75,6.82,10.8,17.4,15.3,8.1,8.1,25.52,5.16,3.6,10.8,4.05,7.02,3.12,6.24,20.6,8.32,6.4,33.68,2.6,12.6,101.28,2.4,2.34,2.7,3.12,5.72,2.34,4.05,3.38,4.73,5.2,24.3,13.2,21.0,57.51,8.78,3.94,1.8,2.59,6.75,11.25,9.88,3.12,9.34,1.69,3.71,6.19,5.59,3.64,2.96,1.46,5.63,24.57,1.2,2.96,9.68,3.38,28.56,3.6,2.7,3.12,4.2,1.56,9.0,3.12,9.8,10.13,34.52,36.99,29.97,31.8,4.2,6.72,3.12,18.27,5.0,4.2,0.48,24.3,3.38,9.45,26.55,23.44,7.2,3.6,4.09,6.75,4.8,4.09,30.16,13.5,14.8,2.34,9.36,7.8,12.87,4.5,3.64,4.8,1.56,4.09,12.69,2.97,22.5,3.64,29.25,7.28,4.09,9.86,1.6,34.4,41.6,2.34,23.7,3.64,6.72,4.09,4.5,6.44,3.78,45.92,1.56,19.24,10.53,14.4,2.93,9.36,3.84,141.64,16.38,3.6,3.6,5.26,8.55,3.51,1.13,14.56,8.4,3.6,6.3,4.8,19.89,33.8,24.75,10.94,10.8,3.51,2.34,10.53,5.26,14.63,3.51,7.02,0.72,11.97,3.6,17.1,45.8,29.75,18.2,3.12,6.3,23.63,42.88,22.81,2.4,4.26,3.65,4.8,4.09,3.15,12.29,16.56,19.68,16.0,4.05,52.88,22.68,13.52,2.34,2.4,3.69,3.65,20.63,6.3,16.0,1.56,0.54,2.03,2.43,7.6,23.76,17.21,1.56,1.56,7.28,5.4,2.43,11.39,2.93,33.26,0.48,1.26,1.56,6.48,4.68,4.95,20.59,3.6,2.7,17.6,14.4,10.8,4.73,4.5,6.3,4.05,7.65,18.9,2.7,4.05,34.7,19.57,8.1,3.15,4.09,3.15,1.2,0.36,3.04,22.23,28.8,4.0,3.15,6.75,1.35,17.1,5.4,8.1,23.76,8.8,6.75,2.93,3.15,6.75,3.51,5.4,12.8,16.8,10.53,6.4,2.34,2.93,10.8,1.8,10.08,8.64,3.87,16.0,2.7,3.15,41.6,16.38,2.25,4.1,5.4,10.24,6.3,11.2,4.1,49.2,12.4,4.1,3.6,4.16,2.93,16.96,0.96,2.8,6.44,14.63,4.09,3.51,0.3,4.09,4.68,6.3,4.68,14.04,92.0,15.6,6.24,19.76,6.75,11.12,2.4,2.93,6.24,27.2,29.25,3.69,2.11,6.3,12.6,10.53,1.8,7.02,1.75,4.1,3.51,6.3,18.14,3.51,6.75,2.11,7.02,4.8,24.8,3.6,2.7,2.93,4.5,11.12,42.35,2.4,12.87,3.15,4.09,2.4,24.3,3.75,3.12,25.74,6.36,0.14,2.34,3.69,2.93,12.64,23.24,4.26,0.07,73.68,16.52,11.12],\"y\":[10.0,10.0,40.0,10.0,10.0,10.0,10.0,10.0,10.0,20.0,30.0,50.0,10.0,60.0,10.0,10.0,20.0,10.0,10.0,40.0,80.0,10.0,10.0,10.0,10.0,116.0,10.0,10.0,20.0,30.0,10.0,10.0,10.0,20.0,10.0,10.0,2.0,10.0,10.0,20.0,10.0,40.0,10.0,2.0,10.0,10.0,10.0,10.0,10.0,10.0,30.0,10.0,10.0,20.0,30.0,40.0,10.0,20.0,10.0,40.0,10.0,10.0,119.0,10.0,20.0,10.0,10.0,10.0,10.0,20.0,10.0,30.0,20.0,10.0,40.0,10.0,10.0,20.0,10.0,10.0,60.0,10.0,10.0,10.0,10.0,10.0,10.0,80.0,10.0,30.0,40.0,10.0,20.0,20.0,10.0,10.0,20.0,10.0,10.0,10.0,10.0,10.0,10.0,10.0,20.0,10.0,142.0,20.0,10.0,30.0,10.0,10.0,2.0,30.0,80.0,20.0,2.0,70.0,10.0,30.0,40.0,10.0,10.0,10.0,10.0,30.0,20.0,30.0,20.0,10.0,20.0,30.0,10.0,10.0,20.0,10.0,10.0,10.0,10.0,50.0,10.0,70.0,124.0,30.0,40.0,50.0,2.0,10.0,10.0,10.0,20.0,20.0,10.0,10.0,10.0,20.0,30.0,60.0,30.0,50.0,10.0,10.0,10.0,10.0,30.0,30.0,20.0,10.0,20.0,50.0,10.0,20.0,10.0,10.0,10.0,10.0,20.0,60.0,20.0,10.0,20.0,10.0,60.0,10.0,10.0,10.0,10.0,10.0,10.0,10.0,147.0,60.0,60.0,40.0,40.0,40.0,10.0,50.0,10.0,30.0,10.0,10.0,2.0,50.0,10.0,10.0,30.0,40.0,20.0,10.0,10.0,20.0,10.0,10.0,60.0,30.0,30.0,10.0,20.0,30.0,10.0,10.0,20.0,2.0,10.0,10.0,40.0,10.0,30.0,10.0,40.0,20.0,10.0,40.0,10.0,40.0,40.0,10.0,30.0,10.0,10.0,10.0,10.0,10.0,10.0,90.0,10.0,30.0,20.0,20.0,20.0,20.0,10.0,150.0,10.0,20.0,10.0,30.0,20.0,10.0,10.0,10.0,10.0,10.0,20.0,10.0,30.0,40.0,20.0,20.0,20.0,10.0,10.0,20.0,10.0,20.0,10.0,20.0,2.0,20.0,10.0,20.0,70.0,40.0,10.0,10.0,10.0,30.0,60.0,40.0,10.0,10.0,10.0,10.0,10.0,10.0,20.0,30.0,20.0,10.0,10.0,60.0,30.0,20.0,10.0,10.0,20.0,10.0,20.0,10.0,70.0,20.0,10.0,20.0,10.0,20.0,80.0,20.0,10.0,10.0,20.0,10.0,10.0,30.0,10.0,70.0,2.0,10.0,10.0,20.0,10.0,10.0,30.0,10.0,10.0,40.0,20.0,20.0,10.0,10.0,10.0,10.0,20.0,40.0,10.0,10.0,50.0,20.0,20.0,10.0,10.0,10.0,20.0,2.0,10.0,20.0,30.0,10.0,10.0,10.0,10.0,40.0,10.0,20.0,30.0,20.0,10.0,20.0,10.0,10.0,10.0,10.0,20.0,30.0,10.0,20.0,10.0,10.0,20.0,10.0,10.0,20.0,10.0,30.0,10.0,10.0,50.0,20.0,10.0,10.0,10.0,20.0,10.0,20.0,10.0,30.0,30.0,10.0,20.0,10.0,10.0,20.0,20.0,10.0,10.0,20.0,10.0,10.0,2.0,10.0,10.0,10.0,20.0,20.0,128.0,30.0,10.0,30.0,20.0,20.0,10.0,10.0,10.0,60.0,40.0,10.0,10.0,10.0,10.0,20.0,10.0,20.0,10.0,10.0,10.0,10.0,20.0,10.0,40.0,10.0,10.0,10.0,40.0,10.0,10.0,10.0,10.0,20.0,70.0,10.0,30.0,10.0,10.0,10.0,30.0,80.0,10.0,20.0,20.0,10.0,10.0,10.0,10.0,20.0,60.0,10.0,20.0,141.0,20.0,20.0],\"type\":\"scatter\"},{\"mode\":\"lines\",\"name\":\"cont_bruta\",\"x\":[5.0,4.0,33.0,4.0,12.0,14.0,5.0,6.5,6.0,12.0,30.0,53.0,7.0,70.0,6.0,6.0,6.0,12.0,12.0,34.0,71.0,5.0,7.0,6.0,6.0,89.0,20.0,5.0,28.0,23.0,6.0,4.0,12.0,26.0,6.0,6.0,0.6,15.0,6.0,24.0,6.0,50.0,10.0,0.6,5.0,6.0,14.0,10.0,19.0,6.0,42.0,6.0,6.0,16.0,23.0,55.0,6.0,12.0,7.0,49.0,1.0,6.0,162.0,1.2,18.0,14.0,5.0,6.0,11.0,17.0,4.0,34.0,18.0,7.0,46.0,5.0,7.0,26.0,6.0,14.0,59.0,6.0,7.0,4.0,7.0,12.0,7.0,88.0,7.0,33.0,32.0,6.0,21.0,14.0,7.0,7.0,19.0,7.0,4.0,4.0,7.0,7.0,6.0,7.0,17.0,1.0,178.2,0.01,3.0,38.0,6.0,8.0,0.6,32.0,110.0,6.0,0.6,142.0,6.0,9.0,55.0,7.0,8.0,7.0,12.0,14.0,18.0,28.0,17.0,12.0,12.0,39.0,13.0,8.0,16.0,6.0,12.0,6.0,12.0,31.0,16.0,8.0,54.0,5.0,20.0,151.1,3.0,4.0,4.0,6.0,11.0,4.0,6.0,5.0,7.0,10.0,35.0,22.0,35.0,80.0,13.0,7.0,3.0,6.0,18.0,30.0,19.0,6.0,24.0,3.0,9.0,15.0,14.0,7.0,7.0,3.0,15.0,42.0,3.0,7.0,18.0,5.0,42.0,6.0,3.0,6.0,7.0,3.0,13.0,6.0,0.0,18.0,52.0,53.0,44.0,52.0,7.0,15.9,6.0,28.0,10.0,7.0,0.6,34.0,5.0,14.0,40.0,39.0,11.0,6.0,7.0,10.0,6.0,7.0,58.0,22.0,26.0,4.0,16.0,15.0,22.0,5.0,7.0,6.0,3.0,7.0,19.0,6.0,25.0,7.0,50.0,14.0,7.0,21.0,4.0,64.0,52.0,4.0,39.0,7.0,12.6,7.0,5.0,11.0,9.0,95.0,3.0,37.0,18.0,24.0,5.0,14.0,4.8,248.8,28.0,8.0,4.0,9.0,13.0,6.0,3.0,28.0,21.0,8.0,7.0,6.0,34.0,54.0,29.0,18.0,20.0,6.0,4.0,18.0,9.0,25.0,6.0,12.0,0.9,23.0,4.0,19.0,73.0,40.3,35.0,6.0,14.0,38.0,62.0,39.0,4.0,7.0,6.0,12.0,7.0,7.0,21.0,33.0,39.0,20.0,6.0,85.0,28.0,26.0,4.0,4.0,7.0,6.0,38.0,7.0,20.0,3.0,0.6,3.0,4.0,19.0,60.0,31.0,3.0,3.0,14.0,6.0,4.0,22.0,5.0,59.0,0.6,7.0,3.0,9.0,9.0,7.0,39.0,8.0,4.0,22.0,32.0,18.0,7.0,5.0,10.0,6.0,10.0,21.0,6.0,6.0,55.0,29.0,18.0,7.0,7.0,7.0,3.0,0.45,5.0,38.0,44.0,5.0,7.0,12.0,3.0,19.0,6.0,18.0,39.0,11.0,12.0,5.0,7.0,15.0,6.0,6.0,32.0,42.0,18.0,16.0,6.0,5.0,12.0,4.0,14.0,12.0,11.0,20.0,6.0,7.0,52.0,28.0,5.0,7.0,6.0,16.0,14.0,28.0,7.0,115.0,31.0,7.0,9.0,8.0,5.0,29.0,1.2,7.0,11.0,25.0,7.0,6.0,0.38,7.0,9.0,7.0,9.0,24.0,164.0,30.0,12.0,38.0,18.0,19.0,3.0,5.0,12.0,53.0,50.0,7.0,4.0,7.0,14.0,18.0,4.0,12.0,3.0,7.0,6.0,7.0,31.0,6.0,15.0,4.0,12.0,6.0,31.0,4.0,3.0,5.0,10.0,19.0,49.0,3.0,22.0,7.0,7.0,3.0,27.0,75.0,6.0,44.0,15.0,0.16,4.0,7.0,5.0,24.0,42.0,7.0,0.08,307.0,28.0,19.0],\"y\":[12.577054325784692,11.972436329841406,29.50635821219671,11.972436329841406,16.809380297387698,18.01861628927427,12.577054325784692,13.483981319699623,13.18167232172798,16.809380297387698,27.69250422436685,41.59871813106244,13.786290317671266,51.87722406209831,13.18167232172798,13.18167232172798,13.18167232172798,16.809380297387698,16.809380297387698,30.110976208139995,52.48184205804159,12.577054325784692,13.786290317671266,13.18167232172798,13.18167232172798,63.364965985020746,21.646324264933988,12.577054325784692,26.483268232480278,23.460178252763846,13.18167232172798,11.972436329841406,16.809380297387698,25.274032240593705,13.18167232172798,13.18167232172798,9.916735143634233,18.623234285217556,13.18167232172798,24.064796248707133,13.18167232172798,39.78486414323258,15.600144305501125,9.916735143634233,12.577054325784692,13.18167232172798,18.01861628927427,15.600144305501125,21.0417062689907,13.18167232172798,34.947920175686285,13.18167232172798,13.18167232172798,19.227852281160843,23.460178252763846,42.80795412294901,13.18167232172798,16.809380297387698,13.786290317671266,39.180246147289296,10.158582342011547,13.18167232172798,107.50207968888064,10.279505941200204,20.437088273047415,18.01861628927427,12.577054325784692,13.18167232172798,16.20476230144441,19.83247027710413,11.972436329841406,30.110976208139995,20.437088273047415,13.786290317671266,37.36639215945943,12.577054325784692,13.786290317671266,25.274032240593705,13.18167232172798,18.01861628927427,45.22642610672216,13.18167232172798,13.786290317671266,11.972436329841406,13.786290317671266,16.809380297387698,13.786290317671266,62.76034798907746,13.786290317671266,29.50635821219671,28.901740216253422,13.18167232172798,22.250942260877274,18.01861628927427,13.786290317671266,13.786290317671266,21.0417062689907,13.786290317671266,11.972436329841406,11.972436329841406,13.786290317671266,13.786290317671266,13.18167232172798,13.786290317671266,19.83247027710413,10.158582342011547,117.29689122316188,9.560010526027694,11.36781833389812,32.52944819191314,13.18167232172798,14.390908313614553,9.916735143634233,28.901740216253422,76.06194389982976,13.18167232172798,9.916735143634233,95.40971977001492,13.18167232172798,14.995526309557839,42.80795412294901,13.786290317671266,14.390908313614553,13.786290317671266,16.809380297387698,18.01861628927427,20.437088273047415,26.483268232480278,19.83247027710413,16.809380297387698,16.809380297387698,33.134066187856426,17.413998293330984,14.390908313614553,19.227852281160843,13.18167232172798,16.809380297387698,13.18167232172798,16.809380297387698,28.297122220310136,19.227852281160843,14.390908313614553,42.20333612700573,12.577054325784692,21.646324264933988,100.91174353309881,11.36781833389812,11.972436329841406,11.972436329841406,13.18167232172798,16.20476230144441,11.972436329841406,13.18167232172798,12.577054325784692,13.786290317671266,15.600144305501125,30.71559420408328,22.85556025682056,30.71559420408328,57.92340402153117,17.413998293330984,13.786290317671266,11.36781833389812,13.18167232172798,20.437088273047415,27.69250422436685,21.0417062689907,13.18167232172798,24.064796248707133,11.36781833389812,14.995526309557839,18.623234285217556,18.01861628927427,13.786290317671266,13.786290317671266,11.36781833389812,18.623234285217556,34.947920175686285,11.36781833389812,13.786290317671266,20.437088273047415,12.577054325784692,34.947920175686285,13.18167232172798,11.36781833389812,13.18167232172798,13.786290317671266,11.36781833389812,17.413998293330984,13.18167232172798,9.55396434606826,20.437088273047415,40.994100135119155,41.59871813106244,36.15715616757286,40.994100135119155,13.786290317671266,19.167390481566514,13.18167232172798,26.483268232480278,15.600144305501125,13.786290317671266,9.916735143634233,30.110976208139995,12.577054325784692,18.01861628927427,33.73868418379971,33.134066187856426,16.20476230144441,13.18167232172798,13.786290317671266,15.600144305501125,13.18167232172798,13.786290317671266,44.62180811077887,22.85556025682056,25.274032240593705,11.972436329841406,19.227852281160843,18.623234285217556,22.85556025682056,12.577054325784692,13.786290317671266,13.18167232172798,11.36781833389812,13.786290317671266,21.0417062689907,13.18167232172798,24.66941424465042,13.786290317671266,39.78486414323258,18.01861628927427,13.786290317671266,22.250942260877274,11.972436329841406,48.24951608643859,40.994100135119155,11.972436329841406,33.134066187856426,13.786290317671266,17.17215109495367,13.786290317671266,12.577054325784692,16.20476230144441,14.995526309557839,66.99267396068046,11.36781833389812,31.924830195969854,20.437088273047415,24.064796248707133,12.577054325784692,18.01861628927427,12.456130726596035,159.9829217367579,26.483268232480278,14.390908313614553,11.972436329841406,14.995526309557839,17.413998293330984,13.18167232172798,11.36781833389812,26.483268232480278,22.250942260877274,14.390908313614553,13.786290317671266,13.18167232172798,30.110976208139995,42.20333612700573,27.087886228423564,20.437088273047415,21.646324264933988,13.18167232172798,11.972436329841406,20.437088273047415,14.995526309557839,24.66941424465042,13.18167232172798,16.809380297387698,10.098120542417218,23.460178252763846,11.972436329841406,21.0417062689907,53.691078049928166,33.9200695825827,30.71559420408328,13.18167232172798,18.01861628927427,32.52944819191314,47.04028009455202,33.134066187856426,11.972436329841406,13.786290317671266,13.18167232172798,16.809380297387698,13.786290317671266,13.786290317671266,22.250942260877274,29.50635821219671,33.134066187856426,21.646324264933988,13.18167232172798,60.9464940012476,26.483268232480278,25.274032240593705,11.972436329841406,11.972436329841406,13.786290317671266,13.18167232172798,32.52944819191314,13.786290317671266,21.646324264933988,11.36781833389812,9.916735143634233,11.36781833389812,11.972436329841406,21.0417062689907,45.831044102665444,28.297122220310136,11.36781833389812,11.36781833389812,18.01861628927427,13.18167232172798,11.972436329841406,22.85556025682056,12.577054325784692,45.22642610672216,9.916735143634233,13.786290317671266,11.36781833389812,14.995526309557839,14.995526309557839,13.786290317671266,33.134066187856426,14.390908313614553,11.972436329841406,22.85556025682056,28.901740216253422,20.437088273047415,13.786290317671266,12.577054325784692,15.600144305501125,13.18167232172798,15.600144305501125,22.250942260877274,13.18167232172798,13.18167232172798,42.80795412294901,27.087886228423564,20.437088273047415,13.786290317671266,13.786290317671266,13.786290317671266,11.36781833389812,9.82604244424274,12.577054325784692,32.52944819191314,36.15715616757286,12.577054325784692,13.786290317671266,16.809380297387698,11.36781833389812,21.0417062689907,13.18167232172798,20.437088273047415,33.134066187856426,16.20476230144441,16.809380297387698,12.577054325784692,13.786290317671266,18.623234285217556,13.18167232172798,13.18167232172798,28.901740216253422,34.947920175686285,20.437088273047415,19.227852281160843,13.18167232172798,12.577054325784692,16.809380297387698,11.972436329841406,18.01861628927427,16.809380297387698,16.20476230144441,21.646324264933988,13.18167232172798,13.786290317671266,40.994100135119155,26.483268232480278,12.577054325784692,13.786290317671266,13.18167232172798,19.227852281160843,18.01861628927427,26.483268232480278,13.786290317671266,79.08503387954619,28.297122220310136,13.786290317671266,14.995526309557839,14.390908313614553,12.577054325784692,27.087886228423564,10.279505941200204,13.786290317671266,16.20476230144441,24.66941424465042,13.786290317671266,13.18167232172798,9.78371918452671,13.786290317671266,14.995526309557839,13.786290317671266,14.995526309557839,24.064796248707133,108.71131568076721,27.69250422436685,16.809380297387698,32.52944819191314,20.437088273047415,21.0417062689907,11.36781833389812,12.577054325784692,16.809380297387698,41.59871813106244,39.78486414323258,13.786290317671266,11.972436329841406,13.786290317671266,18.01861628927427,20.437088273047415,11.972436329841406,16.809380297387698,11.36781833389812,13.786290317671266,13.18167232172798,13.786290317671266,28.297122220310136,13.18167232172798,18.623234285217556,11.972436329841406,16.809380297387698,13.18167232172798,28.297122220310136,11.972436329841406,11.36781833389812,12.577054325784692,15.600144305501125,21.0417062689907,39.180246147289296,11.36781833389812,22.85556025682056,13.786290317671266,13.786290317671266,11.36781833389812,25.87865023653699,54.90031404181474,13.18167232172798,36.15715616757286,18.623234285217556,9.650703225419187,11.972436329841406,13.786290317671266,12.577054325784692,24.064796248707133,34.947920175686285,13.786290317671266,9.602333785743724,195.17168910065718,26.483268232480278,21.0417062689907],\"type\":\"scatter\"},{\"mode\":\"lines\",\"name\":\"cont_est\",\"x\":[5.0,5.0,37.0,4.0,8.0,10.0,5.0,5.0,3.75,16.0,23.0,41.0,5.0,57.0,4.0,4.0,12.0,4.0,8.0,35.0,72.0,5.0,4.0,5.0,5.0,101.0,4.0,5.0,20.0,24.0,4.0,4.0,4.0,12.0,4.0,4.0,1.0,8.0,4.0,16.0,4.0,35.0,8.0,1.0,10.0,9.0,5.0,10.0,8.0,8.0,28.0,4.0,4.0,12.0,24.0,38.0,4.0,18.0,4.0,33.0,4.0,4.0,108.0,4.0,16.0,10.0,5.0,4.0,9.0,19.0,4.0,30.0,11.0,4.0,36.0,5.0,5.0,19.0,4.0,10.0,53.0,4.0,5.0,4.0,5.0,9.0,5.0,75.0,5.0,29.0,33.0,5.0,15.0,15.0,5.0,4.0,15.0,5.0,5.0,5.0,5.0,5.0,5.0,4.0,17.0,5.0,179.0,12.0,4.0,27.0,4.0,5.0,1.0,29.0,80.0,13.0,1.0,66.0,4.0,22.0,38.0,5.0,9.0,10.0,9.0,26.0,12.0,27.0,15.0,4.0,12.0,27.0,4.0,8.0,12.0,4.0,4.0,8.0,8.0,45.0,5.0,62.0,123.0,28.0,31.0,47.0,1.0,5.0,10.0,5.0,14.0,16.0,5.0,5.0,5.0,13.0,26.0,54.0,25.0,47.0,4.0,4.0,4.0,4.0,24.0,24.0,12.0,4.0,20.0,44.0,8.0,12.0,8.0,8.0,8.0,4.0,16.0,52.0,12.0,8.0,16.0,5.0,51.5,5.0,8.0,4.0,5.0,4.0,9.0,4.0,196.0,56.0,53.0,38.0,38.0,39.0,4.0,50.0,8.0,27.0,4.0,4.0,0.6,47.0,4.0,8.0,24.0,32.0,12.0,4.0,4.0,12.0,3.0,4.0,56.0,23.0,24.0,4.0,19.0,23.0,8.0,8.0,16.0,1.2,8.0,5.0,34.0,5.0,24.0,4.0,38.0,12.0,8.0,32.0,4.0,40.0,40.0,4.0,28.0,5.0,4.6,4.0,8.0,8.0,4.0,89.0,4.0,24.0,12.0,16.0,16.6,12.0,3.6,208.0,4.0,12.0,4.0,23.0,16.0,4.0,4.0,8.0,4.0,4.0,12.0,7.0,27.0,35.0,20.0,12.0,12.0,4.0,4.0,19.0,8.0,19.0,4.0,12.0,0.9,16.0,8.0,20.0,63.0,31.0,8.0,4.0,10.0,30.0,56.0,33.0,5.0,4.0,4.0,10.0,10.0,8.0,16.0,28.6,16.0,8.0,4.0,51.0,27.0,16.0,4.0,8.0,12.0,4.0,20.0,4.0,63.0,12.0,4.0,16.0,4.0,19.0,80.0,20.0,4.0,4.0,12.0,5.0,4.0,23.0,4.0,64.0,1.8,4.0,4.0,14.0,8.0,8.0,24.0,8.0,4.0,32.0,16.0,13.0,4.0,4.0,4.0,4.0,12.0,38.0,4.0,4.0,42.0,12.0,12.0,4.0,4.0,4.0,13.0,0.45,4.0,19.0,25.0,4.0,4.0,9.0,8.0,35.0,4.0,12.0,24.0,12.0,4.6,12.0,4.0,8.0,4.0,4.0,16.0,24.0,8.0,19.8,4.0,4.0,19.0,4.0,8.0,18.0,8.0,22.0,4.0,4.0,43.0,12.0,4.0,5.0,4.0,20.0,10.0,16.0,5.0,28.0,26.0,5.0,12.0,8.0,4.0,17.0,20.0,5.0,4.0,15.0,5.0,8.0,0.45,8.0,10.0,5.0,12.0,12.0,133.6,24.0,8.0,28.0,12.0,16.0,8.0,5.0,8.0,53.0,32.0,5.0,4.0,4.0,8.0,17.0,5.0,12.0,4.0,5.0,4.0,5.0,20.0,4.0,32.0,5.0,8.0,8.0,32.0,5.0,5.0,5.0,10.0,16.0,61.0,5.0,22.0,5.0,5.0,4.0,23.0,75.0,4.0,12.0,16.0,5.0,5.0,5.0,7.0,12.0,52.0,10.0,12.0,175.0,12.0,16.0],\"y\":[10.801286174199864,10.801286174199864,38.63582460518374,9.931456848231619,13.410774152104603,15.150432804041095,10.801286174199864,10.801286174199864,9.713999516739557,20.36940875985057,26.458214041628295,42.11514190905673,10.801286174199864,56.03241112454866,9.931456848231619,9.931456848231619,16.890091455977586,9.931456848231619,13.410774152104603,36.89616595324725,69.07985101407236,10.801286174199864,9.931456848231619,10.801286174199864,10.801286174199864,94.3049014671515,9.931456848231619,10.801286174199864,23.848726063723557,27.32804336759654,9.931456848231619,9.931456848231619,9.931456848231619,16.890091455977586,9.931456848231619,9.931456848231619,7.32196887032688,13.410774152104603,9.931456848231619,20.36940875985057,9.931456848231619,36.89616595324725,13.410774152104603,7.32196887032688,15.150432804041095,14.280603478072848,10.801286174199864,15.150432804041095,13.410774152104603,13.410774152104603,30.807360671469525,9.931456848231619,9.931456848231619,16.890091455977586,27.32804336759654,39.50565393115198,9.931456848231619,22.109067411787066,9.931456848231619,35.156507301310754,9.931456848231619,9.931456848231619,100.39370674892922,9.931456848231619,20.36940875985057,15.150432804041095,10.801286174199864,9.931456848231619,14.280603478072848,22.97889673775531,9.931456848231619,32.54701932340602,16.020262130009343,9.931456848231619,37.765995279215495,10.801286174199864,10.801286174199864,22.97889673775531,9.931456848231619,15.150432804041095,52.553093820675684,9.931456848231619,10.801286174199864,9.931456848231619,10.801286174199864,14.280603478072848,10.801286174199864,71.6893389919771,10.801286174199864,31.67718999743777,35.156507301310754,10.801286174199864,19.499579433882325,19.499579433882325,10.801286174199864,9.931456848231619,19.499579433882325,10.801286174199864,10.801286174199864,10.801286174199864,10.801286174199864,10.801286174199864,10.801286174199864,9.931456848231619,21.23923808581882,10.801286174199864,162.15158889267468,16.890091455977586,9.931456848231619,29.93753134550128,9.931456848231619,10.801286174199864,7.32196887032688,31.67718999743777,76.03848562181832,17.759920781945834,7.32196887032688,63.86087505826288,9.931456848231619,25.588384715660048,39.50565393115198,10.801286174199864,14.280603478072848,15.150432804041095,14.280603478072848,29.067702019533034,16.890091455977586,29.93753134550128,19.499579433882325,9.931456848231619,16.890091455977586,29.93753134550128,9.931456848231619,13.410774152104603,16.890091455977586,9.931456848231619,9.931456848231619,13.410774152104603,13.410774152104603,45.594459212929706,10.801286174199864,60.38155775438989,113.4411466384529,30.807360671469525,33.41684864937426,47.3341178648662,7.32196887032688,10.801286174199864,15.150432804041095,10.801286174199864,18.629750107914077,20.36940875985057,10.801286174199864,10.801286174199864,10.801286174199864,17.759920781945834,29.067702019533034,53.422923146643924,28.197872693564786,47.3341178648662,9.931456848231619,9.931456848231619,9.931456848231619,9.931456848231619,27.32804336759654,27.32804336759654,16.890091455977586,9.931456848231619,23.848726063723557,44.724629886961466,13.410774152104603,16.890091455977586,13.410774152104603,13.410774152104603,13.410774152104603,9.931456848231619,20.36940875985057,51.68326449470743,16.890091455977586,13.410774152104603,20.36940875985057,10.801286174199864,51.2483498317233,10.801286174199864,13.410774152104603,9.931456848231619,10.801286174199864,9.931456848231619,14.280603478072848,9.931456848231619,176.93868743413486,55.16258179858042,52.553093820675684,39.50565393115198,39.50565393115198,40.37548325712024,9.931456848231619,49.943605842770936,13.410774152104603,29.93753134550128,9.931456848231619,9.931456848231619,6.974037139939581,47.3341178648662,9.931456848231619,13.410774152104603,27.32804336759654,34.28667797534251,16.890091455977586,9.931456848231619,9.931456848231619,16.890091455977586,9.061627522263372,9.931456848231619,55.16258179858042,26.458214041628295,27.32804336759654,9.931456848231619,22.97889673775531,26.458214041628295,13.410774152104603,13.410774152104603,20.36940875985057,7.495934735520529,13.410774152104603,10.801286174199864,36.026336627279,10.801286174199864,27.32804336759654,9.931456848231619,39.50565393115198,16.890091455977586,13.410774152104603,34.28667797534251,9.931456848231619,41.24531258308848,41.24531258308848,9.931456848231619,30.807360671469525,10.801286174199864,10.453354443812565,9.931456848231619,13.410774152104603,13.410774152104603,9.931456848231619,83.86694955553254,9.931456848231619,27.32804336759654,16.890091455977586,20.36940875985057,20.89130635543152,16.890091455977586,9.58352511784432,187.37663934575383,9.931456848231619,16.890091455977586,9.931456848231619,26.458214041628295,20.36940875985057,9.931456848231619,9.931456848231619,13.410774152104603,9.931456848231619,9.931456848231619,16.890091455977586,12.540944826136357,29.93753134550128,36.89616595324725,23.848726063723557,16.890091455977586,16.890091455977586,9.931456848231619,9.931456848231619,22.97889673775531,13.410774152104603,22.97889673775531,9.931456848231619,16.890091455977586,7.234985937730055,20.36940875985057,13.410774152104603,23.848726063723557,61.25138708035814,33.41684864937426,13.410774152104603,9.931456848231619,15.150432804041095,32.54701932340602,55.16258179858042,35.156507301310754,10.801286174199864,9.931456848231619,9.931456848231619,15.150432804041095,15.150432804041095,13.410774152104603,20.36940875985057,31.329258267050474,20.36940875985057,13.410774152104603,9.931456848231619,50.81343516873919,29.93753134550128,20.36940875985057,9.931456848231619,13.410774152104603,16.890091455977586,9.931456848231619,23.848726063723557,9.931456848231619,61.25138708035814,16.890091455977586,9.931456848231619,20.36940875985057,9.931456848231619,22.97889673775531,76.03848562181832,23.848726063723557,9.931456848231619,9.931456848231619,16.890091455977586,10.801286174199864,9.931456848231619,26.458214041628295,9.931456848231619,62.12121640632638,8.017832331101477,9.931456848231619,9.931456848231619,18.629750107914077,13.410774152104603,13.410774152104603,27.32804336759654,13.410774152104603,9.931456848231619,34.28667797534251,20.36940875985057,17.759920781945834,9.931456848231619,9.931456848231619,9.931456848231619,9.931456848231619,16.890091455977586,39.50565393115198,9.931456848231619,9.931456848231619,42.98497123502497,16.890091455977586,16.890091455977586,9.931456848231619,9.931456848231619,9.931456848231619,17.759920781945834,6.8435627410443445,9.931456848231619,22.97889673775531,28.197872693564786,9.931456848231619,9.931456848231619,14.280603478072848,13.410774152104603,36.89616595324725,9.931456848231619,16.890091455977586,27.32804336759654,16.890091455977586,10.453354443812565,16.890091455977586,9.931456848231619,13.410774152104603,9.931456848231619,9.931456848231619,20.36940875985057,27.32804336759654,13.410774152104603,23.674760198529906,9.931456848231619,9.931456848231619,22.97889673775531,9.931456848231619,13.410774152104603,22.109067411787066,13.410774152104603,25.588384715660048,9.931456848231619,9.931456848231619,43.85480056099321,16.890091455977586,9.931456848231619,10.801286174199864,9.931456848231619,23.848726063723557,15.150432804041095,20.36940875985057,10.801286174199864,30.807360671469525,29.067702019533034,10.801286174199864,16.890091455977586,13.410774152104603,9.931456848231619,21.23923808581882,23.848726063723557,10.801286174199864,9.931456848231619,19.499579433882325,10.801286174199864,13.410774152104603,6.8435627410443445,13.410774152104603,15.150432804041095,10.801286174199864,16.890091455977586,16.890091455977586,122.6613374937163,27.32804336759654,13.410774152104603,30.807360671469525,16.890091455977586,20.36940875985057,13.410774152104603,10.801286174199864,13.410774152104603,52.553093820675684,34.28667797534251,10.801286174199864,9.931456848231619,9.931456848231619,13.410774152104603,21.23923808581882,10.801286174199864,16.890091455977586,9.931456848231619,10.801286174199864,9.931456848231619,10.801286174199864,23.848726063723557,9.931456848231619,34.28667797534251,10.801286174199864,13.410774152104603,13.410774152104603,34.28667797534251,10.801286174199864,10.801286174199864,10.801286174199864,15.150432804041095,20.36940875985057,59.51172842842165,10.801286174199864,25.588384715660048,10.801286174199864,10.801286174199864,9.931456848231619,26.458214041628295,71.6893389919771,9.931456848231619,16.890091455977586,20.36940875985057,10.801286174199864,10.801286174199864,10.801286174199864,12.540944826136357,16.890091455977586,51.68326449470743,15.150432804041095,16.890091455977586,158.6722715888017,16.890091455977586,20.36940875985057],\"type\":\"scatter\"},{\"mode\":\"lines\",\"name\":\"cont_liq\",\"x\":[4.0,3.2,12.42,3.6,7.02,9.45,3.38,4.5,3.51,8.37,20.93,31.01,4.73,45.05,4.05,5.4,5.4,8.1,8.1,30.6,42.6,3.0,4.2,3.6,3.6,71.2,16.0,3.0,16.8,11.96,3.6,2.08,6.24,10.4,2.4,4.05,0.54,10.13,4.05,16.2,4.05,31.8,4.5,0.54,3.38,5.4,9.45,9.0,12.83,4.05,28.35,4.05,4.05,10.8,15.53,37.13,4.05,8.1,4.73,34.65,0.9,5.4,109.35,1.08,12.42,9.45,3.38,4.05,7.43,15.3,2.7,23.63,12.15,4.73,31.05,3.38,4.73,18.45,4.05,8.51,42.6,5.4,2.8,3.6,4.73,8.1,4.73,53.88,4.73,22.28,21.6,4.05,17.55,10.13,4.73,6.3,12.83,4.73,2.7,3.6,4.73,4.73,3.6,5.4,12.6,0.8,105.6,0.01,1.8,22.8,3.6,4.8,0.48,19.2,66.0,3.6,0.48,79.88,3.38,5.06,32.25,5.25,4.5,3.94,6.75,6.82,10.8,17.4,15.3,8.1,8.1,25.52,5.16,3.6,10.8,4.05,7.02,3.12,6.24,20.6,8.32,6.4,33.68,2.6,12.6,101.28,2.4,2.34,2.7,3.12,5.72,2.34,4.05,3.38,4.73,5.2,24.3,13.2,21.0,57.51,8.78,3.94,1.8,2.59,6.75,11.25,9.88,3.12,9.34,1.69,3.71,6.19,5.59,3.64,2.96,1.46,5.63,24.57,1.2,2.96,9.68,3.38,28.56,3.6,2.7,3.12,4.2,1.56,9.0,3.12,9.8,10.13,34.52,36.99,29.97,31.8,4.2,6.72,3.12,18.27,5.0,4.2,0.48,24.3,3.38,9.45,26.55,23.44,7.2,3.6,4.09,6.75,4.8,4.09,30.16,13.5,14.8,2.34,9.36,7.8,12.87,4.5,3.64,4.8,1.56,4.09,12.69,2.97,22.5,3.64,29.25,7.28,4.09,9.86,1.6,34.4,41.6,2.34,23.7,3.64,6.72,4.09,4.5,6.44,3.78,45.92,1.56,19.24,10.53,14.4,2.93,9.36,3.84,141.64,16.38,3.6,3.6,5.26,8.55,3.51,1.13,14.56,8.4,3.6,6.3,4.8,19.89,33.8,24.75,10.94,10.8,3.51,2.34,10.53,5.26,14.63,3.51,7.02,0.72,11.97,3.6,17.1,45.8,29.75,18.2,3.12,6.3,23.63,42.88,22.81,2.4,4.26,3.65,4.8,4.09,3.15,12.29,16.56,19.68,16.0,4.05,52.88,22.68,13.52,2.34,2.4,3.69,3.65,20.63,6.3,16.0,1.56,0.54,2.03,2.43,7.6,23.76,17.21,1.56,1.56,7.28,5.4,2.43,11.39,2.93,33.26,0.48,1.26,1.56,6.48,4.68,4.95,20.59,3.6,2.7,17.6,14.4,10.8,4.73,4.5,6.3,4.05,7.65,18.9,2.7,4.05,34.7,19.57,8.1,3.15,4.09,3.15,1.2,0.36,3.04,22.23,28.8,4.0,3.15,6.75,1.35,17.1,5.4,8.1,23.76,8.8,6.75,2.93,3.15,6.75,3.51,5.4,12.8,16.8,10.53,6.4,2.34,2.93,10.8,1.8,10.08,8.64,3.87,16.0,2.7,3.15,41.6,16.38,2.25,4.1,5.4,10.24,6.3,11.2,4.1,49.2,12.4,4.1,3.6,4.16,2.93,16.96,0.96,2.8,6.44,14.63,4.09,3.51,0.3,4.09,4.68,6.3,4.68,14.04,92.0,15.6,6.24,19.76,6.75,11.12,2.4,2.93,6.24,27.2,29.25,3.69,2.11,6.3,12.6,10.53,1.8,7.02,1.75,4.1,3.51,6.3,18.14,3.51,6.75,2.11,7.02,4.8,24.8,3.6,2.7,2.93,4.5,11.12,42.35,2.4,12.87,3.15,4.09,2.4,24.3,3.75,3.12,25.74,6.36,0.14,2.34,3.69,2.93,12.64,23.24,4.26,0.07,73.68,16.52,11.12],\"y\":[12.93150336832245,12.044375979111916,22.268519139763313,12.487939673717182,16.28040926259221,18.975058707319207,12.243979641684284,13.48595798657903,12.388137842430996,17.777436731884986,31.70533674249036,42.88314184654308,13.74100711097706,58.452227527187944,12.986948830148107,14.483976299440883,14.483976299440883,17.478031238026432,17.478031238026432,42.428489059572684,55.73539989773069,11.822594131809282,13.153285215625083,12.487939673717182,12.487939673717182,87.45020406200726,26.23841420648045,11.822594131809282,27.125541595690983,21.75842089096726,12.487939673717182,10.802397634217169,15.415460058111943,20.028522482006714,11.157248589901382,12.986948830148107,9.094677409986891,19.729116988148164,12.986948830148107,26.460196053783083,12.986948830148107,43.75918014338849,13.48595798657903,9.094677409986891,12.243979641684284,14.483976299440883,18.975058707319207,18.476049550888284,22.723171926733713,12.986948830148107,39.933443277418064,12.986948830148107,12.986948830148107,20.47208617661198,25.71722686531926,49.66966637400367,12.986948830148107,17.478031238026432,13.74100711097706,46.91957146745101,9.493884735131632,14.483976299440883,129.75509143498456,9.693488397704002,22.268519139763313,18.975058707319207,12.243979641684284,12.986948830148107,16.735062049562607,25.462177740921234,11.489921360855332,34.69939168107591,21.969113645904756,13.74100711097706,42.92749821600361,12.243979641684284,13.74100711097706,28.955241835937706,12.986948830148107,17.93268402499683,55.73539989773069,14.483976299440883,11.600812284506649,12.487939673717182,13.74100711097706,17.478031238026432,13.74100711097706,68.2438960855992,13.74100711097706,33.202364211783134,32.448305930954184,12.986948830148107,27.957223523075857,19.729116988148164,13.74100711097706,15.481994612302731,22.723171926733713,13.74100711097706,11.489921360855332,12.487939673717182,13.74100711097706,13.74100711097706,12.487939673717182,14.483976299440883,22.46812280233568,9.382993811480315,125.59668179806019,8.506955514634912,10.491903047993482,33.778997014769985,12.487939673717182,13.818630757532983,9.028142855796101,29.786923763322584,81.68387603213878,12.487939673717182,9.028142855796101,97.07553623494154,12.243979641684284,14.106947159026404,44.258189299819406,14.317639913963907,13.48595798657903,12.864968814131657,15.981003768733657,16.05862741528958,20.47208617661198,27.79088713759888,25.462177740921234,17.478031238026432,17.478031238026432,36.7952301380858,14.217838082677723,12.487939673717182,20.47208617661198,12.986948830148107,16.28040926259221,11.955663240190862,15.415460058111943,31.339396694441017,17.721991270059327,15.59288553595405,45.84392950803324,11.379030437204015,22.46812280233568,120.80619389632332,11.157248589901382,11.09071403571059,11.489921360855332,11.955663240190862,14.838827255125095,11.09071403571059,12.986948830148107,12.243979641684284,13.74100711097706,14.26219445213825,35.44236086953973,23.133468344243582,31.782960389046284,72.269236614142,18.232089518855386,12.864968814131657,10.491903047993482,11.367941344838883,15.981003768733657,20.971095333042907,19.45188967901987,11.955663240190862,18.85307869130276,10.369923031977033,12.60991968973363,15.360014596286284,14.694669054378384,12.532296043177709,11.778237762348756,10.114873907579005,14.73902542383891,35.741766363398284,9.826557506085582,11.778237762348756,19.230107831717234,12.243979641684284,40.16631421708583,12.487939673717182,11.489921360855332,11.955663240190862,13.153285215625083,10.225764831230322,18.476049550888284,11.955663240190862,19.363176940098818,19.729116988148164,46.775413266704305,49.51441908089183,41.72987624056938,43.75918014338849,13.153285215625083,15.947736491638262,11.955663240190862,28.755638173365337,14.040412604835616,13.153285215625083,9.028142855796101,35.44236086953973,12.243979641684284,18.975058707319207,37.93740665169436,34.48869892613841,16.48001292516458,12.487939673717182,13.031305199608633,15.981003768733657,13.818630757532983,13.031305199608633,41.940568995506894,23.46614111519753,24.90772312266465,11.09071403571059,18.87525687603302,17.145358467072484,22.767528296194236,13.48595798657903,12.532296043177709,13.818630757532983,10.225764831230322,13.031305199608633,22.567924633621868,11.789326854713886,33.446324243816036,12.532296043177709,40.93146159027991,16.568725664085633,13.031305199608633,19.429711494289606,10.270121200690848,46.642344158322715,54.62649066121752,11.09071403571059,34.77701532763183,12.532296043177709,15.947736491638262,13.031305199608633,13.48595798657903,15.637241905414577,12.68754333628955,59.4169785629544,10.225764831230322,29.831280132783107,20.172680682753427,24.464159428059382,11.74497048525336,18.87525687603302,12.754077890480342,165.56177068199472,26.65979971635545,12.487939673717182,12.487939673717182,14.328729006329038,17.977040394457358,12.388137842430996,9.748933859529659,24.64158490590149,17.81070400898038,12.487939673717182,15.481994612302731,13.818630757532983,30.55207113651667,45.97699861641482,35.941370025970656,20.627333469723823,20.47208617661198,12.388137842430996,11.09071403571059,20.172680682753427,14.328729006329038,24.719208552457413,12.388137842430996,16.28040926259221,9.294281072559262,21.769509983332387,12.487939673717182,27.458214366644935,59.28390945457282,41.485916208536494,28.678014526809417,11.955663240190862,15.481994612302731,34.69939168107591,56.04589448395437,33.79008610713511,11.157248589901382,13.21981976981587,12.54338513554284,13.818630757532983,13.031305199608633,11.988930517286256,22.124360939016597,26.859403378927823,30.319200196848904,26.23841420648045,12.986948830148107,67.13498684908605,33.6459279063884,23.488319299927795,11.09071403571059,11.157248589901382,12.587741505003367,12.54338513554284,31.37266397153641,15.481994612302731,26.23841420648045,10.225764831230322,9.094677409986891,10.74695217239151,11.190515866996776,16.923576619769847,34.843549881822625,27.580194382661382,10.225764831230322,10.225764831230322,16.568725664085633,14.483976299440883,11.190515866996776,21.126342626154752,11.74497048525336,45.3781876286977,9.028142855796101,9.893092060276372,10.225764831230322,15.681598274875103,13.685561649151401,13.984967143009957,31.328307602075885,12.487939673717182,11.489921360855332,28.012668984901516,24.464159428059382,20.47208617661198,13.74100711097706,13.48595798657903,15.481994612302731,12.986948830148107,16.97902208159551,29.45425099236863,11.489921360855332,12.986948830148107,46.97501692927668,30.197220180832456,17.478031238026432,11.988930517286256,13.031305199608633,11.988930517286256,9.826557506085582,8.895073747414521,11.866950501269809,33.14691874995748,40.43245243384898,12.93150336832245,11.988930517286256,15.981003768733657,9.992893891562556,27.458214366644935,14.483976299440883,17.478031238026432,34.843549881822625,18.254267703585647,15.981003768733657,11.74497048525336,11.988930517286256,15.981003768733657,12.388137842430996,14.483976299440883,22.689904649638315,27.125541595690983,20.172680682753427,15.59288553595405,11.09071403571059,11.74497048525336,20.47208617661198,10.491903047993482,19.6736715263225,18.07684222574354,12.787345167575737,26.23841420648045,11.489921360855332,11.988930517286256,54.62649066121752,26.65979971635545,10.990912204424406,13.042394291973764,14.483976299440883,19.851097004164608,15.481994612302731,20.915649871217248,13.042394291973764,63.05420085871759,22.246340955033048,13.042394291973764,12.487939673717182,13.108928846164556,11.74497048525336,27.30296707353309,9.560419289322422,11.600812284506649,15.637241905414577,24.719208552457413,13.031305199608633,12.388137842430996,8.828539193223731,13.031305199608633,13.685561649151401,15.481994612302731,13.685561649151401,24.064952102914642,110.51551618148113,25.794850511875183,15.415460058111943,30.407912935769957,15.981003768733657,20.826937132296194,11.157248589901382,11.74497048525336,15.415460058111943,38.65819765542791,40.93146159027991,12.587741505003367,10.835664911312563,15.481994612302731,22.46812280233568,20.172680682753427,10.491903047993482,16.28040926259221,10.436457586167823,13.042394291973764,12.388137842430996,15.481994612302731,28.61147997261863,12.388137842430996,15.981003768733657,10.835664911312563,16.28040926259221,13.818630757532983,35.99681548779632,12.487939673717182,11.489921360855332,11.74497048525336,13.48595798657903,20.826937132296194,55.458172588602395,11.157248589901382,22.767528296194236,11.988930517286256,13.031305199608633,11.157248589901382,35.44236086953973,12.654276059194157,11.955663240190862,37.03919017011869,15.548529166493523,8.651113715381625,11.09071403571059,12.587741505003367,11.74497048525336,22.51247917179621,34.266917078835775,13.21981976981587,8.573490068825702,90.20029896855992,26.815047009467296,20.826937132296194],\"type\":\"scatter\"}],                        {\"template\":{\"data\":{\"histogram2dcontour\":[{\"type\":\"histogram2dcontour\",\"colorbar\":{\"outlinewidth\":0,\"ticks\":\"\"},\"colorscale\":[[0.0,\"#0d0887\"],[0.1111111111111111,\"#46039f\"],[0.2222222222222222,\"#7201a8\"],[0.3333333333333333,\"#9c179e\"],[0.4444444444444444,\"#bd3786\"],[0.5555555555555556,\"#d8576b\"],[0.6666666666666666,\"#ed7953\"],[0.7777777777777778,\"#fb9f3a\"],[0.8888888888888888,\"#fdca26\"],[1.0,\"#f0f921\"]]}],\"choropleth\":[{\"type\":\"choropleth\",\"colorbar\":{\"outlinewidth\":0,\"ticks\":\"\"}}],\"histogram2d\":[{\"type\":\"histogram2d\",\"colorbar\":{\"outlinewidth\":0,\"ticks\":\"\"},\"colorscale\":[[0.0,\"#0d0887\"],[0.1111111111111111,\"#46039f\"],[0.2222222222222222,\"#7201a8\"],[0.3333333333333333,\"#9c179e\"],[0.4444444444444444,\"#bd3786\"],[0.5555555555555556,\"#d8576b\"],[0.6666666666666666,\"#ed7953\"],[0.7777777777777778,\"#fb9f3a\"],[0.8888888888888888,\"#fdca26\"],[1.0,\"#f0f921\"]]}],\"heatmap\":[{\"type\":\"heatmap\",\"colorbar\":{\"outlinewidth\":0,\"ticks\":\"\"},\"colorscale\":[[0.0,\"#0d0887\"],[0.1111111111111111,\"#46039f\"],[0.2222222222222222,\"#7201a8\"],[0.3333333333333333,\"#9c179e\"],[0.4444444444444444,\"#bd3786\"],[0.5555555555555556,\"#d8576b\"],[0.6666666666666666,\"#ed7953\"],[0.7777777777777778,\"#fb9f3a\"],[0.8888888888888888,\"#fdca26\"],[1.0,\"#f0f921\"]]}],\"heatmapgl\":[{\"type\":\"heatmapgl\",\"colorbar\":{\"outlinewidth\":0,\"ticks\":\"\"},\"colorscale\":[[0.0,\"#0d0887\"],[0.1111111111111111,\"#46039f\"],[0.2222222222222222,\"#7201a8\"],[0.3333333333333333,\"#9c179e\"],[0.4444444444444444,\"#bd3786\"],[0.5555555555555556,\"#d8576b\"],[0.6666666666666666,\"#ed7953\"],[0.7777777777777778,\"#fb9f3a\"],[0.8888888888888888,\"#fdca26\"],[1.0,\"#f0f921\"]]}],\"contourcarpet\":[{\"type\":\"contourcarpet\",\"colorbar\":{\"outlinewidth\":0,\"ticks\":\"\"}}],\"contour\":[{\"type\":\"contour\",\"colorbar\":{\"outlinewidth\":0,\"ticks\":\"\"},\"colorscale\":[[0.0,\"#0d0887\"],[0.1111111111111111,\"#46039f\"],[0.2222222222222222,\"#7201a8\"],[0.3333333333333333,\"#9c179e\"],[0.4444444444444444,\"#bd3786\"],[0.5555555555555556,\"#d8576b\"],[0.6666666666666666,\"#ed7953\"],[0.7777777777777778,\"#fb9f3a\"],[0.8888888888888888,\"#fdca26\"],[1.0,\"#f0f921\"]]}],\"surface\":[{\"type\":\"surface\",\"colorbar\":{\"outlinewidth\":0,\"ticks\":\"\"},\"colorscale\":[[0.0,\"#0d0887\"],[0.1111111111111111,\"#46039f\"],[0.2222222222222222,\"#7201a8\"],[0.3333333333333333,\"#9c179e\"],[0.4444444444444444,\"#bd3786\"],[0.5555555555555556,\"#d8576b\"],[0.6666666666666666,\"#ed7953\"],[0.7777777777777778,\"#fb9f3a\"],[0.8888888888888888,\"#fdca26\"],[1.0,\"#f0f921\"]]}],\"mesh3d\":[{\"type\":\"mesh3d\",\"colorbar\":{\"outlinewidth\":0,\"ticks\":\"\"}}],\"scatter\":[{\"fillpattern\":{\"fillmode\":\"overlay\",\"size\":10,\"solidity\":0.2},\"type\":\"scatter\"}],\"parcoords\":[{\"type\":\"parcoords\",\"line\":{\"colorbar\":{\"outlinewidth\":0,\"ticks\":\"\"}}}],\"scatterpolargl\":[{\"type\":\"scatterpolargl\",\"marker\":{\"colorbar\":{\"outlinewidth\":0,\"ticks\":\"\"}}}],\"bar\":[{\"error_x\":{\"color\":\"#2a3f5f\"},\"error_y\":{\"color\":\"#2a3f5f\"},\"marker\":{\"line\":{\"color\":\"#E5ECF6\",\"width\":0.5},\"pattern\":{\"fillmode\":\"overlay\",\"size\":10,\"solidity\":0.2}},\"type\":\"bar\"}],\"scattergeo\":[{\"type\":\"scattergeo\",\"marker\":{\"colorbar\":{\"outlinewidth\":0,\"ticks\":\"\"}}}],\"scatterpolar\":[{\"type\":\"scatterpolar\",\"marker\":{\"colorbar\":{\"outlinewidth\":0,\"ticks\":\"\"}}}],\"histogram\":[{\"marker\":{\"pattern\":{\"fillmode\":\"overlay\",\"size\":10,\"solidity\":0.2}},\"type\":\"histogram\"}],\"scattergl\":[{\"type\":\"scattergl\",\"marker\":{\"colorbar\":{\"outlinewidth\":0,\"ticks\":\"\"}}}],\"scatter3d\":[{\"type\":\"scatter3d\",\"line\":{\"colorbar\":{\"outlinewidth\":0,\"ticks\":\"\"}},\"marker\":{\"colorbar\":{\"outlinewidth\":0,\"ticks\":\"\"}}}],\"scattermapbox\":[{\"type\":\"scattermapbox\",\"marker\":{\"colorbar\":{\"outlinewidth\":0,\"ticks\":\"\"}}}],\"scatterternary\":[{\"type\":\"scatterternary\",\"marker\":{\"colorbar\":{\"outlinewidth\":0,\"ticks\":\"\"}}}],\"scattercarpet\":[{\"type\":\"scattercarpet\",\"marker\":{\"colorbar\":{\"outlinewidth\":0,\"ticks\":\"\"}}}],\"carpet\":[{\"aaxis\":{\"endlinecolor\":\"#2a3f5f\",\"gridcolor\":\"white\",\"linecolor\":\"white\",\"minorgridcolor\":\"white\",\"startlinecolor\":\"#2a3f5f\"},\"baxis\":{\"endlinecolor\":\"#2a3f5f\",\"gridcolor\":\"white\",\"linecolor\":\"white\",\"minorgridcolor\":\"white\",\"startlinecolor\":\"#2a3f5f\"},\"type\":\"carpet\"}],\"table\":[{\"cells\":{\"fill\":{\"color\":\"#EBF0F8\"},\"line\":{\"color\":\"white\"}},\"header\":{\"fill\":{\"color\":\"#C8D4E3\"},\"line\":{\"color\":\"white\"}},\"type\":\"table\"}],\"barpolar\":[{\"marker\":{\"line\":{\"color\":\"#E5ECF6\",\"width\":0.5},\"pattern\":{\"fillmode\":\"overlay\",\"size\":10,\"solidity\":0.2}},\"type\":\"barpolar\"}],\"pie\":[{\"automargin\":true,\"type\":\"pie\"}]},\"layout\":{\"autotypenumbers\":\"strict\",\"colorway\":[\"#636efa\",\"#EF553B\",\"#00cc96\",\"#ab63fa\",\"#FFA15A\",\"#19d3f3\",\"#FF6692\",\"#B6E880\",\"#FF97FF\",\"#FECB52\"],\"font\":{\"color\":\"#2a3f5f\"},\"hovermode\":\"closest\",\"hoverlabel\":{\"align\":\"left\"},\"paper_bgcolor\":\"white\",\"plot_bgcolor\":\"#E5ECF6\",\"polar\":{\"bgcolor\":\"#E5ECF6\",\"angularaxis\":{\"gridcolor\":\"white\",\"linecolor\":\"white\",\"ticks\":\"\"},\"radialaxis\":{\"gridcolor\":\"white\",\"linecolor\":\"white\",\"ticks\":\"\"}},\"ternary\":{\"bgcolor\":\"#E5ECF6\",\"aaxis\":{\"gridcolor\":\"white\",\"linecolor\":\"white\",\"ticks\":\"\"},\"baxis\":{\"gridcolor\":\"white\",\"linecolor\":\"white\",\"ticks\":\"\"},\"caxis\":{\"gridcolor\":\"white\",\"linecolor\":\"white\",\"ticks\":\"\"}},\"coloraxis\":{\"colorbar\":{\"outlinewidth\":0,\"ticks\":\"\"}},\"colorscale\":{\"sequential\":[[0.0,\"#0d0887\"],[0.1111111111111111,\"#46039f\"],[0.2222222222222222,\"#7201a8\"],[0.3333333333333333,\"#9c179e\"],[0.4444444444444444,\"#bd3786\"],[0.5555555555555556,\"#d8576b\"],[0.6666666666666666,\"#ed7953\"],[0.7777777777777778,\"#fb9f3a\"],[0.8888888888888888,\"#fdca26\"],[1.0,\"#f0f921\"]],\"sequentialminus\":[[0.0,\"#0d0887\"],[0.1111111111111111,\"#46039f\"],[0.2222222222222222,\"#7201a8\"],[0.3333333333333333,\"#9c179e\"],[0.4444444444444444,\"#bd3786\"],[0.5555555555555556,\"#d8576b\"],[0.6666666666666666,\"#ed7953\"],[0.7777777777777778,\"#fb9f3a\"],[0.8888888888888888,\"#fdca26\"],[1.0,\"#f0f921\"]],\"diverging\":[[0,\"#8e0152\"],[0.1,\"#c51b7d\"],[0.2,\"#de77ae\"],[0.3,\"#f1b6da\"],[0.4,\"#fde0ef\"],[0.5,\"#f7f7f7\"],[0.6,\"#e6f5d0\"],[0.7,\"#b8e186\"],[0.8,\"#7fbc41\"],[0.9,\"#4d9221\"],[1,\"#276419\"]]},\"xaxis\":{\"gridcolor\":\"white\",\"linecolor\":\"white\",\"ticks\":\"\",\"title\":{\"standoff\":15},\"zerolinecolor\":\"white\",\"automargin\":true,\"zerolinewidth\":2},\"yaxis\":{\"gridcolor\":\"white\",\"linecolor\":\"white\",\"ticks\":\"\",\"title\":{\"standoff\":15},\"zerolinecolor\":\"white\",\"automargin\":true,\"zerolinewidth\":2},\"scene\":{\"xaxis\":{\"backgroundcolor\":\"#E5ECF6\",\"gridcolor\":\"white\",\"linecolor\":\"white\",\"showbackground\":true,\"ticks\":\"\",\"zerolinecolor\":\"white\",\"gridwidth\":2},\"yaxis\":{\"backgroundcolor\":\"#E5ECF6\",\"gridcolor\":\"white\",\"linecolor\":\"white\",\"showbackground\":true,\"ticks\":\"\",\"zerolinecolor\":\"white\",\"gridwidth\":2},\"zaxis\":{\"backgroundcolor\":\"#E5ECF6\",\"gridcolor\":\"white\",\"linecolor\":\"white\",\"showbackground\":true,\"ticks\":\"\",\"zerolinecolor\":\"white\",\"gridwidth\":2}},\"shapedefaults\":{\"line\":{\"color\":\"#2a3f5f\"}},\"annotationdefaults\":{\"arrowcolor\":\"#2a3f5f\",\"arrowhead\":0,\"arrowwidth\":1},\"geo\":{\"bgcolor\":\"white\",\"landcolor\":\"#E5ECF6\",\"subunitcolor\":\"white\",\"showland\":true,\"showlakes\":true,\"lakecolor\":\"white\"},\"title\":{\"x\":0.05},\"mapbox\":{\"style\":\"light\"}}},\"xaxis\":{\"title\":{\"text\":\"Contagem\"}},\"yaxis\":{\"title\":{\"text\":\"Prazo em Dias\"}}},                        {\"responsive\": true}                    ).then(function(){\n",
              "                            \n",
              "var gd = document.getElementById('701d0781-2602-4579-9bec-9d05c47f719c');\n",
              "var x = new MutationObserver(function (mutations, observer) {{\n",
              "        var display = window.getComputedStyle(gd).display;\n",
              "        if (!display || display === 'none') {{\n",
              "            console.log([gd, 'removed!']);\n",
              "            Plotly.purge(gd);\n",
              "            observer.disconnect();\n",
              "        }}\n",
              "}});\n",
              "\n",
              "// Listen for the removal of the full notebook cells\n",
              "var notebookContainer = gd.closest('#notebook-container');\n",
              "if (notebookContainer) {{\n",
              "    x.observe(notebookContainer, {childList: true});\n",
              "}}\n",
              "\n",
              "// Listen for the clearing of the current output cell\n",
              "var outputEl = gd.closest('.output');\n",
              "if (outputEl) {{\n",
              "    x.observe(outputEl, {childList: true});\n",
              "}}\n",
              "\n",
              "                        })                };                            </script>        </div>\n",
              "</body>\n",
              "</html>"
            ]
          },
          "metadata": {}
        },
        {
          "output_type": "stream",
          "name": "stdout",
          "text": [
            "0.6046179959432864 9.55396434606826\n",
            "0.8698293259682461 6.452139544358634\n"
          ]
        }
      ]
    },
    {
      "cell_type": "code",
      "metadata": {
        "colab": {
          "base_uri": "https://localhost:8080/",
          "height": 320
        },
        "id": "HEP0gtve8osa",
        "outputId": "2f9b9b1e-9c2e-4322-9af0-54a400668791"
      },
      "source": [
        "est.describe()"
      ],
      "execution_count": 24,
      "outputs": [
        {
          "output_type": "execute_result",
          "data": {
            "text/plain": [
              "                 id  prazo_contratual_dias_uteis  contagem_estimada_pf  \\\n",
              "count    470.000000                   470.000000            470.000000   \n",
              "mean   34068.631915                    21.189362             16.942660   \n",
              "std     9019.102462                    21.283453             23.986053   \n",
              "min    25954.000000                     2.000000              0.450000   \n",
              "25%    26314.500000                    10.000000              4.000000   \n",
              "50%    29963.000000                    10.000000              8.000000   \n",
              "75%    40432.750000                    20.000000             20.000000   \n",
              "max    56002.000000                   150.000000            208.000000   \n",
              "\n",
              "       contagem_bruta_pf_fsw  contagem_liquida_ajustada_pf_fsw  \\\n",
              "count             470.000000                        470.000000   \n",
              "mean               19.244213                         11.446830   \n",
              "std                28.515277                         15.599356   \n",
              "min                 0.000000                          0.010000   \n",
              "25%                 6.000000                          3.600000   \n",
              "50%                 9.000000                          5.400000   \n",
              "75%                22.000000                         12.870000   \n",
              "max               307.000000                        141.640000   \n",
              "\n",
              "       tempo_fws_seg_uteis  tempo_trf1_seg_uteis  tempo_fsw_seg_corr_exc_fer  \\\n",
              "count         4.700000e+02          4.700000e+02                4.700000e+02   \n",
              "mean          8.668374e+05          3.761848e+06                2.237445e+06   \n",
              "std           1.237873e+06          3.065711e+06                3.211396e+06   \n",
              "min           0.000000e+00          0.000000e+00                0.000000e+00   \n",
              "25%           2.634712e+05          1.487172e+06                6.891300e+05   \n",
              "50%           4.427840e+05          2.924885e+06                1.143985e+06   \n",
              "75%           8.888198e+05          5.227388e+06                2.297522e+06   \n",
              "max           8.962300e+06          2.171570e+07                2.365030e+07   \n",
              "\n",
              "       tempo_trf1_seg_corr_inc_feriados  \n",
              "count                      4.700000e+02  \n",
              "mean                       1.066226e+07  \n",
              "std                        8.206669e+06  \n",
              "min                        0.000000e+00  \n",
              "25%                        4.622232e+06  \n",
              "50%                        8.557525e+06  \n",
              "75%                        1.467342e+07  \n",
              "max                        5.814770e+07  "
            ],
            "text/html": [
              "\n",
              "  <div id=\"df-0899bb10-f48f-4558-9ea5-78a5911906ce\" class=\"colab-df-container\">\n",
              "    <div>\n",
              "<style scoped>\n",
              "    .dataframe tbody tr th:only-of-type {\n",
              "        vertical-align: middle;\n",
              "    }\n",
              "\n",
              "    .dataframe tbody tr th {\n",
              "        vertical-align: top;\n",
              "    }\n",
              "\n",
              "    .dataframe thead th {\n",
              "        text-align: right;\n",
              "    }\n",
              "</style>\n",
              "<table border=\"1\" class=\"dataframe\">\n",
              "  <thead>\n",
              "    <tr style=\"text-align: right;\">\n",
              "      <th></th>\n",
              "      <th>id</th>\n",
              "      <th>prazo_contratual_dias_uteis</th>\n",
              "      <th>contagem_estimada_pf</th>\n",
              "      <th>contagem_bruta_pf_fsw</th>\n",
              "      <th>contagem_liquida_ajustada_pf_fsw</th>\n",
              "      <th>tempo_fws_seg_uteis</th>\n",
              "      <th>tempo_trf1_seg_uteis</th>\n",
              "      <th>tempo_fsw_seg_corr_exc_fer</th>\n",
              "      <th>tempo_trf1_seg_corr_inc_feriados</th>\n",
              "    </tr>\n",
              "  </thead>\n",
              "  <tbody>\n",
              "    <tr>\n",
              "      <th>count</th>\n",
              "      <td>470.000000</td>\n",
              "      <td>470.000000</td>\n",
              "      <td>470.000000</td>\n",
              "      <td>470.000000</td>\n",
              "      <td>470.000000</td>\n",
              "      <td>4.700000e+02</td>\n",
              "      <td>4.700000e+02</td>\n",
              "      <td>4.700000e+02</td>\n",
              "      <td>4.700000e+02</td>\n",
              "    </tr>\n",
              "    <tr>\n",
              "      <th>mean</th>\n",
              "      <td>34068.631915</td>\n",
              "      <td>21.189362</td>\n",
              "      <td>16.942660</td>\n",
              "      <td>19.244213</td>\n",
              "      <td>11.446830</td>\n",
              "      <td>8.668374e+05</td>\n",
              "      <td>3.761848e+06</td>\n",
              "      <td>2.237445e+06</td>\n",
              "      <td>1.066226e+07</td>\n",
              "    </tr>\n",
              "    <tr>\n",
              "      <th>std</th>\n",
              "      <td>9019.102462</td>\n",
              "      <td>21.283453</td>\n",
              "      <td>23.986053</td>\n",
              "      <td>28.515277</td>\n",
              "      <td>15.599356</td>\n",
              "      <td>1.237873e+06</td>\n",
              "      <td>3.065711e+06</td>\n",
              "      <td>3.211396e+06</td>\n",
              "      <td>8.206669e+06</td>\n",
              "    </tr>\n",
              "    <tr>\n",
              "      <th>min</th>\n",
              "      <td>25954.000000</td>\n",
              "      <td>2.000000</td>\n",
              "      <td>0.450000</td>\n",
              "      <td>0.000000</td>\n",
              "      <td>0.010000</td>\n",
              "      <td>0.000000e+00</td>\n",
              "      <td>0.000000e+00</td>\n",
              "      <td>0.000000e+00</td>\n",
              "      <td>0.000000e+00</td>\n",
              "    </tr>\n",
              "    <tr>\n",
              "      <th>25%</th>\n",
              "      <td>26314.500000</td>\n",
              "      <td>10.000000</td>\n",
              "      <td>4.000000</td>\n",
              "      <td>6.000000</td>\n",
              "      <td>3.600000</td>\n",
              "      <td>2.634712e+05</td>\n",
              "      <td>1.487172e+06</td>\n",
              "      <td>6.891300e+05</td>\n",
              "      <td>4.622232e+06</td>\n",
              "    </tr>\n",
              "    <tr>\n",
              "      <th>50%</th>\n",
              "      <td>29963.000000</td>\n",
              "      <td>10.000000</td>\n",
              "      <td>8.000000</td>\n",
              "      <td>9.000000</td>\n",
              "      <td>5.400000</td>\n",
              "      <td>4.427840e+05</td>\n",
              "      <td>2.924885e+06</td>\n",
              "      <td>1.143985e+06</td>\n",
              "      <td>8.557525e+06</td>\n",
              "    </tr>\n",
              "    <tr>\n",
              "      <th>75%</th>\n",
              "      <td>40432.750000</td>\n",
              "      <td>20.000000</td>\n",
              "      <td>20.000000</td>\n",
              "      <td>22.000000</td>\n",
              "      <td>12.870000</td>\n",
              "      <td>8.888198e+05</td>\n",
              "      <td>5.227388e+06</td>\n",
              "      <td>2.297522e+06</td>\n",
              "      <td>1.467342e+07</td>\n",
              "    </tr>\n",
              "    <tr>\n",
              "      <th>max</th>\n",
              "      <td>56002.000000</td>\n",
              "      <td>150.000000</td>\n",
              "      <td>208.000000</td>\n",
              "      <td>307.000000</td>\n",
              "      <td>141.640000</td>\n",
              "      <td>8.962300e+06</td>\n",
              "      <td>2.171570e+07</td>\n",
              "      <td>2.365030e+07</td>\n",
              "      <td>5.814770e+07</td>\n",
              "    </tr>\n",
              "  </tbody>\n",
              "</table>\n",
              "</div>\n",
              "    <div class=\"colab-df-buttons\">\n",
              "\n",
              "  <div class=\"colab-df-container\">\n",
              "    <button class=\"colab-df-convert\" onclick=\"convertToInteractive('df-0899bb10-f48f-4558-9ea5-78a5911906ce')\"\n",
              "            title=\"Convert this dataframe to an interactive table.\"\n",
              "            style=\"display:none;\">\n",
              "\n",
              "  <svg xmlns=\"http://www.w3.org/2000/svg\" height=\"24px\" viewBox=\"0 -960 960 960\">\n",
              "    <path d=\"M120-120v-720h720v720H120Zm60-500h600v-160H180v160Zm220 220h160v-160H400v160Zm0 220h160v-160H400v160ZM180-400h160v-160H180v160Zm440 0h160v-160H620v160ZM180-180h160v-160H180v160Zm440 0h160v-160H620v160Z\"/>\n",
              "  </svg>\n",
              "    </button>\n",
              "\n",
              "  <style>\n",
              "    .colab-df-container {\n",
              "      display:flex;\n",
              "      gap: 12px;\n",
              "    }\n",
              "\n",
              "    .colab-df-convert {\n",
              "      background-color: #E8F0FE;\n",
              "      border: none;\n",
              "      border-radius: 50%;\n",
              "      cursor: pointer;\n",
              "      display: none;\n",
              "      fill: #1967D2;\n",
              "      height: 32px;\n",
              "      padding: 0 0 0 0;\n",
              "      width: 32px;\n",
              "    }\n",
              "\n",
              "    .colab-df-convert:hover {\n",
              "      background-color: #E2EBFA;\n",
              "      box-shadow: 0px 1px 2px rgba(60, 64, 67, 0.3), 0px 1px 3px 1px rgba(60, 64, 67, 0.15);\n",
              "      fill: #174EA6;\n",
              "    }\n",
              "\n",
              "    .colab-df-buttons div {\n",
              "      margin-bottom: 4px;\n",
              "    }\n",
              "\n",
              "    [theme=dark] .colab-df-convert {\n",
              "      background-color: #3B4455;\n",
              "      fill: #D2E3FC;\n",
              "    }\n",
              "\n",
              "    [theme=dark] .colab-df-convert:hover {\n",
              "      background-color: #434B5C;\n",
              "      box-shadow: 0px 1px 3px 1px rgba(0, 0, 0, 0.15);\n",
              "      filter: drop-shadow(0px 1px 2px rgba(0, 0, 0, 0.3));\n",
              "      fill: #FFFFFF;\n",
              "    }\n",
              "  </style>\n",
              "\n",
              "    <script>\n",
              "      const buttonEl =\n",
              "        document.querySelector('#df-0899bb10-f48f-4558-9ea5-78a5911906ce button.colab-df-convert');\n",
              "      buttonEl.style.display =\n",
              "        google.colab.kernel.accessAllowed ? 'block' : 'none';\n",
              "\n",
              "      async function convertToInteractive(key) {\n",
              "        const element = document.querySelector('#df-0899bb10-f48f-4558-9ea5-78a5911906ce');\n",
              "        const dataTable =\n",
              "          await google.colab.kernel.invokeFunction('convertToInteractive',\n",
              "                                                    [key], {});\n",
              "        if (!dataTable) return;\n",
              "\n",
              "        const docLinkHtml = 'Like what you see? Visit the ' +\n",
              "          '<a target=\"_blank\" href=https://colab.research.google.com/notebooks/data_table.ipynb>data table notebook</a>'\n",
              "          + ' to learn more about interactive tables.';\n",
              "        element.innerHTML = '';\n",
              "        dataTable['output_type'] = 'display_data';\n",
              "        await google.colab.output.renderOutput(dataTable, element);\n",
              "        const docLink = document.createElement('div');\n",
              "        docLink.innerHTML = docLinkHtml;\n",
              "        element.appendChild(docLink);\n",
              "      }\n",
              "    </script>\n",
              "  </div>\n",
              "\n",
              "\n",
              "    <div id=\"df-e4330e91-7b2b-4d64-8470-307d311239f8\">\n",
              "      <button class=\"colab-df-quickchart\" onclick=\"quickchart('df-e4330e91-7b2b-4d64-8470-307d311239f8')\"\n",
              "                title=\"Suggest charts\"\n",
              "                style=\"display:none;\">\n",
              "\n",
              "<svg xmlns=\"http://www.w3.org/2000/svg\" height=\"24px\"viewBox=\"0 0 24 24\"\n",
              "     width=\"24px\">\n",
              "    <g>\n",
              "        <path d=\"M19 3H5c-1.1 0-2 .9-2 2v14c0 1.1.9 2 2 2h14c1.1 0 2-.9 2-2V5c0-1.1-.9-2-2-2zM9 17H7v-7h2v7zm4 0h-2V7h2v10zm4 0h-2v-4h2v4z\"/>\n",
              "    </g>\n",
              "</svg>\n",
              "      </button>\n",
              "\n",
              "<style>\n",
              "  .colab-df-quickchart {\n",
              "      --bg-color: #E8F0FE;\n",
              "      --fill-color: #1967D2;\n",
              "      --hover-bg-color: #E2EBFA;\n",
              "      --hover-fill-color: #174EA6;\n",
              "      --disabled-fill-color: #AAA;\n",
              "      --disabled-bg-color: #DDD;\n",
              "  }\n",
              "\n",
              "  [theme=dark] .colab-df-quickchart {\n",
              "      --bg-color: #3B4455;\n",
              "      --fill-color: #D2E3FC;\n",
              "      --hover-bg-color: #434B5C;\n",
              "      --hover-fill-color: #FFFFFF;\n",
              "      --disabled-bg-color: #3B4455;\n",
              "      --disabled-fill-color: #666;\n",
              "  }\n",
              "\n",
              "  .colab-df-quickchart {\n",
              "    background-color: var(--bg-color);\n",
              "    border: none;\n",
              "    border-radius: 50%;\n",
              "    cursor: pointer;\n",
              "    display: none;\n",
              "    fill: var(--fill-color);\n",
              "    height: 32px;\n",
              "    padding: 0;\n",
              "    width: 32px;\n",
              "  }\n",
              "\n",
              "  .colab-df-quickchart:hover {\n",
              "    background-color: var(--hover-bg-color);\n",
              "    box-shadow: 0 1px 2px rgba(60, 64, 67, 0.3), 0 1px 3px 1px rgba(60, 64, 67, 0.15);\n",
              "    fill: var(--button-hover-fill-color);\n",
              "  }\n",
              "\n",
              "  .colab-df-quickchart-complete:disabled,\n",
              "  .colab-df-quickchart-complete:disabled:hover {\n",
              "    background-color: var(--disabled-bg-color);\n",
              "    fill: var(--disabled-fill-color);\n",
              "    box-shadow: none;\n",
              "  }\n",
              "\n",
              "  .colab-df-spinner {\n",
              "    border: 2px solid var(--fill-color);\n",
              "    border-color: transparent;\n",
              "    border-bottom-color: var(--fill-color);\n",
              "    animation:\n",
              "      spin 1s steps(1) infinite;\n",
              "  }\n",
              "\n",
              "  @keyframes spin {\n",
              "    0% {\n",
              "      border-color: transparent;\n",
              "      border-bottom-color: var(--fill-color);\n",
              "      border-left-color: var(--fill-color);\n",
              "    }\n",
              "    20% {\n",
              "      border-color: transparent;\n",
              "      border-left-color: var(--fill-color);\n",
              "      border-top-color: var(--fill-color);\n",
              "    }\n",
              "    30% {\n",
              "      border-color: transparent;\n",
              "      border-left-color: var(--fill-color);\n",
              "      border-top-color: var(--fill-color);\n",
              "      border-right-color: var(--fill-color);\n",
              "    }\n",
              "    40% {\n",
              "      border-color: transparent;\n",
              "      border-right-color: var(--fill-color);\n",
              "      border-top-color: var(--fill-color);\n",
              "    }\n",
              "    60% {\n",
              "      border-color: transparent;\n",
              "      border-right-color: var(--fill-color);\n",
              "    }\n",
              "    80% {\n",
              "      border-color: transparent;\n",
              "      border-right-color: var(--fill-color);\n",
              "      border-bottom-color: var(--fill-color);\n",
              "    }\n",
              "    90% {\n",
              "      border-color: transparent;\n",
              "      border-bottom-color: var(--fill-color);\n",
              "    }\n",
              "  }\n",
              "</style>\n",
              "\n",
              "      <script>\n",
              "        async function quickchart(key) {\n",
              "          const quickchartButtonEl =\n",
              "            document.querySelector('#' + key + ' button');\n",
              "          quickchartButtonEl.disabled = true;  // To prevent multiple clicks.\n",
              "          quickchartButtonEl.classList.add('colab-df-spinner');\n",
              "          try {\n",
              "            const charts = await google.colab.kernel.invokeFunction(\n",
              "                'suggestCharts', [key], {});\n",
              "          } catch (error) {\n",
              "            console.error('Error during call to suggestCharts:', error);\n",
              "          }\n",
              "          quickchartButtonEl.classList.remove('colab-df-spinner');\n",
              "          quickchartButtonEl.classList.add('colab-df-quickchart-complete');\n",
              "        }\n",
              "        (() => {\n",
              "          let quickchartButtonEl =\n",
              "            document.querySelector('#df-e4330e91-7b2b-4d64-8470-307d311239f8 button');\n",
              "          quickchartButtonEl.style.display =\n",
              "            google.colab.kernel.accessAllowed ? 'block' : 'none';\n",
              "        })();\n",
              "      </script>\n",
              "    </div>\n",
              "\n",
              "    </div>\n",
              "  </div>\n"
            ],
            "application/vnd.google.colaboratory.intrinsic+json": {
              "type": "dataframe",
              "summary": "{\n  \"name\": \"est\",\n  \"rows\": 8,\n  \"fields\": [\n    {\n      \"column\": \"id\",\n      \"properties\": {\n        \"dtype\": \"number\",\n        \"std\": 17337.71717358011,\n        \"min\": 470.0,\n        \"max\": 56002.0,\n        \"num_unique_values\": 8,\n        \"samples\": [\n          34068.631914893616,\n          29963.0,\n          470.0\n        ],\n        \"semantic_type\": \"\",\n        \"description\": \"\"\n      }\n    },\n    {\n      \"column\": \"prazo_contratual_dias_uteis\",\n      \"properties\": {\n        \"dtype\": \"number\",\n        \"std\": 161.63041220141892,\n        \"min\": 2.0,\n        \"max\": 470.0,\n        \"num_unique_values\": 7,\n        \"samples\": [\n          470.0,\n          21.18936170212766,\n          20.0\n        ],\n        \"semantic_type\": \"\",\n        \"description\": \"\"\n      }\n    },\n    {\n      \"column\": \"contagem_estimada_pf\",\n      \"properties\": {\n        \"dtype\": \"number\",\n        \"std\": 166.87691816001728,\n        \"min\": 0.45,\n        \"max\": 470.0,\n        \"num_unique_values\": 8,\n        \"samples\": [\n          16.942659574468085,\n          8.0,\n          470.0\n        ],\n        \"semantic_type\": \"\",\n        \"description\": \"\"\n      }\n    },\n    {\n      \"column\": \"contagem_bruta_pf_fsw\",\n      \"properties\": {\n        \"dtype\": \"number\",\n        \"std\": 178.92727312654372,\n        \"min\": 0.0,\n        \"max\": 470.0,\n        \"num_unique_values\": 8,\n        \"samples\": [\n          19.244212765957446,\n          9.0,\n          470.0\n        ],\n        \"semantic_type\": \"\",\n        \"description\": \"\"\n      }\n    },\n    {\n      \"column\": \"contagem_liquida_ajustada_pf_fsw\",\n      \"properties\": {\n        \"dtype\": \"number\",\n        \"std\": 163.44529698207631,\n        \"min\": 0.01,\n        \"max\": 470.0,\n        \"num_unique_values\": 8,\n        \"samples\": [\n          11.446829787234043,\n          5.4,\n          470.0\n        ],\n        \"semantic_type\": \"\",\n        \"description\": \"\"\n      }\n    },\n    {\n      \"column\": \"tempo_fws_seg_uteis\",\n      \"properties\": {\n        \"dtype\": \"number\",\n        \"std\": 3014713.797114983,\n        \"min\": 0.0,\n        \"max\": 8962300.0,\n        \"num_unique_values\": 8,\n        \"samples\": [\n          866837.4319148936,\n          442784.0,\n          470.0\n        ],\n        \"semantic_type\": \"\",\n        \"description\": \"\"\n      }\n    },\n    {\n      \"column\": \"tempo_trf1_seg_uteis\",\n      \"properties\": {\n        \"dtype\": \"number\",\n        \"std\": 7080855.257898955,\n        \"min\": 0.0,\n        \"max\": 21715700.0,\n        \"num_unique_values\": 8,\n        \"samples\": [\n          3761847.6170212766,\n          2924885.0,\n          470.0\n        ],\n        \"semantic_type\": \"\",\n        \"description\": \"\"\n      }\n    },\n    {\n      \"column\": \"tempo_fsw_seg_corr_exc_fer\",\n      \"properties\": {\n        \"dtype\": \"number\",\n        \"std\": 7961397.471214748,\n        \"min\": 0.0,\n        \"max\": 23650300.0,\n        \"num_unique_values\": 8,\n        \"samples\": [\n          2237445.219148936,\n          1143985.0,\n          470.0\n        ],\n        \"semantic_type\": \"\",\n        \"description\": \"\"\n      }\n    },\n    {\n      \"column\": \"tempo_trf1_seg_corr_inc_feriados\",\n      \"properties\": {\n        \"dtype\": \"number\",\n        \"std\": 18888287.826575875,\n        \"min\": 0.0,\n        \"max\": 58147700.0,\n        \"num_unique_values\": 8,\n        \"samples\": [\n          10662255.059574468,\n          8557525.0,\n          470.0\n        ],\n        \"semantic_type\": \"\",\n        \"description\": \"\"\n      }\n    }\n  ]\n}"
            }
          },
          "metadata": {},
          "execution_count": 24
        }
      ]
    },
    {
      "cell_type": "code",
      "metadata": {
        "colab": {
          "base_uri": "https://localhost:8080/"
        },
        "id": "ZL00cwqq85tz",
        "outputId": "7b3303be-adae-4302-8f93-960c983af5b5"
      },
      "source": [
        "X2 = sm.add_constant(X)\n",
        "X2_OLS = sm.OLS(y, X2)\n",
        "X2_OLS = X2_OLS.fit()\n",
        "print(X2_OLS.summary())"
      ],
      "execution_count": 25,
      "outputs": [
        {
          "output_type": "stream",
          "name": "stdout",
          "text": [
            "                            OLS Regression Results                            \n",
            "==============================================================================\n",
            "Dep. Variable:                      y   R-squared:                       0.964\n",
            "Model:                            OLS   Adj. R-squared:                  0.963\n",
            "Method:                 Least Squares   F-statistic:                     4125.\n",
            "Date:                Tue, 13 May 2025   Prob (F-statistic):               0.00\n",
            "Time:                        02:44:27   Log-Likelihood:                -1324.3\n",
            "No. Observations:                 470   AIC:                             2657.\n",
            "Df Residuals:                     466   BIC:                             2673.\n",
            "Df Model:                           3                                         \n",
            "Covariance Type:            nonrobust                                         \n",
            "==============================================================================\n",
            "                 coef    std err          t      P>|t|      [0.025      0.975]\n",
            "------------------------------------------------------------------------------\n",
            "const          6.1510      0.236     26.028      0.000       5.687       6.615\n",
            "x1             0.8412      0.014     60.229      0.000       0.814       0.869\n",
            "x2            -0.0778      0.019     -4.020      0.000      -0.116      -0.040\n",
            "x3             0.1995      0.034      5.844      0.000       0.132       0.267\n",
            "==============================================================================\n",
            "Omnibus:                      313.176   Durbin-Watson:                   1.976\n",
            "Prob(Omnibus):                  0.000   Jarque-Bera (JB):            13046.894\n",
            "Skew:                          -2.271   Prob(JB):                         0.00\n",
            "Kurtosis:                      28.409   Cond. No.                         60.0\n",
            "==============================================================================\n",
            "\n",
            "Notes:\n",
            "[1] Standard Errors assume that the covariance matrix of the errors is correctly specified.\n"
          ]
        }
      ]
    },
    {
      "cell_type": "code",
      "metadata": {
        "colab": {
          "base_uri": "https://localhost:8080/"
        },
        "id": "sSjfmxre-GGC",
        "outputId": "719e3084-242e-4bc4-90ce-f1c6e1a897d5"
      },
      "source": [
        "X = est.iloc[:,5:8].values\n",
        "y = est.iloc[:,4].values\n",
        "\n",
        "X_train, X_test, y_train, y_test = train_test_split(X,y, test_size = 1/3, random_state = 42) #\n",
        "\n",
        "#print(X)\n",
        "\n",
        "lr = LinearRegression().fit(X_train,y_train)\n",
        "\n",
        "print(lr.score(X_train,y_train))\n",
        "print(lr.score(X_test,y_test))"
      ],
      "execution_count": 26,
      "outputs": [
        {
          "output_type": "stream",
          "name": "stdout",
          "text": [
            "0.9584178592845115\n",
            "0.961387245145628\n"
          ]
        }
      ]
    },
    {
      "cell_type": "markdown",
      "metadata": {
        "id": "d6L9jiGlLfp5"
      },
      "source": [
        "# **Regressão Rígida e Lasso**"
      ]
    },
    {
      "cell_type": "code",
      "metadata": {
        "colab": {
          "base_uri": "https://localhost:8080/"
        },
        "id": "U1sAXQgrBncF",
        "outputId": "0e3890f3-f9bb-41dc-f7a2-5e63542369b8"
      },
      "source": [
        "lr_ridge = Ridge(alpha=20.0).fit(X_train,y_train)\n",
        "print(lr_ridge.score(X_train,y_train))\n",
        "print(lr_ridge.score(X_test,y_test))"
      ],
      "execution_count": 27,
      "outputs": [
        {
          "output_type": "stream",
          "name": "stdout",
          "text": [
            "0.9584176255034568\n",
            "0.96167522788855\n"
          ]
        }
      ]
    },
    {
      "cell_type": "code",
      "metadata": {
        "colab": {
          "base_uri": "https://localhost:8080/"
        },
        "id": "hAIP9mZbDvMm",
        "outputId": "77d00f75-22be-408c-cf4b-320d562ce2a4"
      },
      "source": [
        "lr.coef_"
      ],
      "execution_count": 28,
      "outputs": [
        {
          "output_type": "execute_result",
          "data": {
            "text/plain": [
              "array([ 0.80779081, -0.16434647,  0.34012984])"
            ]
          },
          "metadata": {},
          "execution_count": 28
        }
      ]
    },
    {
      "cell_type": "code",
      "metadata": {
        "colab": {
          "base_uri": "https://localhost:8080/"
        },
        "id": "lx6oGpYEDgxX",
        "outputId": "28a79924-550c-431c-80b1-94727ea01b53"
      },
      "source": [
        "lr_ridge.coef_"
      ],
      "execution_count": 29,
      "outputs": [
        {
          "output_type": "execute_result",
          "data": {
            "text/plain": [
              "array([ 0.80766782, -0.1621901 ,  0.3367342 ])"
            ]
          },
          "metadata": {},
          "execution_count": 29
        }
      ]
    },
    {
      "cell_type": "code",
      "metadata": {
        "colab": {
          "base_uri": "https://localhost:8080/"
        },
        "id": "4emY6IT9EhDF",
        "outputId": "45170483-61a5-47e2-fe64-7674043d2353"
      },
      "source": [
        "scaler = MinMaxScaler()\n",
        "X_train_scaler = scaler.fit_transform(X_train)\n",
        "X_test_scaler = scaler.transform(X_test)\n",
        "\n",
        "lr_scaler = LinearRegression().fit(X_train_scaler,y_train)\n",
        "print(lr_scaler.score(X_train_scaler,y_train))\n",
        "print(lr_scaler.score(X_test_scaler,y_test))"
      ],
      "execution_count": 30,
      "outputs": [
        {
          "output_type": "stream",
          "name": "stdout",
          "text": [
            "0.9584178592845115\n",
            "0.9613872451456281\n"
          ]
        }
      ]
    },
    {
      "cell_type": "code",
      "metadata": {
        "colab": {
          "base_uri": "https://localhost:8080/"
        },
        "id": "4svJgO8AIYMx",
        "outputId": "f3e26b76-7c14-45fd-dcb2-d844835eb6ae"
      },
      "source": [
        "lr_ridge_scaler = Ridge(alpha=5.0).fit(X_train_scaler,y_train)\n",
        "\n",
        "print(lr_ridge_scaler.score(X_train_scaler,y_train))\n",
        "print(lr_ridge_scaler.score(X_test_scaler,y_test))"
      ],
      "execution_count": 31,
      "outputs": [
        {
          "output_type": "stream",
          "name": "stdout",
          "text": [
            "0.7694442753306051\n",
            "0.8097788019428885\n"
          ]
        }
      ]
    },
    {
      "cell_type": "code",
      "metadata": {
        "colab": {
          "base_uri": "https://localhost:8080/"
        },
        "id": "81N9s1Z6LtrC",
        "outputId": "8afa19cd-74f4-4559-ea42-b5e3ab2048d7"
      },
      "source": [
        "lr_lasso_scaler = Lasso(alpha=2.0, max_iter=10000).fit(X_train_scaler,y_train)\n",
        "\n",
        "print(lr_lasso_scaler.score(X_train_scaler,y_train))\n",
        "print(lr_lasso_scaler.score(X_test_scaler,y_test))"
      ],
      "execution_count": 32,
      "outputs": [
        {
          "output_type": "stream",
          "name": "stdout",
          "text": [
            "0.2737761216860687\n",
            "0.2585092336274132\n"
          ]
        }
      ]
    },
    {
      "cell_type": "code",
      "metadata": {
        "colab": {
          "base_uri": "https://localhost:8080/"
        },
        "id": "CbmKJao9MGSn",
        "outputId": "88374fe7-a2c8-4ca0-bc9c-0c2f3e7e407f"
      },
      "source": [
        "lr_lasso_scaler.coef_\n",
        "np.sum(lr_lasso_scaler.coef_!=0)"
      ],
      "execution_count": 33,
      "outputs": [
        {
          "output_type": "execute_result",
          "data": {
            "text/plain": [
              "np.int64(1)"
            ]
          },
          "metadata": {},
          "execution_count": 33
        }
      ]
    },
    {
      "cell_type": "markdown",
      "metadata": {
        "id": "UkY3qr8OMVHT"
      },
      "source": [
        "**Análise**\n",
        "\n",
        "Apresentou uma variável ao invés das 3 originais. Na prática eu poderia usar a regressão rígida e a lasso para melhorar meu modelo já que meu conjunto de dados não é muito grande.\n"
      ]
    },
    {
      "cell_type": "code",
      "metadata": {
        "colab": {
          "base_uri": "https://localhost:8080/"
        },
        "id": "WeZhFYFRPWCT",
        "outputId": "d1d970d9-0930-4c6c-cb36-4871c86f0ca8"
      },
      "source": [
        "#print(X2)\n",
        "x = X2[:,2]*X2[:,3] #multiplicando a contagem bruta x contagem liquida\n",
        "x =np.reshape(x, (-1,1))\n",
        "\n",
        "#print(x)\n",
        "X4 = np.append(X2, x , axis=1)\n",
        "\n",
        "X4_OLS = sm.OLS(y, X4)\n",
        "X4_OLS = X4_OLS.fit()\n",
        "print(X4_OLS.summary())\n",
        "\n"
      ],
      "execution_count": 34,
      "outputs": [
        {
          "output_type": "stream",
          "name": "stdout",
          "text": [
            "                            OLS Regression Results                            \n",
            "==============================================================================\n",
            "Dep. Variable:                      y   R-squared:                       0.974\n",
            "Model:                            OLS   Adj. R-squared:                  0.974\n",
            "Method:                 Least Squares   F-statistic:                     4384.\n",
            "Date:                Tue, 13 May 2025   Prob (F-statistic):               0.00\n",
            "Time:                        02:44:43   Log-Likelihood:                -1244.5\n",
            "No. Observations:                 470   AIC:                             2499.\n",
            "Df Residuals:                     465   BIC:                             2520.\n",
            "Df Model:                           4                                         \n",
            "Covariance Type:            nonrobust                                         \n",
            "==============================================================================\n",
            "                 coef    std err          t      P>|t|      [0.025      0.975]\n",
            "------------------------------------------------------------------------------\n",
            "const          4.2374      0.244     17.400      0.000       3.759       4.716\n",
            "x1             0.8450      0.012     71.609      0.000       0.822       0.868\n",
            "x2             0.0495      0.019      2.632      0.009       0.013       0.086\n",
            "x3             0.2534      0.029      8.708      0.000       0.196       0.311\n",
            "x4            -0.0019      0.000    -13.718      0.000      -0.002      -0.002\n",
            "==============================================================================\n",
            "Omnibus:                      100.017   Durbin-Watson:                   2.000\n",
            "Prob(Omnibus):                  0.000   Jarque-Bera (JB):             2077.644\n",
            "Skew:                          -0.230   Prob(JB):                         0.00\n",
            "Kurtosis:                      13.290   Cond. No.                     4.12e+03\n",
            "==============================================================================\n",
            "\n",
            "Notes:\n",
            "[1] Standard Errors assume that the covariance matrix of the errors is correctly specified.\n",
            "[2] The condition number is large, 4.12e+03. This might indicate that there are\n",
            "strong multicollinearity or other numerical problems.\n"
          ]
        }
      ]
    },
    {
      "cell_type": "code",
      "metadata": {
        "colab": {
          "base_uri": "https://localhost:8080/",
          "height": 502
        },
        "id": "jjl53QoAR3W1",
        "outputId": "e8e4aff6-e673-47f3-de96-31fd33ca87b4"
      },
      "source": [
        "model = Ridge(alpha=20)\n",
        "visualizer = ResidualsPlot(model)\n",
        "visualizer.fit(X_train_scaler, y_train)\n",
        "visualizer.score(X_test_scaler, y_test)"
      ],
      "execution_count": 35,
      "outputs": [
        {
          "output_type": "execute_result",
          "data": {
            "text/plain": [
              "0.49949460377403676"
            ]
          },
          "metadata": {},
          "execution_count": 35
        },
        {
          "output_type": "display_data",
          "data": {
            "text/plain": [
              "<Figure size 800x550 with 2 Axes>"
            ],
            "image/png": "[encoded data removed]"
          },
          "metadata": {}
        }
      ]
    },
    {
      "cell_type": "markdown",
      "metadata": {
        "id": "YRWgnITHXT87"
      },
      "source": [
        "# **Regressão Polinomial**"
      ]
    },
    {
      "cell_type": "code",
      "metadata": {
        "colab": {
          "base_uri": "https://localhost:8080/",
          "height": 542
        },
        "id": "aMjeLEjZXEJt",
        "outputId": "ea4e29c4-f907-4af9-ef50-80d06ecde4e0"
      },
      "source": [
        "X = est.iloc[:,6:7].values\n",
        "y = est.iloc[:,7].values\n",
        "\n",
        "#print(X)\n",
        "\n",
        "cont_brt = np.reshape(X[:,0], (-1,1))\n",
        "\n",
        "\n",
        "#\n",
        "cont_brt_lr = LinearRegression()\n",
        "cont_brt_lr.fit(cont_brt, y)\n",
        "\n",
        "fig = go.Figure()\n",
        "\n",
        "\n",
        "fig.add_trace(go.Scatter(x=cont_brt.T[0], y=y, name='cont_brt', mode='markers'))\n",
        "\n",
        "\n",
        "fig.add_trace(go.Scatter(x=cont_brt.T[0], y=cont_brt_lr.predict(cont_brt), mode='lines', name='cont_brt'))\n",
        "\n",
        "fig.update_layout(xaxis={\"title\": \"Contagem Bruta\"},\n",
        "                  yaxis={\"title\": \"Contagem Liquida\"})\n",
        "\n",
        "fig.show()\n",
        "\n"
      ],
      "execution_count": 36,
      "outputs": [
        {
          "output_type": "display_data",
          "data": {
            "text/html": [
              "<html>\n",
              "<head><meta charset=\"utf-8\" /></head>\n",
              "<body>\n",
              "    <div>            <script src=\"https://cdnjs.cloudflare.com/ajax/libs/mathjax/2.7.5/MathJax.js?config=TeX-AMS-MML_SVG\"></script><script type=\"text/javascript\">if (window.MathJax && window.MathJax.Hub && window.MathJax.Hub.Config) {window.MathJax.Hub.Config({SVG: {font: \"STIX-Web\"}});}</script>                <script type=\"text/javascript\">window.PlotlyConfig = {MathJaxConfig: 'local'};</script>\n",
              "        <script charset=\"utf-8\" src=\"https://cdn.plot.ly/plotly-2.35.2.min.js\"></script>                <div id=\"613d5b16-783e-4587-a1ff-78a3b2641c16\" class=\"plotly-graph-div\" style=\"height:525px; width:100%;\"></div>            <script type=\"text/javascript\">                                    window.PLOTLYENV=window.PLOTLYENV || {};                                    if (document.getElementById(\"613d5b16-783e-4587-a1ff-78a3b2641c16\")) {                    Plotly.newPlot(                        \"613d5b16-783e-4587-a1ff-78a3b2641c16\",                        [{\"mode\":\"markers\",\"name\":\"cont_brt\",\"x\":[5.0,4.0,33.0,4.0,12.0,14.0,5.0,6.5,6.0,12.0,30.0,53.0,7.0,70.0,6.0,6.0,6.0,12.0,12.0,34.0,71.0,5.0,7.0,6.0,6.0,89.0,20.0,5.0,28.0,23.0,6.0,4.0,12.0,26.0,6.0,6.0,0.6,15.0,6.0,24.0,6.0,50.0,10.0,0.6,5.0,6.0,14.0,10.0,19.0,6.0,42.0,6.0,6.0,16.0,23.0,55.0,6.0,12.0,7.0,49.0,1.0,6.0,162.0,1.2,18.0,14.0,5.0,6.0,11.0,17.0,4.0,34.0,18.0,7.0,46.0,5.0,7.0,26.0,6.0,14.0,59.0,6.0,7.0,4.0,7.0,12.0,7.0,88.0,7.0,33.0,32.0,6.0,21.0,14.0,7.0,7.0,19.0,7.0,4.0,4.0,7.0,7.0,6.0,7.0,17.0,1.0,178.2,0.01,3.0,38.0,6.0,8.0,0.6,32.0,110.0,6.0,0.6,142.0,6.0,9.0,55.0,7.0,8.0,7.0,12.0,14.0,18.0,28.0,17.0,12.0,12.0,39.0,13.0,8.0,16.0,6.0,12.0,6.0,12.0,31.0,16.0,8.0,54.0,5.0,20.0,151.1,3.0,4.0,4.0,6.0,11.0,4.0,6.0,5.0,7.0,10.0,35.0,22.0,35.0,80.0,13.0,7.0,3.0,6.0,18.0,30.0,19.0,6.0,24.0,3.0,9.0,15.0,14.0,7.0,7.0,3.0,15.0,42.0,3.0,7.0,18.0,5.0,42.0,6.0,3.0,6.0,7.0,3.0,13.0,6.0,0.0,18.0,52.0,53.0,44.0,52.0,7.0,15.9,6.0,28.0,10.0,7.0,0.6,34.0,5.0,14.0,40.0,39.0,11.0,6.0,7.0,10.0,6.0,7.0,58.0,22.0,26.0,4.0,16.0,15.0,22.0,5.0,7.0,6.0,3.0,7.0,19.0,6.0,25.0,7.0,50.0,14.0,7.0,21.0,4.0,64.0,52.0,4.0,39.0,7.0,12.6,7.0,5.0,11.0,9.0,95.0,3.0,37.0,18.0,24.0,5.0,14.0,4.8,248.8,28.0,8.0,4.0,9.0,13.0,6.0,3.0,28.0,21.0,8.0,7.0,6.0,34.0,54.0,29.0,18.0,20.0,6.0,4.0,18.0,9.0,25.0,6.0,12.0,0.9,23.0,4.0,19.0,73.0,40.3,35.0,6.0,14.0,38.0,62.0,39.0,4.0,7.0,6.0,12.0,7.0,7.0,21.0,33.0,39.0,20.0,6.0,85.0,28.0,26.0,4.0,4.0,7.0,6.0,38.0,7.0,20.0,3.0,0.6,3.0,4.0,19.0,60.0,31.0,3.0,3.0,14.0,6.0,4.0,22.0,5.0,59.0,0.6,7.0,3.0,9.0,9.0,7.0,39.0,8.0,4.0,22.0,32.0,18.0,7.0,5.0,10.0,6.0,10.0,21.0,6.0,6.0,55.0,29.0,18.0,7.0,7.0,7.0,3.0,0.45,5.0,38.0,44.0,5.0,7.0,12.0,3.0,19.0,6.0,18.0,39.0,11.0,12.0,5.0,7.0,15.0,6.0,6.0,32.0,42.0,18.0,16.0,6.0,5.0,12.0,4.0,14.0,12.0,11.0,20.0,6.0,7.0,52.0,28.0,5.0,7.0,6.0,16.0,14.0,28.0,7.0,115.0,31.0,7.0,9.0,8.0,5.0,29.0,1.2,7.0,11.0,25.0,7.0,6.0,0.38,7.0,9.0,7.0,9.0,24.0,164.0,30.0,12.0,38.0,18.0,19.0,3.0,5.0,12.0,53.0,50.0,7.0,4.0,7.0,14.0,18.0,4.0,12.0,3.0,7.0,6.0,7.0,31.0,6.0,15.0,4.0,12.0,6.0,31.0,4.0,3.0,5.0,10.0,19.0,49.0,3.0,22.0,7.0,7.0,3.0,27.0,75.0,6.0,44.0,15.0,0.16,4.0,7.0,5.0,24.0,42.0,7.0,0.08,307.0,28.0,19.0],\"y\":[4.0,3.2,12.42,3.6,7.02,9.45,3.38,4.5,3.51,8.37,20.93,31.01,4.73,45.05,4.05,5.4,5.4,8.1,8.1,30.6,42.6,3.0,4.2,3.6,3.6,71.2,16.0,3.0,16.8,11.96,3.6,2.08,6.24,10.4,2.4,4.05,0.54,10.13,4.05,16.2,4.05,31.8,4.5,0.54,3.38,5.4,9.45,9.0,12.83,4.05,28.35,4.05,4.05,10.8,15.53,37.13,4.05,8.1,4.73,34.65,0.9,5.4,109.35,1.08,12.42,9.45,3.38,4.05,7.43,15.3,2.7,23.63,12.15,4.73,31.05,3.38,4.73,18.45,4.05,8.51,42.6,5.4,2.8,3.6,4.73,8.1,4.73,53.88,4.73,22.28,21.6,4.05,17.55,10.13,4.73,6.3,12.83,4.73,2.7,3.6,4.73,4.73,3.6,5.4,12.6,0.8,105.6,0.01,1.8,22.8,3.6,4.8,0.48,19.2,66.0,3.6,0.48,79.88,3.38,5.06,32.25,5.25,4.5,3.94,6.75,6.82,10.8,17.4,15.3,8.1,8.1,25.52,5.16,3.6,10.8,4.05,7.02,3.12,6.24,20.6,8.32,6.4,33.68,2.6,12.6,101.28,2.4,2.34,2.7,3.12,5.72,2.34,4.05,3.38,4.73,5.2,24.3,13.2,21.0,57.51,8.78,3.94,1.8,2.59,6.75,11.25,9.88,3.12,9.34,1.69,3.71,6.19,5.59,3.64,2.96,1.46,5.63,24.57,1.2,2.96,9.68,3.38,28.56,3.6,2.7,3.12,4.2,1.56,9.0,3.12,9.8,10.13,34.52,36.99,29.97,31.8,4.2,6.72,3.12,18.27,5.0,4.2,0.48,24.3,3.38,9.45,26.55,23.44,7.2,3.6,4.09,6.75,4.8,4.09,30.16,13.5,14.8,2.34,9.36,7.8,12.87,4.5,3.64,4.8,1.56,4.09,12.69,2.97,22.5,3.64,29.25,7.28,4.09,9.86,1.6,34.4,41.6,2.34,23.7,3.64,6.72,4.09,4.5,6.44,3.78,45.92,1.56,19.24,10.53,14.4,2.93,9.36,3.84,141.64,16.38,3.6,3.6,5.26,8.55,3.51,1.13,14.56,8.4,3.6,6.3,4.8,19.89,33.8,24.75,10.94,10.8,3.51,2.34,10.53,5.26,14.63,3.51,7.02,0.72,11.97,3.6,17.1,45.8,29.75,18.2,3.12,6.3,23.63,42.88,22.81,2.4,4.26,3.65,4.8,4.09,3.15,12.29,16.56,19.68,16.0,4.05,52.88,22.68,13.52,2.34,2.4,3.69,3.65,20.63,6.3,16.0,1.56,0.54,2.03,2.43,7.6,23.76,17.21,1.56,1.56,7.28,5.4,2.43,11.39,2.93,33.26,0.48,1.26,1.56,6.48,4.68,4.95,20.59,3.6,2.7,17.6,14.4,10.8,4.73,4.5,6.3,4.05,7.65,18.9,2.7,4.05,34.7,19.57,8.1,3.15,4.09,3.15,1.2,0.36,3.04,22.23,28.8,4.0,3.15,6.75,1.35,17.1,5.4,8.1,23.76,8.8,6.75,2.93,3.15,6.75,3.51,5.4,12.8,16.8,10.53,6.4,2.34,2.93,10.8,1.8,10.08,8.64,3.87,16.0,2.7,3.15,41.6,16.38,2.25,4.1,5.4,10.24,6.3,11.2,4.1,49.2,12.4,4.1,3.6,4.16,2.93,16.96,0.96,2.8,6.44,14.63,4.09,3.51,0.3,4.09,4.68,6.3,4.68,14.04,92.0,15.6,6.24,19.76,6.75,11.12,2.4,2.93,6.24,27.2,29.25,3.69,2.11,6.3,12.6,10.53,1.8,7.02,1.75,4.1,3.51,6.3,18.14,3.51,6.75,2.11,7.02,4.8,24.8,3.6,2.7,2.93,4.5,11.12,42.35,2.4,12.87,3.15,4.09,2.4,24.3,3.75,3.12,25.74,6.36,0.14,2.34,3.69,2.93,12.64,23.24,4.26,0.07,73.68,16.52,11.12],\"type\":\"scatter\"},{\"mode\":\"lines\",\"name\":\"cont_brt\",\"x\":[5.0,4.0,33.0,4.0,12.0,14.0,5.0,6.5,6.0,12.0,30.0,53.0,7.0,70.0,6.0,6.0,6.0,12.0,12.0,34.0,71.0,5.0,7.0,6.0,6.0,89.0,20.0,5.0,28.0,23.0,6.0,4.0,12.0,26.0,6.0,6.0,0.6,15.0,6.0,24.0,6.0,50.0,10.0,0.6,5.0,6.0,14.0,10.0,19.0,6.0,42.0,6.0,6.0,16.0,23.0,55.0,6.0,12.0,7.0,49.0,1.0,6.0,162.0,1.2,18.0,14.0,5.0,6.0,11.0,17.0,4.0,34.0,18.0,7.0,46.0,5.0,7.0,26.0,6.0,14.0,59.0,6.0,7.0,4.0,7.0,12.0,7.0,88.0,7.0,33.0,32.0,6.0,21.0,14.0,7.0,7.0,19.0,7.0,4.0,4.0,7.0,7.0,6.0,7.0,17.0,1.0,178.2,0.01,3.0,38.0,6.0,8.0,0.6,32.0,110.0,6.0,0.6,142.0,6.0,9.0,55.0,7.0,8.0,7.0,12.0,14.0,18.0,28.0,17.0,12.0,12.0,39.0,13.0,8.0,16.0,6.0,12.0,6.0,12.0,31.0,16.0,8.0,54.0,5.0,20.0,151.1,3.0,4.0,4.0,6.0,11.0,4.0,6.0,5.0,7.0,10.0,35.0,22.0,35.0,80.0,13.0,7.0,3.0,6.0,18.0,30.0,19.0,6.0,24.0,3.0,9.0,15.0,14.0,7.0,7.0,3.0,15.0,42.0,3.0,7.0,18.0,5.0,42.0,6.0,3.0,6.0,7.0,3.0,13.0,6.0,0.0,18.0,52.0,53.0,44.0,52.0,7.0,15.9,6.0,28.0,10.0,7.0,0.6,34.0,5.0,14.0,40.0,39.0,11.0,6.0,7.0,10.0,6.0,7.0,58.0,22.0,26.0,4.0,16.0,15.0,22.0,5.0,7.0,6.0,3.0,7.0,19.0,6.0,25.0,7.0,50.0,14.0,7.0,21.0,4.0,64.0,52.0,4.0,39.0,7.0,12.6,7.0,5.0,11.0,9.0,95.0,3.0,37.0,18.0,24.0,5.0,14.0,4.8,248.8,28.0,8.0,4.0,9.0,13.0,6.0,3.0,28.0,21.0,8.0,7.0,6.0,34.0,54.0,29.0,18.0,20.0,6.0,4.0,18.0,9.0,25.0,6.0,12.0,0.9,23.0,4.0,19.0,73.0,40.3,35.0,6.0,14.0,38.0,62.0,39.0,4.0,7.0,6.0,12.0,7.0,7.0,21.0,33.0,39.0,20.0,6.0,85.0,28.0,26.0,4.0,4.0,7.0,6.0,38.0,7.0,20.0,3.0,0.6,3.0,4.0,19.0,60.0,31.0,3.0,3.0,14.0,6.0,4.0,22.0,5.0,59.0,0.6,7.0,3.0,9.0,9.0,7.0,39.0,8.0,4.0,22.0,32.0,18.0,7.0,5.0,10.0,6.0,10.0,21.0,6.0,6.0,55.0,29.0,18.0,7.0,7.0,7.0,3.0,0.45,5.0,38.0,44.0,5.0,7.0,12.0,3.0,19.0,6.0,18.0,39.0,11.0,12.0,5.0,7.0,15.0,6.0,6.0,32.0,42.0,18.0,16.0,6.0,5.0,12.0,4.0,14.0,12.0,11.0,20.0,6.0,7.0,52.0,28.0,5.0,7.0,6.0,16.0,14.0,28.0,7.0,115.0,31.0,7.0,9.0,8.0,5.0,29.0,1.2,7.0,11.0,25.0,7.0,6.0,0.38,7.0,9.0,7.0,9.0,24.0,164.0,30.0,12.0,38.0,18.0,19.0,3.0,5.0,12.0,53.0,50.0,7.0,4.0,7.0,14.0,18.0,4.0,12.0,3.0,7.0,6.0,7.0,31.0,6.0,15.0,4.0,12.0,6.0,31.0,4.0,3.0,5.0,10.0,19.0,49.0,3.0,22.0,7.0,7.0,3.0,27.0,75.0,6.0,44.0,15.0,0.16,4.0,7.0,5.0,24.0,42.0,7.0,0.08,307.0,28.0,19.0],\"y\":[4.175804219728308,3.665349504752208,18.46853623905911,3.665349504752208,7.7489872245610085,8.769896654513209,4.175804219728308,4.941486292192458,4.686258934704409,7.7489872245610085,16.93717209413081,28.677630538581113,5.196713649680508,37.355360693174816,4.686258934704409,4.686258934704409,4.686258934704409,7.7489872245610085,7.7489872245610085,18.97899095403521,37.86581540815091,4.175804219728308,5.196713649680508,4.686258934704409,4.686258934704409,47.05400027772072,11.832624944369808,4.175804219728308,15.91626266417861,13.363989089298109,4.686258934704409,3.665349504752208,7.7489872245610085,14.895353234226409,4.686258934704409,4.686258934704409,1.9298034738334677,9.28035136948931,4.686258934704409,13.87444380427421,4.686258934704409,27.146266393652812,6.728077794608808,1.9298034738334677,4.175804219728308,4.686258934704409,8.769896654513209,6.728077794608808,11.32217022939371,4.686258934704409,23.06262867384401,4.686258934704409,4.686258934704409,9.790806084465409,13.363989089298109,29.69853996853331,4.686258934704409,7.7489872245610085,5.196713649680508,26.63581167867671,2.1339853598239076,4.686258934704409,84.31719447097602,2.2360763028191277,10.811715514417608,8.769896654513209,4.175804219728308,4.686258934704409,7.238532509584909,10.30126079944151,3.665349504752208,18.97899095403521,10.811715514417608,5.196713649680508,25.10444753374841,4.175804219728308,5.196713649680508,14.895353234226409,4.686258934704409,8.769896654513209,31.74035882843771,4.686258934704409,5.196713649680508,3.665349504752208,5.196713649680508,7.7489872245610085,5.196713649680508,46.54354556274461,5.196713649680508,18.46853623905911,17.95808152408301,4.686258934704409,12.343079659345909,8.769896654513209,5.196713649680508,5.196713649680508,11.32217022939371,5.196713649680508,3.665349504752208,3.665349504752208,5.196713649680508,5.196713649680508,4.686258934704409,5.196713649680508,10.30126079944151,2.1339853598239076,92.58656085358884,1.6286351919975688,3.154894789776108,21.02080981393961,4.686258934704409,5.707168364656608,1.9298034738334677,17.95808152408301,57.77354929221882,4.686258934704409,1.9298034738334677,74.10810017145401,4.686258934704409,6.217623079632708,29.69853996853331,5.196713649680508,5.707168364656608,5.196713649680508,7.7489872245610085,8.769896654513209,10.811715514417608,15.91626266417861,10.30126079944151,7.7489872245610085,7.7489872245610085,21.53126452891571,8.259441939537108,5.707168364656608,9.790806084465409,4.686258934704409,7.7489872245610085,4.686258934704409,7.7489872245610085,17.447626809106907,9.790806084465409,5.707168364656608,29.18808525355721,4.175804219728308,11.832624944369808,78.75323807773653,3.154894789776108,3.665349504752208,3.665349504752208,4.686258934704409,7.238532509584909,3.665349504752208,4.686258934704409,4.175804219728308,5.196713649680508,6.728077794608808,19.48944566901131,12.85353437432201,19.48944566901131,42.459907842935806,8.259441939537108,5.196713649680508,3.154894789776108,4.686258934704409,10.811715514417608,16.93717209413081,11.32217022939371,4.686258934704409,13.87444380427421,3.154894789776108,6.217623079632708,9.28035136948931,8.769896654513209,5.196713649680508,5.196713649680508,3.154894789776108,9.28035136948931,23.06262867384401,3.154894789776108,5.196713649680508,10.811715514417608,4.175804219728308,23.06262867384401,4.686258934704409,3.154894789776108,4.686258934704409,5.196713649680508,3.154894789776108,8.259441939537108,4.686258934704409,1.6235306448478077,10.811715514417608,28.16717582360501,28.677630538581113,24.08353810379621,28.16717582360501,5.196713649680508,9.7397606129678,4.686258934704409,15.91626266417861,6.728077794608808,5.196713649680508,1.9298034738334677,18.97899095403521,4.175804219728308,8.769896654513209,22.04171924389181,21.53126452891571,7.238532509584909,4.686258934704409,5.196713649680508,6.728077794608808,4.686258934704409,5.196713649680508,31.22990411346161,12.85353437432201,14.895353234226409,3.665349504752208,9.790806084465409,9.28035136948931,12.85353437432201,4.175804219728308,5.196713649680508,4.686258934704409,3.154894789776108,5.196713649680508,11.32217022939371,4.686258934704409,14.38489851925031,5.196713649680508,27.146266393652812,8.769896654513209,5.196713649680508,12.343079659345909,3.665349504752208,34.29263240331821,28.16717582360501,3.665349504752208,21.53126452891571,5.196713649680508,8.055260053546668,5.196713649680508,4.175804219728308,7.238532509584909,6.217623079632708,50.11672856757731,3.154894789776108,20.51035509896351,10.811715514417608,13.87444380427421,4.175804219728308,8.769896654513209,4.073713276733088,128.62466373090152,15.91626266417861,5.707168364656608,3.665349504752208,6.217623079632708,8.259441939537108,4.686258934704409,3.154894789776108,15.91626266417861,12.343079659345909,5.707168364656608,5.196713649680508,4.686258934704409,18.97899095403521,29.18808525355721,16.42671737915471,10.811715514417608,11.832624944369808,4.686258934704409,3.665349504752208,10.811715514417608,6.217623079632708,14.38489851925031,4.686258934704409,7.7489872245610085,2.082939888326298,13.363989089298109,3.665349504752208,11.32217022939371,38.886724838103106,22.19485565838464,19.48944566901131,4.686258934704409,8.769896654513209,21.02080981393961,33.27172297336601,21.53126452891571,3.665349504752208,5.196713649680508,4.686258934704409,7.7489872245610085,5.196713649680508,5.196713649680508,12.343079659345909,18.46853623905911,21.53126452891571,11.832624944369808,4.686258934704409,45.01218141781631,15.91626266417861,14.895353234226409,3.665349504752208,3.665349504752208,5.196713649680508,4.686258934704409,21.02080981393961,5.196713649680508,11.832624944369808,3.154894789776108,1.9298034738334677,3.154894789776108,3.665349504752208,11.32217022939371,32.25081354341381,17.447626809106907,3.154894789776108,3.154894789776108,8.769896654513209,4.686258934704409,3.665349504752208,12.85353437432201,4.175804219728308,31.74035882843771,1.9298034738334677,5.196713649680508,3.154894789776108,6.217623079632708,6.217623079632708,5.196713649680508,21.53126452891571,5.707168364656608,3.665349504752208,12.85353437432201,17.95808152408301,10.811715514417608,5.196713649680508,4.175804219728308,6.728077794608808,4.686258934704409,6.728077794608808,12.343079659345909,4.686258934704409,4.686258934704409,29.69853996853331,16.42671737915471,10.811715514417608,5.196713649680508,5.196713649680508,5.196713649680508,3.154894789776108,1.8532352665870528,4.175804219728308,21.02080981393961,24.08353810379621,4.175804219728308,5.196713649680508,7.7489872245610085,3.154894789776108,11.32217022939371,4.686258934704409,10.811715514417608,21.53126452891571,7.238532509584909,7.7489872245610085,4.175804219728308,5.196713649680508,9.28035136948931,4.686258934704409,4.686258934704409,17.95808152408301,23.06262867384401,10.811715514417608,9.790806084465409,4.686258934704409,4.175804219728308,7.7489872245610085,3.665349504752208,8.769896654513209,7.7489872245610085,7.238532509584909,11.832624944369808,4.686258934704409,5.196713649680508,28.16717582360501,15.91626266417861,4.175804219728308,5.196713649680508,4.686258934704409,9.790806084465409,8.769896654513209,15.91626266417861,5.196713649680508,60.32582286709932,17.447626809106907,5.196713649680508,6.217623079632708,5.707168364656608,4.175804219728308,16.42671737915471,2.2360763028191277,5.196713649680508,7.238532509584909,14.38489851925031,5.196713649680508,4.686258934704409,1.8175034365387257,5.196713649680508,6.217623079632708,5.196713649680508,6.217623079632708,13.87444380427421,85.33810390092822,16.93717209413081,7.7489872245610085,21.02080981393961,10.811715514417608,11.32217022939371,3.154894789776108,4.175804219728308,7.7489872245610085,28.677630538581113,27.146266393652812,5.196713649680508,3.665349504752208,5.196713649680508,8.769896654513209,10.811715514417608,3.665349504752208,7.7489872245610085,3.154894789776108,5.196713649680508,4.686258934704409,5.196713649680508,17.447626809106907,4.686258934704409,9.28035136948931,3.665349504752208,7.7489872245610085,4.686258934704409,17.447626809106907,3.665349504752208,3.154894789776108,4.175804219728308,6.728077794608808,11.32217022939371,26.63581167867671,3.154894789776108,12.85353437432201,5.196713649680508,5.196713649680508,3.154894789776108,15.40580794920251,39.90763426805532,4.686258934704409,24.08353810379621,9.28035136948931,1.7052033992439837,3.665349504752208,5.196713649680508,4.175804219728308,13.87444380427421,23.06262867384401,5.196713649680508,1.6643670220458957,158.33312814251053,15.91626266417861,11.32217022939371],\"type\":\"scatter\"}],                        {\"template\":{\"data\":{\"histogram2dcontour\":[{\"type\":\"histogram2dcontour\",\"colorbar\":{\"outlinewidth\":0,\"ticks\":\"\"},\"colorscale\":[[0.0,\"#0d0887\"],[0.1111111111111111,\"#46039f\"],[0.2222222222222222,\"#7201a8\"],[0.3333333333333333,\"#9c179e\"],[0.4444444444444444,\"#bd3786\"],[0.5555555555555556,\"#d8576b\"],[0.6666666666666666,\"#ed7953\"],[0.7777777777777778,\"#fb9f3a\"],[0.8888888888888888,\"#fdca26\"],[1.0,\"#f0f921\"]]}],\"choropleth\":[{\"type\":\"choropleth\",\"colorbar\":{\"outlinewidth\":0,\"ticks\":\"\"}}],\"histogram2d\":[{\"type\":\"histogram2d\",\"colorbar\":{\"outlinewidth\":0,\"ticks\":\"\"},\"colorscale\":[[0.0,\"#0d0887\"],[0.1111111111111111,\"#46039f\"],[0.2222222222222222,\"#7201a8\"],[0.3333333333333333,\"#9c179e\"],[0.4444444444444444,\"#bd3786\"],[0.5555555555555556,\"#d8576b\"],[0.6666666666666666,\"#ed7953\"],[0.7777777777777778,\"#fb9f3a\"],[0.8888888888888888,\"#fdca26\"],[1.0,\"#f0f921\"]]}],\"heatmap\":[{\"type\":\"heatmap\",\"colorbar\":{\"outlinewidth\":0,\"ticks\":\"\"},\"colorscale\":[[0.0,\"#0d0887\"],[0.1111111111111111,\"#46039f\"],[0.2222222222222222,\"#7201a8\"],[0.3333333333333333,\"#9c179e\"],[0.4444444444444444,\"#bd3786\"],[0.5555555555555556,\"#d8576b\"],[0.6666666666666666,\"#ed7953\"],[0.7777777777777778,\"#fb9f3a\"],[0.8888888888888888,\"#fdca26\"],[1.0,\"#f0f921\"]]}],\"heatmapgl\":[{\"type\":\"heatmapgl\",\"colorbar\":{\"outlinewidth\":0,\"ticks\":\"\"},\"colorscale\":[[0.0,\"#0d0887\"],[0.1111111111111111,\"#46039f\"],[0.2222222222222222,\"#7201a8\"],[0.3333333333333333,\"#9c179e\"],[0.4444444444444444,\"#bd3786\"],[0.5555555555555556,\"#d8576b\"],[0.6666666666666666,\"#ed7953\"],[0.7777777777777778,\"#fb9f3a\"],[0.8888888888888888,\"#fdca26\"],[1.0,\"#f0f921\"]]}],\"contourcarpet\":[{\"type\":\"contourcarpet\",\"colorbar\":{\"outlinewidth\":0,\"ticks\":\"\"}}],\"contour\":[{\"type\":\"contour\",\"colorbar\":{\"outlinewidth\":0,\"ticks\":\"\"},\"colorscale\":[[0.0,\"#0d0887\"],[0.1111111111111111,\"#46039f\"],[0.2222222222222222,\"#7201a8\"],[0.3333333333333333,\"#9c179e\"],[0.4444444444444444,\"#bd3786\"],[0.5555555555555556,\"#d8576b\"],[0.6666666666666666,\"#ed7953\"],[0.7777777777777778,\"#fb9f3a\"],[0.8888888888888888,\"#fdca26\"],[1.0,\"#f0f921\"]]}],\"surface\":[{\"type\":\"surface\",\"colorbar\":{\"outlinewidth\":0,\"ticks\":\"\"},\"colorscale\":[[0.0,\"#0d0887\"],[0.1111111111111111,\"#46039f\"],[0.2222222222222222,\"#7201a8\"],[0.3333333333333333,\"#9c179e\"],[0.4444444444444444,\"#bd3786\"],[0.5555555555555556,\"#d8576b\"],[0.6666666666666666,\"#ed7953\"],[0.7777777777777778,\"#fb9f3a\"],[0.8888888888888888,\"#fdca26\"],[1.0,\"#f0f921\"]]}],\"mesh3d\":[{\"type\":\"mesh3d\",\"colorbar\":{\"outlinewidth\":0,\"ticks\":\"\"}}],\"scatter\":[{\"fillpattern\":{\"fillmode\":\"overlay\",\"size\":10,\"solidity\":0.2},\"type\":\"scatter\"}],\"parcoords\":[{\"type\":\"parcoords\",\"line\":{\"colorbar\":{\"outlinewidth\":0,\"ticks\":\"\"}}}],\"scatterpolargl\":[{\"type\":\"scatterpolargl\",\"marker\":{\"colorbar\":{\"outlinewidth\":0,\"ticks\":\"\"}}}],\"bar\":[{\"error_x\":{\"color\":\"#2a3f5f\"},\"error_y\":{\"color\":\"#2a3f5f\"},\"marker\":{\"line\":{\"color\":\"#E5ECF6\",\"width\":0.5},\"pattern\":{\"fillmode\":\"overlay\",\"size\":10,\"solidity\":0.2}},\"type\":\"bar\"}],\"scattergeo\":[{\"type\":\"scattergeo\",\"marker\":{\"colorbar\":{\"outlinewidth\":0,\"ticks\":\"\"}}}],\"scatterpolar\":[{\"type\":\"scatterpolar\",\"marker\":{\"colorbar\":{\"outlinewidth\":0,\"ticks\":\"\"}}}],\"histogram\":[{\"marker\":{\"pattern\":{\"fillmode\":\"overlay\",\"size\":10,\"solidity\":0.2}},\"type\":\"histogram\"}],\"scattergl\":[{\"type\":\"scattergl\",\"marker\":{\"colorbar\":{\"outlinewidth\":0,\"ticks\":\"\"}}}],\"scatter3d\":[{\"type\":\"scatter3d\",\"line\":{\"colorbar\":{\"outlinewidth\":0,\"ticks\":\"\"}},\"marker\":{\"colorbar\":{\"outlinewidth\":0,\"ticks\":\"\"}}}],\"scattermapbox\":[{\"type\":\"scattermapbox\",\"marker\":{\"colorbar\":{\"outlinewidth\":0,\"ticks\":\"\"}}}],\"scatterternary\":[{\"type\":\"scatterternary\",\"marker\":{\"colorbar\":{\"outlinewidth\":0,\"ticks\":\"\"}}}],\"scattercarpet\":[{\"type\":\"scattercarpet\",\"marker\":{\"colorbar\":{\"outlinewidth\":0,\"ticks\":\"\"}}}],\"carpet\":[{\"aaxis\":{\"endlinecolor\":\"#2a3f5f\",\"gridcolor\":\"white\",\"linecolor\":\"white\",\"minorgridcolor\":\"white\",\"startlinecolor\":\"#2a3f5f\"},\"baxis\":{\"endlinecolor\":\"#2a3f5f\",\"gridcolor\":\"white\",\"linecolor\":\"white\",\"minorgridcolor\":\"white\",\"startlinecolor\":\"#2a3f5f\"},\"type\":\"carpet\"}],\"table\":[{\"cells\":{\"fill\":{\"color\":\"#EBF0F8\"},\"line\":{\"color\":\"white\"}},\"header\":{\"fill\":{\"color\":\"#C8D4E3\"},\"line\":{\"color\":\"white\"}},\"type\":\"table\"}],\"barpolar\":[{\"marker\":{\"line\":{\"color\":\"#E5ECF6\",\"width\":0.5},\"pattern\":{\"fillmode\":\"overlay\",\"size\":10,\"solidity\":0.2}},\"type\":\"barpolar\"}],\"pie\":[{\"automargin\":true,\"type\":\"pie\"}]},\"layout\":{\"autotypenumbers\":\"strict\",\"colorway\":[\"#636efa\",\"#EF553B\",\"#00cc96\",\"#ab63fa\",\"#FFA15A\",\"#19d3f3\",\"#FF6692\",\"#B6E880\",\"#FF97FF\",\"#FECB52\"],\"font\":{\"color\":\"#2a3f5f\"},\"hovermode\":\"closest\",\"hoverlabel\":{\"align\":\"left\"},\"paper_bgcolor\":\"white\",\"plot_bgcolor\":\"#E5ECF6\",\"polar\":{\"bgcolor\":\"#E5ECF6\",\"angularaxis\":{\"gridcolor\":\"white\",\"linecolor\":\"white\",\"ticks\":\"\"},\"radialaxis\":{\"gridcolor\":\"white\",\"linecolor\":\"white\",\"ticks\":\"\"}},\"ternary\":{\"bgcolor\":\"#E5ECF6\",\"aaxis\":{\"gridcolor\":\"white\",\"linecolor\":\"white\",\"ticks\":\"\"},\"baxis\":{\"gridcolor\":\"white\",\"linecolor\":\"white\",\"ticks\":\"\"},\"caxis\":{\"gridcolor\":\"white\",\"linecolor\":\"white\",\"ticks\":\"\"}},\"coloraxis\":{\"colorbar\":{\"outlinewidth\":0,\"ticks\":\"\"}},\"colorscale\":{\"sequential\":[[0.0,\"#0d0887\"],[0.1111111111111111,\"#46039f\"],[0.2222222222222222,\"#7201a8\"],[0.3333333333333333,\"#9c179e\"],[0.4444444444444444,\"#bd3786\"],[0.5555555555555556,\"#d8576b\"],[0.6666666666666666,\"#ed7953\"],[0.7777777777777778,\"#fb9f3a\"],[0.8888888888888888,\"#fdca26\"],[1.0,\"#f0f921\"]],\"sequentialminus\":[[0.0,\"#0d0887\"],[0.1111111111111111,\"#46039f\"],[0.2222222222222222,\"#7201a8\"],[0.3333333333333333,\"#9c179e\"],[0.4444444444444444,\"#bd3786\"],[0.5555555555555556,\"#d8576b\"],[0.6666666666666666,\"#ed7953\"],[0.7777777777777778,\"#fb9f3a\"],[0.8888888888888888,\"#fdca26\"],[1.0,\"#f0f921\"]],\"diverging\":[[0,\"#8e0152\"],[0.1,\"#c51b7d\"],[0.2,\"#de77ae\"],[0.3,\"#f1b6da\"],[0.4,\"#fde0ef\"],[0.5,\"#f7f7f7\"],[0.6,\"#e6f5d0\"],[0.7,\"#b8e186\"],[0.8,\"#7fbc41\"],[0.9,\"#4d9221\"],[1,\"#276419\"]]},\"xaxis\":{\"gridcolor\":\"white\",\"linecolor\":\"white\",\"ticks\":\"\",\"title\":{\"standoff\":15},\"zerolinecolor\":\"white\",\"automargin\":true,\"zerolinewidth\":2},\"yaxis\":{\"gridcolor\":\"white\",\"linecolor\":\"white\",\"ticks\":\"\",\"title\":{\"standoff\":15},\"zerolinecolor\":\"white\",\"automargin\":true,\"zerolinewidth\":2},\"scene\":{\"xaxis\":{\"backgroundcolor\":\"#E5ECF6\",\"gridcolor\":\"white\",\"linecolor\":\"white\",\"showbackground\":true,\"ticks\":\"\",\"zerolinecolor\":\"white\",\"gridwidth\":2},\"yaxis\":{\"backgroundcolor\":\"#E5ECF6\",\"gridcolor\":\"white\",\"linecolor\":\"white\",\"showbackground\":true,\"ticks\":\"\",\"zerolinecolor\":\"white\",\"gridwidth\":2},\"zaxis\":{\"backgroundcolor\":\"#E5ECF6\",\"gridcolor\":\"white\",\"linecolor\":\"white\",\"showbackground\":true,\"ticks\":\"\",\"zerolinecolor\":\"white\",\"gridwidth\":2}},\"shapedefaults\":{\"line\":{\"color\":\"#2a3f5f\"}},\"annotationdefaults\":{\"arrowcolor\":\"#2a3f5f\",\"arrowhead\":0,\"arrowwidth\":1},\"geo\":{\"bgcolor\":\"white\",\"landcolor\":\"#E5ECF6\",\"subunitcolor\":\"white\",\"showland\":true,\"showlakes\":true,\"lakecolor\":\"white\"},\"title\":{\"x\":0.05},\"mapbox\":{\"style\":\"light\"}}},\"xaxis\":{\"title\":{\"text\":\"Contagem Bruta\"}},\"yaxis\":{\"title\":{\"text\":\"Contagem Liquida\"}}},                        {\"responsive\": true}                    ).then(function(){\n",
              "                            \n",
              "var gd = document.getElementById('613d5b16-783e-4587-a1ff-78a3b2641c16');\n",
              "var x = new MutationObserver(function (mutations, observer) {{\n",
              "        var display = window.getComputedStyle(gd).display;\n",
              "        if (!display || display === 'none') {{\n",
              "            console.log([gd, 'removed!']);\n",
              "            Plotly.purge(gd);\n",
              "            observer.disconnect();\n",
              "        }}\n",
              "}});\n",
              "\n",
              "// Listen for the removal of the full notebook cells\n",
              "var notebookContainer = gd.closest('#notebook-container');\n",
              "if (notebookContainer) {{\n",
              "    x.observe(notebookContainer, {childList: true});\n",
              "}}\n",
              "\n",
              "// Listen for the clearing of the current output cell\n",
              "var outputEl = gd.closest('.output');\n",
              "if (outputEl) {{\n",
              "    x.observe(outputEl, {childList: true});\n",
              "}}\n",
              "\n",
              "                        })                };                            </script>        </div>\n",
              "</body>\n",
              "</html>"
            ]
          },
          "metadata": {}
        }
      ]
    },
    {
      "cell_type": "code",
      "metadata": {
        "id": "HPjavl6KYgnB"
      },
      "source": [
        "poly_reg = PolynomialFeatures(degree=4)\n",
        "X_poly = poly_reg.fit_transform(X)\n",
        "#X"
      ],
      "execution_count": 37,
      "outputs": []
    },
    {
      "cell_type": "code",
      "metadata": {
        "colab": {
          "base_uri": "https://localhost:8080/"
        },
        "id": "BH75U7vbZCLx",
        "outputId": "152b8128-545e-46bc-f673-81cf31efbcb4"
      },
      "source": [
        "#print(X)\n",
        "\n",
        "X5 = sm.add_constant(X_poly)\n",
        "X5_OLS = sm.OLS(y, X5)\n",
        "X5_OLS = X5_OLS.fit()\n",
        "print(X5_OLS.summary())"
      ],
      "execution_count": 38,
      "outputs": [
        {
          "output_type": "stream",
          "name": "stdout",
          "text": [
            "                            OLS Regression Results                            \n",
            "==============================================================================\n",
            "Dep. Variable:                      y   R-squared:                       0.951\n",
            "Model:                            OLS   Adj. R-squared:                  0.950\n",
            "Method:                 Least Squares   F-statistic:                     2243.\n",
            "Date:                Tue, 13 May 2025   Prob (F-statistic):          2.45e-302\n",
            "Time:                        02:44:55   Log-Likelihood:                -1250.2\n",
            "No. Observations:                 470   AIC:                             2510.\n",
            "Df Residuals:                     465   BIC:                             2531.\n",
            "Df Model:                           4                                         \n",
            "Covariance Type:            nonrobust                                         \n",
            "==============================================================================\n",
            "                 coef    std err          t      P>|t|      [0.025      0.975]\n",
            "------------------------------------------------------------------------------\n",
            "const         -0.6826      0.326     -2.097      0.037      -1.322      -0.043\n",
            "x1             0.7483      0.035     21.659      0.000       0.680       0.816\n",
            "x2            -0.0046      0.001     -5.826      0.000      -0.006      -0.003\n",
            "x3          3.908e-05   5.28e-06      7.404      0.000    2.87e-05    4.95e-05\n",
            "x4         -9.595e-08   1.02e-08     -9.399      0.000   -1.16e-07   -7.59e-08\n",
            "==============================================================================\n",
            "Omnibus:                      368.522   Durbin-Watson:                   1.851\n",
            "Prob(Omnibus):                  0.000   Jarque-Bera (JB):            31340.749\n",
            "Skew:                          -2.678   Prob(JB):                         0.00\n",
            "Kurtosis:                      42.644   Cond. No.                     9.21e+08\n",
            "==============================================================================\n",
            "\n",
            "Notes:\n",
            "[1] Standard Errors assume that the covariance matrix of the errors is correctly specified.\n",
            "[2] The condition number is large, 9.21e+08. This might indicate that there are\n",
            "strong multicollinearity or other numerical problems.\n"
          ]
        }
      ]
    },
    {
      "cell_type": "code",
      "metadata": {
        "colab": {
          "base_uri": "https://localhost:8080/",
          "height": 519
        },
        "id": "rY7dVOMcbrVL",
        "outputId": "2effda3e-6c7d-4b7c-d356-86b336234d67"
      },
      "source": [
        "#\n",
        "#print(X_poly)\n",
        "\n",
        "fig, ax = plt.subplots(2,2)\n",
        "ax[0,0].scatter(X_poly.T[0],y)\n",
        "ax[0,0].plot(X_poly.T[0],y,color='red')\n",
        "\n",
        "\n",
        "ax[0,1].scatter(X_poly.T[1],y)\n",
        "ax[0,1].plot(X_poly.T[1],y,color='red')\n",
        "\n",
        "\n",
        "ax[1,0].scatter(X_poly.T[2],y)\n",
        "ax[1,0].plot(X_poly.T[2],y,color='red')\n",
        "\n",
        "ax[1,1].scatter(X_poly.T[3],y)\n",
        "ax[1,1].plot(X_poly.T[3],y,color='red')"
      ],
      "execution_count": 39,
      "outputs": [
        {
          "output_type": "execute_result",
          "data": {
            "text/plain": [
              "[<matplotlib.lines.Line2D at 0x7fe649d08410>]"
            ]
          },
          "metadata": {},
          "execution_count": 39
        },
        {
          "output_type": "display_data",
          "data": {
            "text/plain": [
              "<Figure size 800x550 with 4 Axes>"
            ],
            "image/png": "[encoded data removed]"
          },
          "metadata": {}
        }
      ]
    },
    {
      "cell_type": "code",
      "metadata": {
        "id": "b-O2HFfp8Oss"
      },
      "source": [],
      "execution_count": null,
      "outputs": []
    },
    {
      "cell_type": "markdown",
      "metadata": {
        "id": "WGtAhloGg9Dc"
      },
      "source": [
        "**Análise**\n",
        "\n",
        "Lendo o Livro Estatística Aplicada entendi que utilizando os ajustes que são o Linear, o Exponencial e o Polinomial teriamos coeficientes de explicação diferentes e poderíamos escolher qual usar que se ajuste melhor aos dados. Nos dados em estudo não soube utilizar muito bem, talvez mais alguns testes podem nos levar a ajustar esse valores"
      ]
    },
    {
      "cell_type": "markdown",
      "metadata": {
        "id": "kJcRAvfVe_9u"
      },
      "source": [
        "# Regression Tree"
      ]
    },
    {
      "cell_type": "code",
      "metadata": {
        "colab": {
          "base_uri": "https://localhost:8080/",
          "height": 299
        },
        "id": "a-yoM-YIfCUX",
        "outputId": "4bc25498-4736-4cff-d30d-2f3acb0e4bb0"
      },
      "source": [
        "from sklearn.tree import DecisionTreeRegressor\n",
        "regr = DecisionTreeRegressor(max_depth=3)\n",
        "regr.fit(X, y)\n",
        "\n",
        "\n",
        "from sklearn.tree import export_graphviz\n",
        "from io import StringIO\n",
        "import pydot\n",
        "from IPython.display import Image\n",
        "\n",
        "dot_data = StringIO()\n",
        "\n",
        "export_graphviz(regr, out_file=dot_data,feature_names=['contagem_estimada_pf'], class_names=None, filled=True)\n",
        "graph, = pydot.graph_from_dot_data(dot_data.getvalue())\n",
        "Image(graph.create_png())"
      ],
      "execution_count": 44,
      "outputs": [
        {
          "output_type": "execute_result",
          "data": {
            "image/png": "[encoded data removed]",
            "text/plain": [
              "<IPython.core.display.Image object>"
            ]
          },
          "metadata": {},
          "execution_count": 44
        }
      ]
    }
  ]
}